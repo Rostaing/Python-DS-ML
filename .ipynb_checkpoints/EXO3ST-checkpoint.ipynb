{
 "cells": [
  {
   "cell_type": "code",
   "execution_count": 2,
   "metadata": {},
   "outputs": [
    {
     "name": "stdout",
     "output_type": "stream",
     "text": [
      "1.CREER UNE LISTE\n",
      " \n",
      "Liste crée\n",
      " \n",
      "Ma liste =  ['astria', 'crepin', '45', '55', '10', '20', 'caleb']\n"
     ]
    }
   ],
   "source": [
    "#1. Créer la liste\n",
    "print(\"1.CREER UNE LISTE\")\n",
    "print(\" \")\n",
    "\n",
    "ma_liste=['astria','crepin','45','55','10','20','caleb']\n",
    "print(\"Liste crée\")\n",
    "print(\" \")\n",
    "print(\"Ma liste = \",ma_liste)"
   ]
  },
  {
   "cell_type": "code",
   "execution_count": 6,
   "metadata": {},
   "outputs": [
    {
     "name": "stdout",
     "output_type": "stream",
     "text": [
      "2.AJOUTER UN ELEMENT A LA LISTE\n",
      " \n",
      "Entrez l'élement : 30\n",
      " \n",
      "Elément ajouté avec succes\n",
      " \n",
      "ma liste =  ['astria', 'crepin', '45', '55', '10', '20', 'astria', '30']\n"
     ]
    }
   ],
   "source": [
    "#2. Ajouter un élément\n",
    "\n",
    "print(\"2.AJOUTER UN ELEMENT A LA LISTE\")\n",
    "print(\" \")\n",
    "\n",
    "ch2b=input(\"Entrez l'élement : \")\n",
    "print(\" \")\n",
    "ma_liste.append(ch2b)\n",
    "\n",
    "print(\"Elément ajouté avec succes\")\n",
    "print(\" \")\n",
    "print(\"ma liste = \",ma_liste)"
   ]
  },
  {
   "cell_type": "code",
   "execution_count": 4,
   "metadata": {},
   "outputs": [
    {
     "name": "stdout",
     "output_type": "stream",
     "text": [
      "3.RECHERCHER UN ELEMENT DANS LA LISTE\n",
      " \n",
      "Entrez l'élement à rechercher : caleb\n",
      " \n",
      "caleb  existe!!\n"
     ]
    }
   ],
   "source": [
    "#3. Rechercher un élément\n",
    "\n",
    "print(\"3.RECHERCHER UN ELEMENT DANS LA LISTE\")\n",
    "print(\" \")\n",
    "element=input(\"Entrez l'élement à rechercher : \")\n",
    "print(\" \")\n",
    "\n",
    "if element in ma_liste:\n",
    "    print(element, \" existe!!\")\n",
    "else:\n",
    "    print(element, \" n'existe pas dans la liste!!\")"
   ]
  },
  {
   "cell_type": "code",
   "execution_count": 7,
   "metadata": {},
   "outputs": [
    {
     "name": "stdout",
     "output_type": "stream",
     "text": [
      "4.SUPPRIMER UN ELEMENT DANS LA LISTE\n",
      " \n",
      "Entrez l'élement à supprimer : 30\n",
      " \n",
      "Elément supprimé avec succes!!\n",
      " \n",
      "Ma liste =  ['astria', 'crepin', '45', '55', '10', '20', 'astria']\n"
     ]
    }
   ],
   "source": [
    "#4. Supprimer un élément\n",
    "\n",
    "print(\"4.SUPPRIMER UN ELEMENT DANS LA LISTE\")\n",
    "print(\" \")\n",
    "\n",
    "element1=input(\"Entrez l'élement à supprimer : \")\n",
    "print(\" \")\n",
    "\n",
    "\n",
    "if element1 in ma_liste:\n",
    "    ma_liste.remove(element1)\n",
    "    print(\"Elément supprimé avec succes!!\")\n",
    "    print(\" \")\n",
    "    print(\"Ma liste = \", ma_liste)\n",
    "else:\n",
    "    print(element1, \" n'exite pas dans la liste!!\")"
   ]
  },
  {
   "cell_type": "code",
   "execution_count": 8,
   "metadata": {},
   "outputs": [
    {
     "name": "stdout",
     "output_type": "stream",
     "text": [
      "5.NOMBRE D'OCCURENCE D'UN ELEMENT DE LA LISTE\n",
      " \n",
      "Entrez l'élement concèrné : astria\n",
      " \n",
      "astria apparaît :  2  fois\n",
      " \n"
     ]
    }
   ],
   "source": [
    "#5. Compter le nombre d'occurence d'un élément\n",
    "\n",
    "print(\"5.NOMBRE D'OCCURENCE D'UN ELEMENT DE LA LISTE\")\n",
    "print(\" \")\n",
    "\n",
    "element2=input(\"Entrez l'élement concèrné : \")\n",
    "print(\" \")\n",
    "\n",
    "if element2 in ma_liste:\n",
    "    nbr=ma_liste.count(element2)\n",
    "    print(element2, \"apparaît : \", nbr, \" fois\")\n",
    "    print(\" \")\n",
    "else:\n",
    "    print(element2, \" n'exite pas dans la liste!!\")"
   ]
  },
  {
   "cell_type": "code",
   "execution_count": 12,
   "metadata": {},
   "outputs": [
    {
     "name": "stdout",
     "output_type": "stream",
     "text": [
      "2.AJOUTER UNE SOUS LISTE A LA LISTE\n",
      " \n",
      "ma liste =  ['astria', 'crepin', '45', '55', '10', '20', 'astria', '10', '20', '10', '20']\n"
     ]
    }
   ],
   "source": [
    "#6. Ajouter une sous liste à une liste\n",
    "\n",
    "print(\"2.AJOUTER UNE SOUS LISTE A LA LISTE\")\n",
    "print(\" \")\n",
    "\n",
    "s=['10','20']\n",
    "ma_liste=ma_liste+s\n",
    "print(\"ma liste = \",ma_liste)"
   ]
  },
  {
   "cell_type": "code",
   "execution_count": 13,
   "metadata": {},
   "outputs": [
    {
     "name": "stdout",
     "output_type": "stream",
     "text": [
      "7.TRIER LA LISTE\n",
      " \n"
     ]
    },
    {
     "data": {
      "text/plain": [
       "['10', '10', '10', '20', '20', '20', '45', '55', 'astria', 'astria', 'crepin']"
      ]
     },
     "execution_count": 13,
     "metadata": {},
     "output_type": "execute_result"
    }
   ],
   "source": [
    "#7. Trier la liste\n",
    "\n",
    "print(\"7.TRIER LA LISTE\")\n",
    "print(\" \")\n",
    "\n",
    "sorted(ma_liste)"
   ]
  },
  {
   "cell_type": "code",
   "execution_count": 14,
   "metadata": {},
   "outputs": [
    {
     "name": "stdout",
     "output_type": "stream",
     "text": [
      "8.INSERER UN ELEMENT A LA LISTE\n",
      " \n",
      "Entrez le numéro de la position : 7\n",
      "Entrez l'élément : 305\n",
      "ma liste =  ['astria', 'crepin', '45', '55', '10', '20', 'astria', '305', '10', '20', '10', '20']\n"
     ]
    }
   ],
   "source": [
    "#8. Inserer un élément dans la liste\n",
    "\n",
    "print(\"8.INSERER UN ELEMENT A LA LISTE\")\n",
    "print(\" \")\n",
    "\n",
    "ch3a=int(input(\"Entrez le numéro de la position : \"))\n",
    "ch3b=input(\"Entrez l'élément : \")\n",
    "ma_liste.insert(ch3a,ch3b)\n",
    "\n",
    "print(\"ma liste = \",ma_liste)"
   ]
  },
  {
   "cell_type": "code",
   "execution_count": 15,
   "metadata": {},
   "outputs": [
    {
     "name": "stdout",
     "output_type": "stream",
     "text": [
      "9.FILTRER LES ELEMENTS PAR LEURS TYPES\n",
      " \n"
     ]
    },
    {
     "data": {
      "text/plain": [
       "<filter at 0x21fc4c06648>"
      ]
     },
     "execution_count": 15,
     "metadata": {},
     "output_type": "execute_result"
    }
   ],
   "source": [
    "#9. Filtrer les éléments d'une liste qui ont le même type\n",
    "\n",
    "print(\"9.FILTRER LES ELEMENTS PAR LEURS TYPES\")\n",
    "print(\" \")\n",
    "\n",
    "def stringF():\n",
    "    return str\n",
    "\n",
    "filter(stringF(), ma_liste) \n"
   ]
  },
  {
   "cell_type": "code",
   "execution_count": 16,
   "metadata": {},
   "outputs": [
    {
     "name": "stdout",
     "output_type": "stream",
     "text": [
      "10.CONVERTIR UNE LISTE EN TUPLET\n",
      " \n",
      "Le Tuplet =  ('astria', 'crepin', '45', '55', '10', '20', 'astria', '305', '10', '20', '10', '20')\n"
     ]
    }
   ],
   "source": [
    "#10. Convertir une liste en tuple\n",
    "\n",
    "print(\"10.CONVERTIR UNE LISTE EN TUPLET\")\n",
    "print(\" \")\n",
    "\n",
    "NewListe = ma_liste.copy()\n",
    "\n",
    "nTuplet= tuple(NewListe)\n",
    "print(\"Le Tuplet = \", nTuplet)"
   ]
  },
  {
   "cell_type": "code",
   "execution_count": 17,
   "metadata": {},
   "outputs": [
    {
     "name": "stdout",
     "output_type": "stream",
     "text": [
      "11.TRANSFORMER UNE LISTE EN UN ENSEMBLE\n",
      " \n",
      "L'ensemble =  {'astria', '20', '10', '55', 'crepin', '305', '45'}\n"
     ]
    }
   ],
   "source": [
    "#11. Transformer une liste en un ensemble\n",
    "\n",
    "print(\"11.TRANSFORMER UNE LISTE EN UN ENSEMBLE\")\n",
    "print(\" \")\n",
    "\n",
    "NewListe1 = ma_liste.copy()\n",
    "\n",
    "nEnsemble= set(NewListe1)\n",
    "print(\"L'ensemble = \", nEnsemble)"
   ]
  },
  {
   "cell_type": "code",
   "execution_count": 66,
   "metadata": {},
   "outputs": [
    {
     "name": "stdout",
     "output_type": "stream",
     "text": [
      "11.TRANSFORMER UNE LISTE EN UN DICTIONNAIRE\n",
      " \n"
     ]
    },
    {
     "ename": "TypeError",
     "evalue": "unhashable type: 'set'",
     "output_type": "error",
     "traceback": [
      "\u001b[1;31m---------------------------------------------------------------------------\u001b[0m",
      "\u001b[1;31mTypeError\u001b[0m                                 Traceback (most recent call last)",
      "\u001b[1;32m<ipython-input-66-80cb867c6619>\u001b[0m in \u001b[0;36m<module>\u001b[1;34m\u001b[0m\n\u001b[0;32m     10\u001b[0m     \u001b[0mnbocc\u001b[0m\u001b[1;33m=\u001b[0m\u001b[0mma_liste\u001b[0m\u001b[1;33m.\u001b[0m\u001b[0mcount\u001b[0m\u001b[1;33m(\u001b[0m\u001b[0melement\u001b[0m\u001b[1;33m)\u001b[0m\u001b[1;33m\u001b[0m\u001b[1;33m\u001b[0m\u001b[0m\n\u001b[0;32m     11\u001b[0m     \u001b[0mel\u001b[0m\u001b[1;33m=\u001b[0m\u001b[0melement\u001b[0m\u001b[1;33m\u001b[0m\u001b[1;33m\u001b[0m\u001b[0m\n\u001b[1;32m---> 12\u001b[1;33m     \u001b[0md\u001b[0m\u001b[1;33m=\u001b[0m\u001b[1;33m{\u001b[0m\u001b[0mnEnsemble\u001b[0m\u001b[1;33m:\u001b[0m\u001b[0mnbocc\u001b[0m\u001b[1;33m}\u001b[0m\u001b[1;33m\u001b[0m\u001b[1;33m\u001b[0m\u001b[0m\n\u001b[0m\u001b[0;32m     13\u001b[0m     \u001b[0mprint\u001b[0m\u001b[1;33m(\u001b[0m\u001b[0md\u001b[0m\u001b[1;33m)\u001b[0m\u001b[1;33m\u001b[0m\u001b[1;33m\u001b[0m\u001b[0m\n\u001b[0;32m     14\u001b[0m \u001b[1;33m\u001b[0m\u001b[0m\n",
      "\u001b[1;31mTypeError\u001b[0m: unhashable type: 'set'"
     ]
    }
   ],
   "source": [
    "#12. Transformer une liste en un dictionnaire\n",
    "\n",
    "import itertools\n",
    "\n",
    "print(\"11.TRANSFORMER UNE LISTE EN UN DICTIONNAIRE\")\n",
    "print(\" \")\n",
    "# d=dict()\n",
    "\n",
    "for element in nEnsemble:\n",
    "    nbocc=ma_liste.count(element)\n",
    "    el=element\n",
    "    d={nEnsemble:nbocc}\n",
    "    print(d)\n",
    "    \n",
    "    \n",
    "\n",
    "#     nbocc=ma_liste.count(element)\n",
    "#     Dictionnaire={element:nbocc}\n",
    "    \n",
    "# print(\"Le dictionnaire = \", Dictionnaire)"
   ]
  },
  {
   "cell_type": "code",
   "execution_count": 13,
   "metadata": {},
   "outputs": [],
   "source": [
    "def choix(i):\n",
    "    proposition={\n",
    "            1:'Monday',\n",
    "            2:'Tuesday',\n",
    "            3:'Wednesday',\n",
    "            4:'Thursday',\n",
    "            5:'Friday',\n",
    "            6:'Saturday'\n",
    "         }\n",
    "    return switcher.get(i,\"Invalid day of week\")"
   ]
  },
  {
   "cell_type": "code",
   "execution_count": 17,
   "metadata": {},
   "outputs": [
    {
     "ename": "SyntaxError",
     "evalue": "EOL while scanning string literal (<ipython-input-17-297a393a3474>, line 8)",
     "output_type": "error",
     "traceback": [
      "\u001b[1;36m  File \u001b[1;32m\"<ipython-input-17-297a393a3474>\"\u001b[1;36m, line \u001b[1;32m8\u001b[0m\n\u001b[1;33m    print(\"\u001b[0m\n\u001b[1;37m           ^\u001b[0m\n\u001b[1;31mSyntaxError\u001b[0m\u001b[1;31m:\u001b[0m EOL while scanning string literal\n"
     ]
    }
   ],
   "source": [
    "print(\"BIENVENU A VOUS !!!\")\n",
    "print()\n",
    "print()\n",
    "print(\"Ceci est un programme qui permet de manipuler une liste\")\n",
    "print()\n",
    "print(\"Pour commencer faitez votre choix\")\n",
    "print()\n",
    "print(\"\n",
    "      1:'Créer la liste',\n",
    "      2:'Ajouter un élément',\n",
    "      3:'rechercher un élément',\n",
    "      4:'Supprimer un élément',\n",
    "      5:'Compter le nombre d\\'occurrence d\\'un élément',\n",
    "      6:'Ajouter un sous liste à une liste',\n",
    "      7:'Trier la liste',\n",
    "      8:'Insérer un élément dans la liste',\n",
    "      9:'Filtrer les éléments d\\'une liste qui ont le même type',\n",
    "      10:' Convertir une liste en tuple',\n",
    "      11:' Transformer une liste en un ensemble',\n",
    "      12:'Transformer une liste en un dictionnaire dont la clé est l\\'élément et comme valeur son nombre d\\'occurrence'\n",
    "      \")\n",
    "print()\n",
    "chx=int(input(\"Entrez votre choix : \"))\n",
    "choix(chx)"
   ]
  },
  {
   "cell_type": "code",
   "execution_count": null,
   "metadata": {},
   "outputs": [],
   "source": []
  }
 ],
 "metadata": {
  "kernelspec": {
   "display_name": "Python 3",
   "language": "python",
   "name": "python3"
  },
  "language_info": {
   "codemirror_mode": {
    "name": "ipython",
    "version": 3
   },
   "file_extension": ".py",
   "mimetype": "text/x-python",
   "name": "python",
   "nbconvert_exporter": "python",
   "pygments_lexer": "ipython3",
   "version": "3.7.6"
  }
 },
 "nbformat": 4,
 "nbformat_minor": 4
}
