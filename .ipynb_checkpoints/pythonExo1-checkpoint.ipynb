{
 "cells": [
  {
   "cell_type": "markdown",
   "metadata": {},
   "source": [
    "# TP python"
   ]
  },
  {
   "cell_type": "markdown",
   "metadata": {},
   "source": [
    "    # EXO 1\n",
    "\n"
   ]
  },
  {
   "cell_type": "code",
   "execution_count": 9,
   "metadata": {},
   "outputs": [],
   "source": [
    "import numpy as np"
   ]
  },
  {
   "cell_type": "code",
   "execution_count": 18,
   "metadata": {},
   "outputs": [
    {
     "name": "stdout",
     "output_type": "stream",
     "text": [
      "Entrez la valeur de n : 3\n",
      "Saisir l'élement A[0][0] : 1\n",
      "Saisir l'élement A[0][1] : 0\n",
      "Saisir l'élement A[0][2] : 0\n",
      "Saisir l'élement A[1][0] : 0\n",
      "Saisir l'élement A[1][1] : 1\n",
      "Saisir l'élement A[1][2] : 0\n",
      "Saisir l'élement A[2][0] : 0\n",
      "Saisir l'élement A[2][1] : 0\n",
      "Saisir l'élement A[2][2] : 1\n",
      "la matrice M vaut:\n"
     ]
    },
    {
     "data": {
      "text/plain": [
       "array([[1, 0, 0],\n",
       "       [0, 1, 0],\n",
       "       [0, 0, 1]])"
      ]
     },
     "execution_count": 18,
     "metadata": {},
     "output_type": "execute_result"
    }
   ],
   "source": [
    "# 1-Lecture de la matrice d'ordre n\n",
    "n= int(input (\"Entrez la valeur de n : \"))\n",
    "k = n\n",
    "N = n\n",
    " \n",
    "# intialisation de la taille de la matrice\n",
    "A = [[0 for i in range(N)] for j in range(k)]\n",
    " \n",
    "# Saisir les éléments de A\n",
    "for i in range(k):\n",
    "    for j in range(N):\n",
    "        A[i][j] = int(input(\"Saisir l'élement A[{0}][{1}] : \".format(i,j)))  \n",
    "        \n",
    "M=np.array(A)\n",
    "        \n",
    "# 2-Affichage de la matrice\n",
    "print(\"la matrice M vaut:\")\n",
    "\n",
    "M\n",
    " "
   ]
  },
  {
   "cell_type": "code",
   "execution_count": 19,
   "metadata": {},
   "outputs": [
    {
     "data": {
      "text/plain": [
       "'matrice symetrique'"
      ]
     },
     "execution_count": 19,
     "metadata": {},
     "output_type": "execute_result"
    }
   ],
   "source": [
    "#3- Dire si la matrice est symétrique\n",
    "\n",
    "S=M.transpose()\n",
    "def resultat():\n",
    "    valeur=True\n",
    "    for i in range(0,n):\n",
    "        for j in range(0,n):\n",
    "            if M[i][j]==S[j][i]:\n",
    "                valeur=True\n",
    "            else:\n",
    "                valeur=False  \n",
    "    if valeur==True:\n",
    "        return(\"matrice symetrique\")\n",
    "    else:\n",
    "        return(\"La matrice n\\'est pas symetrique\")\n",
    "    \n",
    "resultat()\n",
    "        \n"
   ]
  },
  {
   "cell_type": "code",
   "execution_count": 20,
   "metadata": {},
   "outputs": [
    {
     "name": "stdout",
     "output_type": "stream",
     "text": [
      "elle est diagonale\n"
     ]
    }
   ],
   "source": [
    "#4- Dire si la matrice est diagonale\n",
    "\n",
    "diagonal = True\n",
    "\n",
    "for x in range(len(M)):\n",
    "    for y in range(len(M[x])):\n",
    "        if x == y:\n",
    "            if M[x][y] == 0:\n",
    "                diagonal = False\n",
    "                break # inner for\n",
    "        else:\n",
    "            if M[x][y] != 0:\n",
    "                diagonal = False\n",
    "                break # inner for\n",
    "    if not diagonal:\n",
    "        break # outer for\n",
    "if diagonal==True:\n",
    "    print(\"elle est diagonale\")\n",
    "else:\n",
    "    print(\"elle n\\'est pas diagonale\")\n",
    "\n",
    "\n",
    "    \n",
    "        \n",
    "    \n",
    "    \n",
    "\n",
    "\n",
    "    \n",
    "    \n",
    "\n",
    "\n",
    "#diagonale = np.diagflat ( np.ones ( (1,4) ) )"
   ]
  },
  {
   "cell_type": "code",
   "execution_count": null,
   "metadata": {},
   "outputs": [],
   "source": []
  }
 ],
 "metadata": {
  "kernelspec": {
   "display_name": "Python 3",
   "language": "python",
   "name": "python3"
  },
  "language_info": {
   "codemirror_mode": {
    "name": "ipython",
    "version": 3
   },
   "file_extension": ".py",
   "mimetype": "text/x-python",
   "name": "python",
   "nbconvert_exporter": "python",
   "pygments_lexer": "ipython3",
   "version": "3.7.6"
  }
 },
 "nbformat": 4,
 "nbformat_minor": 4
}
