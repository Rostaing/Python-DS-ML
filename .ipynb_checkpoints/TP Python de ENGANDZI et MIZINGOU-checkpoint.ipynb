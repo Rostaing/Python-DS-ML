{
 "cells": [
  {
   "cell_type": "code",
   "execution_count": 1,
   "metadata": {},
   "outputs": [],
   "source": [
    "import numpy as np"
   ]
  },
  {
   "cell_type": "code",
   "execution_count": 2,
   "metadata": {},
   "outputs": [
    {
     "name": "stdout",
     "output_type": "stream",
     "text": [
      "Entrez x: 0\n",
      "Entrez y: 20\n",
      "Entrez n: 5\n"
     ]
    },
    {
     "data": {
      "text/plain": [
       "array([[ 4, 18, 15, 18, 12],\n",
       "       [ 8, 18,  9, 10,  8],\n",
       "       [ 6,  3,  1, 12, 19],\n",
       "       [ 0, 19, 10, 12, 17],\n",
       "       [10, 10, 15, 19,  7]])"
      ]
     },
     "execution_count": 2,
     "metadata": {},
     "output_type": "execute_result"
    }
   ],
   "source": [
    "# EXO 1\n",
    "\n",
    "# 1. Lecture de la matrice\n",
    "\n",
    "x = int(input(\"Entrez x: \"))\n",
    "y = int(input(\"Entrez y: \"))\n",
    "n = int(input(\"Entrez n: \"))\n",
    "M = np.random.randint(x, y, (n, n))\n",
    "\n",
    "# 2. Affichage de la matrice\n",
    "\n",
    "M\n"
   ]
  },
  {
   "cell_type": "code",
   "execution_count": 12,
   "metadata": {},
   "outputs": [
    {
     "data": {
      "text/plain": [
       "\"False, donc la matrice n'est pas symétrique\""
      ]
     },
     "execution_count": 12,
     "metadata": {},
     "output_type": "execute_result"
    }
   ],
   "source": [
    "# 3. Dire si elle est symétrique\n",
    "# matrice symétrique avec MTM\n",
    "\n",
    "# S = np.dot(np.transpose(M),M)\n",
    "# print(S)\n",
    "\n",
    "# ou\n",
    "\n",
    "def is_pos_def(A):\n",
    "    if np.array_equal(A, A.T):\n",
    "        try:\n",
    "            np.linalg.cholesky(A)\n",
    "            return True\n",
    "        except np.linalg.LinAlgError:\n",
    "            return \"False, donc la matrice n'est pas symétrique\"\n",
    "    else:\n",
    "        return \"False, donc la matrice n'est pas symétrique\"\n",
    "\n",
    "is_pos_def(M)"
   ]
  },
  {
   "cell_type": "code",
   "execution_count": 21,
   "metadata": {},
   "outputs": [
    {
     "data": {
      "text/plain": [
       "array([[ 0, 18, 15, 18, 12],\n",
       "       [ 8,  0,  9, 10,  8],\n",
       "       [ 6,  3,  0, 12, 19],\n",
       "       [ 0, 19, 10,  0, 17],\n",
       "       [10, 10, 15, 19,  0]])"
      ]
     },
     "execution_count": 21,
     "metadata": {},
     "output_type": "execute_result"
    }
   ],
   "source": [
    "# 4. Dire si elle est diagonale\n",
    "\n",
    "M - np.diag(np.diag(M))\n"
   ]
  },
  {
   "cell_type": "code",
   "execution_count": 16,
   "metadata": {},
   "outputs": [
    {
     "name": "stdout",
     "output_type": "stream",
     "text": [
      "D'apres le résultat ci-dessus, la matrice es diagonale\n"
     ]
    }
   ],
   "source": [
    "print(\"D'apres le résultat ci-dessus, la matrice es diagonale\")"
   ]
  },
  {
   "cell_type": "code",
   "execution_count": 25,
   "metadata": {},
   "outputs": [
    {
     "ename": "ValueError",
     "evalue": "The truth value of an array with more than one element is ambiguous. Use a.any() or a.all()",
     "output_type": "error",
     "traceback": [
      "\u001b[1;31m---------------------------------------------------------------------------\u001b[0m",
      "\u001b[1;31mValueError\u001b[0m                                Traceback (most recent call last)",
      "\u001b[1;32m<ipython-input-25-28d66aa379c5>\u001b[0m in \u001b[0;36m<module>\u001b[1;34m\u001b[0m\n\u001b[0;32m      1\u001b[0m \u001b[0mc\u001b[0m \u001b[1;33m=\u001b[0m \u001b[0mnp\u001b[0m\u001b[1;33m.\u001b[0m\u001b[0mdot\u001b[0m\u001b[1;33m(\u001b[0m\u001b[0mM\u001b[0m\u001b[1;33m,\u001b[0m \u001b[0mM\u001b[0m\u001b[1;33m)\u001b[0m\u001b[1;33m\u001b[0m\u001b[1;33m\u001b[0m\u001b[0m\n\u001b[1;32m----> 2\u001b[1;33m \u001b[1;32mif\u001b[0m \u001b[0mc\u001b[0m \u001b[1;33m!=\u001b[0m \u001b[1;36m0\u001b[0m\u001b[1;33m:\u001b[0m\u001b[1;33m\u001b[0m\u001b[1;33m\u001b[0m\u001b[0m\n\u001b[0m\u001b[0;32m      3\u001b[0m     \u001b[0mprint\u001b[0m\u001b[1;33m(\u001b[0m\u001b[1;34m\"La matrice est scalaire\"\u001b[0m\u001b[1;33m)\u001b[0m\u001b[1;33m\u001b[0m\u001b[1;33m\u001b[0m\u001b[0m\n\u001b[0;32m      4\u001b[0m \u001b[1;32melse\u001b[0m\u001b[1;33m:\u001b[0m\u001b[1;33m\u001b[0m\u001b[1;33m\u001b[0m\u001b[0m\n\u001b[0;32m      5\u001b[0m     \u001b[0mprint\u001b[0m\u001b[1;33m(\u001b[0m\u001b[1;34m\"Elle n'est pas scalaire\"\u001b[0m\u001b[1;33m)\u001b[0m\u001b[1;33m\u001b[0m\u001b[1;33m\u001b[0m\u001b[0m\n",
      "\u001b[1;31mValueError\u001b[0m: The truth value of an array with more than one element is ambiguous. Use a.any() or a.all()"
     ]
    }
   ],
   "source": [
    "x = np.dot(M)\n",
    "y = np.dot(M)\n",
    "c = np.dot(x, y)\n",
    "if c != 0:\n",
    "    print(\"La matrice est scalaire\")\n",
    "else:\n",
    "    print(\"Elle n'est pas scalaire\")\n"
   ]
  },
  {
   "cell_type": "code",
   "execution_count": null,
   "metadata": {},
   "outputs": [],
   "source": []
  }
 ],
 "metadata": {
  "kernelspec": {
   "display_name": "Python 3",
   "language": "python",
   "name": "python3"
  },
  "language_info": {
   "codemirror_mode": {
    "name": "ipython",
    "version": 3
   },
   "file_extension": ".py",
   "mimetype": "text/x-python",
   "name": "python",
   "nbconvert_exporter": "python",
   "pygments_lexer": "ipython3",
   "version": "3.7.6"
  }
 },
 "nbformat": 4,
 "nbformat_minor": 4
}
