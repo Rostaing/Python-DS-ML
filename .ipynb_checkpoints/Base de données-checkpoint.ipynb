{
 "cells": [
  {
   "cell_type": "code",
   "execution_count": null,
   "metadata": {},
   "outputs": [],
   "source": [
    "# en ligne de commande : python -m pip install mysql-connector-python"
   ]
  },
  {
   "cell_type": "code",
   "execution_count": 1,
   "metadata": {},
   "outputs": [],
   "source": [
    "import mysql.connector"
   ]
  },
  {
   "cell_type": "markdown",
   "metadata": {},
   "source": [
    "# Connexion à la Base de Données"
   ]
  },
  {
   "cell_type": "code",
   "execution_count": 25,
   "metadata": {},
   "outputs": [
    {
     "name": "stdout",
     "output_type": "stream",
     "text": [
      "<mysql.connector.connection_cext.CMySQLConnection object at 0x000001F32AC2BBC8>\n"
     ]
    }
   ],
   "source": [
    "bdd = mysql.connector.connect(\n",
    "  host=\"localhost\",\n",
    "  user=\"root\",\n",
    "  password=\"\",\n",
    "\n",
    ")\n",
    "\n",
    "print(bdd)"
   ]
  },
  {
   "cell_type": "markdown",
   "metadata": {},
   "source": [
    "# 1. Création d ela base de données"
   ]
  },
  {
   "cell_type": "code",
   "execution_count": 28,
   "metadata": {},
   "outputs": [
    {
     "name": "stdout",
     "output_type": "stream",
     "text": [
      "Base Existante\n"
     ]
    }
   ],
   "source": [
    "mycursor = bdd.cursor()\n",
    "try:\n",
    "    mycursor.execute(\"CREATE DATABASE od\")\n",
    "except :\n",
    "    print(\"Base Existante\")\n"
   ]
  },
  {
   "cell_type": "markdown",
   "metadata": {},
   "source": [
    "# 2. Connexion à une Base de Données"
   ]
  },
  {
   "cell_type": "code",
   "execution_count": 34,
   "metadata": {},
   "outputs": [],
   "source": [
    "bdd = mysql.connector.connect(\n",
    "  host=\"localhost\",\n",
    "  user=\"root\",\n",
    "  password=\"\",\n",
    "  database=\"od\"\n",
    ")\n",
    "mycursor = bdd.cursor()\n"
   ]
  },
  {
   "cell_type": "markdown",
   "metadata": {},
   "source": [
    "# 3. Creation de  table"
   ]
  },
  {
   "cell_type": "code",
   "execution_count": 10,
   "metadata": {},
   "outputs": [],
   "source": [
    "mycursor = bdd.cursor()\n",
    "\n",
    "mycursor.execute(\"CREATE TABLE Enseignant (Code int, Nom VARCHAR(50), Prenom varchar(50),salaire int)\")"
   ]
  },
  {
   "cell_type": "markdown",
   "metadata": {},
   "source": [
    "# 4. L'instruction Insert into table"
   ]
  },
  {
   "cell_type": "code",
   "execution_count": 16,
   "metadata": {},
   "outputs": [
    {
     "name": "stdout",
     "output_type": "stream",
     "text": [
      "1 record inserted.\n"
     ]
    }
   ],
   "source": [
    "sql = \"INSERT INTO enseignant (Code, Nom, Prenom, Salaire) VALUES (%s, %s, %s, %s)\"\n",
    "val = (1,\"MATY\", \"Maman\",1500000)\n",
    "val1 = (2,\"NAMBILA\", \"Ane\",2000000)\n",
    "val2 = (3,\"KOUSSOUBE\", \"Souleymane\",2500000)\n",
    "mycursor.execute(sql, val)\n",
    "mycursor.execute(sql, val1)\n",
    "mycursor.execute(sql, val2)\n",
    "bdd.commit()"
   ]
  },
  {
   "cell_type": "markdown",
   "metadata": {},
   "source": [
    "# 5. Instruction Select"
   ]
  },
  {
   "cell_type": "code",
   "execution_count": 35,
   "metadata": {},
   "outputs": [
    {
     "name": "stdout",
     "output_type": "stream",
     "text": [
      "data: [(1, 'MATY', 'Maman', 1500000), (2, 'NAMBILA', 'Ane', 2000000), (3, 'KOUSSOUBE', 'Souleymane', 2500000)]\n"
     ]
    }
   ],
   "source": [
    "mycursor = bdd.cursor()\n",
    "sql = \"SELECT * FROM enseignant;\"\n",
    "mycursor.execute(sql)\n",
    "data = mycursor.fetchall()\n",
    "print(\"data:\", data)\n"
   ]
  },
  {
   "cell_type": "code",
   "execution_count": 41,
   "metadata": {},
   "outputs": [
    {
     "name": "stdout",
     "output_type": "stream",
     "text": [
      "1\tMATY\tMaman\t1500000\n",
      "2\tNAMBILA\tAne\t2000000\n",
      "3\tKOUSSOUBE\tSouleymane\t2500000\n"
     ]
    }
   ],
   "source": [
    "for x in data:\n",
    "    c,n,p,s=x\n",
    "    print(c,n,p,s , sep='\\t')\n"
   ]
  },
  {
   "cell_type": "code",
   "execution_count": 40,
   "metadata": {},
   "outputs": [
    {
     "name": "stdout",
     "output_type": "stream",
     "text": [
      "(1, 'MATY', 'Maman', 1500000)\n",
      "(2, 'NAMBILA', 'Ane', 2000000)\n",
      "(3, 'KOUSSOUBE', 'Souleymane', 2500000)\n"
     ]
    }
   ],
   "source": [
    "mycursor = bdd.cursor()\n",
    "\n",
    "mycursor.execute(\"SELECT * FROM enseignant\")\n",
    "\n",
    "myresult = mycursor.fetchall()\n",
    "\n",
    "for x in myresult:\n",
    "  print(x)\n"
   ]
  },
  {
   "cell_type": "markdown",
   "metadata": {},
   "source": [
    "# 6. L'instruction Update set "
   ]
  },
  {
   "cell_type": "code",
   "execution_count": 42,
   "metadata": {},
   "outputs": [],
   "source": [
    "mycursor = bdd.cursor()\n",
    "\n",
    "sql = \"UPDATE enseignant SET Prenom = 'Ange' WHERE Code = 2\"\n",
    "mycursor.execute(sql)\n",
    "mydb.commit()"
   ]
  },
  {
   "cell_type": "code",
   "execution_count": 43,
   "metadata": {},
   "outputs": [
    {
     "name": "stdout",
     "output_type": "stream",
     "text": [
      "(1, 'MATY', 'Maman', 1500000)\n",
      "(2, 'NAMBILA', 'Ange', 2000000)\n",
      "(3, 'KOUSSOUBE', 'Souleymane', 2500000)\n"
     ]
    }
   ],
   "source": [
    "mycursor.execute(\"SELECT * FROM enseignant\")\n",
    "\n",
    "myresult = mycursor.fetchall()\n",
    "\n",
    "for x in myresult:\n",
    "  print(x)\n"
   ]
  },
  {
   "cell_type": "code",
   "execution_count": 46,
   "metadata": {},
   "outputs": [],
   "source": [
    "import pandas as pd\n",
    "bdd = mysql.connector.connect(\n",
    "  host=\"localhost\",\n",
    "  user=\"root\",\n",
    "  password=\"\",\n",
    "  database=\"od\"\n",
    ")\n",
    "df = pd.read_sql(\"SELECT * FROM enseignant\", bdd)"
   ]
  },
  {
   "cell_type": "code",
   "execution_count": 47,
   "metadata": {},
   "outputs": [
    {
     "data": {
      "text/html": [
       "<div>\n",
       "<style scoped>\n",
       "    .dataframe tbody tr th:only-of-type {\n",
       "        vertical-align: middle;\n",
       "    }\n",
       "\n",
       "    .dataframe tbody tr th {\n",
       "        vertical-align: top;\n",
       "    }\n",
       "\n",
       "    .dataframe thead th {\n",
       "        text-align: right;\n",
       "    }\n",
       "</style>\n",
       "<table border=\"1\" class=\"dataframe\">\n",
       "  <thead>\n",
       "    <tr style=\"text-align: right;\">\n",
       "      <th></th>\n",
       "      <th>Code</th>\n",
       "      <th>Nom</th>\n",
       "      <th>Prenom</th>\n",
       "      <th>salaire</th>\n",
       "    </tr>\n",
       "  </thead>\n",
       "  <tbody>\n",
       "    <tr>\n",
       "      <th>0</th>\n",
       "      <td>1</td>\n",
       "      <td>MATY</td>\n",
       "      <td>Maman</td>\n",
       "      <td>1500000</td>\n",
       "    </tr>\n",
       "    <tr>\n",
       "      <th>1</th>\n",
       "      <td>2</td>\n",
       "      <td>NAMBILA</td>\n",
       "      <td>Ange</td>\n",
       "      <td>2000000</td>\n",
       "    </tr>\n",
       "    <tr>\n",
       "      <th>2</th>\n",
       "      <td>3</td>\n",
       "      <td>KOUSSOUBE</td>\n",
       "      <td>Souleymane</td>\n",
       "      <td>2500000</td>\n",
       "    </tr>\n",
       "  </tbody>\n",
       "</table>\n",
       "</div>"
      ],
      "text/plain": [
       "   Code        Nom      Prenom  salaire\n",
       "0     1       MATY       Maman  1500000\n",
       "1     2    NAMBILA        Ange  2000000\n",
       "2     3  KOUSSOUBE  Souleymane  2500000"
      ]
     },
     "execution_count": 47,
     "metadata": {},
     "output_type": "execute_result"
    }
   ],
   "source": [
    "df"
   ]
  },
  {
   "cell_type": "code",
   "execution_count": null,
   "metadata": {},
   "outputs": [],
   "source": []
  }
 ],
 "metadata": {
  "kernelspec": {
   "display_name": "Python 3",
   "language": "python",
   "name": "python3"
  },
  "language_info": {
   "codemirror_mode": {
    "name": "ipython",
    "version": 3
   },
   "file_extension": ".py",
   "mimetype": "text/x-python",
   "name": "python",
   "nbconvert_exporter": "python",
   "pygments_lexer": "ipython3",
   "version": "3.7.6"
  }
 },
 "nbformat": 4,
 "nbformat_minor": 4
}
