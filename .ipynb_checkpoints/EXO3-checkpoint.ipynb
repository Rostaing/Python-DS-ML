{
 "cells": [
  {
   "cell_type": "code",
   "execution_count": 1,
   "metadata": {},
   "outputs": [],
   "source": [
    "import numpy as np"
   ]
  },
  {
   "cell_type": "markdown",
   "metadata": {},
   "source": [
    "# Ex0 3\n",
    "QUESTION 1"
   ]
  },
  {
   "cell_type": "code",
   "execution_count": 2,
   "metadata": {},
   "outputs": [],
   "source": [
    "liste = []"
   ]
  },
  {
   "cell_type": "code",
   "execution_count": 3,
   "metadata": {},
   "outputs": [
    {
     "data": {
      "text/plain": [
       "[]"
      ]
     },
     "execution_count": 3,
     "metadata": {},
     "output_type": "execute_result"
    }
   ],
   "source": [
    "liste"
   ]
  },
  {
   "cell_type": "markdown",
   "metadata": {},
   "source": [
    "Question 2"
   ]
  },
  {
   "cell_type": "code",
   "execution_count": 4,
   "metadata": {},
   "outputs": [],
   "source": [
    "liste = [1,2,3,20,3,1,8,2,0,0,7,3,1,0,5,8,21,65,20,12,2,7,19]"
   ]
  },
  {
   "cell_type": "code",
   "execution_count": 5,
   "metadata": {},
   "outputs": [
    {
     "data": {
      "text/plain": [
       "[1, 2, 3, 20, 3, 1, 8, 2, 0, 0, 7, 3, 1, 0, 5, 8, 21, 65, 20, 12, 2, 7, 19]"
      ]
     },
     "execution_count": 5,
     "metadata": {},
     "output_type": "execute_result"
    }
   ],
   "source": [
    "liste"
   ]
  },
  {
   "cell_type": "markdown",
   "metadata": {},
   "source": [
    "Question 4"
   ]
  },
  {
   "cell_type": "code",
   "execution_count": 6,
   "metadata": {},
   "outputs": [],
   "source": [
    "del liste[2]"
   ]
  },
  {
   "cell_type": "code",
   "execution_count": 7,
   "metadata": {},
   "outputs": [
    {
     "data": {
      "text/plain": [
       "[1, 2, 20, 3, 1, 8, 2, 0, 0, 7, 3, 1, 0, 5, 8, 21, 65, 20, 12, 2, 7, 19]"
      ]
     },
     "execution_count": 7,
     "metadata": {},
     "output_type": "execute_result"
    }
   ],
   "source": [
    "liste"
   ]
  },
  {
   "cell_type": "code",
   "execution_count": 8,
   "metadata": {},
   "outputs": [],
   "source": [
    "import pandas as pd"
   ]
  },
  {
   "cell_type": "markdown",
   "metadata": {},
   "source": [
    "Question 5"
   ]
  },
  {
   "cell_type": "code",
   "execution_count": 9,
   "metadata": {},
   "outputs": [
    {
     "data": {
      "text/plain": [
       "3"
      ]
     },
     "execution_count": 9,
     "metadata": {},
     "output_type": "execute_result"
    }
   ],
   "source": [
    "liste.count(2)"
   ]
  },
  {
   "cell_type": "code",
   "execution_count": 10,
   "metadata": {},
   "outputs": [
    {
     "data": {
      "text/plain": [
       "22"
      ]
     },
     "execution_count": 10,
     "metadata": {},
     "output_type": "execute_result"
    }
   ],
   "source": [
    "len(liste)"
   ]
  },
  {
   "cell_type": "code",
   "execution_count": null,
   "metadata": {},
   "outputs": [],
   "source": []
  },
  {
   "cell_type": "markdown",
   "metadata": {},
   "source": [
    "Question 6"
   ]
  },
  {
   "cell_type": "code",
   "execution_count": 12,
   "metadata": {},
   "outputs": [],
   "source": [
    "liste2=[1,2,8,76,3,9,23,17]"
   ]
  },
  {
   "cell_type": "code",
   "execution_count": 13,
   "metadata": {},
   "outputs": [
    {
     "data": {
      "text/plain": [
       "[1, 2, 8, 76, 3, 9, 23, 17]"
      ]
     },
     "execution_count": 13,
     "metadata": {},
     "output_type": "execute_result"
    }
   ],
   "source": [
    "liste2"
   ]
  },
  {
   "cell_type": "code",
   "execution_count": 14,
   "metadata": {},
   "outputs": [
    {
     "name": "stdout",
     "output_type": "stream",
     "text": [
      "[1, 2, 20, 3, 1, 8, 2, 0, 0, 7, 3, 1, 0, 5, 8, 21, 65, 20, 12, 2, 7, 19, 1, 2, 8, 76, 3, 9, 23, 17]\n"
     ]
    }
   ],
   "source": [
    "liste.extend(liste2)\n",
    "print (liste)"
   ]
  },
  {
   "cell_type": "code",
   "execution_count": 15,
   "metadata": {},
   "outputs": [
    {
     "data": {
      "text/plain": [
       "20"
      ]
     },
     "execution_count": 15,
     "metadata": {},
     "output_type": "execute_result"
    }
   ],
   "source": [
    "liste[2]"
   ]
  },
  {
   "cell_type": "code",
   "execution_count": 16,
   "metadata": {},
   "outputs": [
    {
     "data": {
      "text/plain": [
       "[1,\n",
       " 2,\n",
       " 20,\n",
       " 3,\n",
       " 1,\n",
       " 8,\n",
       " 2,\n",
       " 0,\n",
       " 0,\n",
       " 7,\n",
       " 3,\n",
       " 1,\n",
       " 0,\n",
       " 5,\n",
       " 8,\n",
       " 21,\n",
       " 65,\n",
       " 20,\n",
       " 12,\n",
       " 2,\n",
       " 7,\n",
       " 19,\n",
       " 1,\n",
       " 2,\n",
       " 8,\n",
       " 76,\n",
       " 3,\n",
       " 9,\n",
       " 23,\n",
       " 17]"
      ]
     },
     "execution_count": 16,
     "metadata": {},
     "output_type": "execute_result"
    }
   ],
   "source": [
    "liste"
   ]
  },
  {
   "cell_type": "code",
   "execution_count": null,
   "metadata": {
    "scrolled": true
   },
   "outputs": [],
   "source": [
    "print(liste)\n",
    "x=liste.sort()\n",
    "print(liste)\n",
    "print(x)"
   ]
  },
  {
   "cell_type": "code",
   "execution_count": 17,
   "metadata": {},
   "outputs": [
    {
     "name": "stdout",
     "output_type": "stream",
     "text": [
      "[76, 65, 23, 21, 20, 20, 19, 17, 12, 9, 8, 8, 8, 7, 7, 5, 3, 3, 3, 2, 2, 2, 2, 1, 1, 1, 1, 0, 0, 0]\n"
     ]
    }
   ],
   "source": [
    "LL=sorted(liste, reverse = True)\n",
    "print(LL)"
   ]
  },
  {
   "cell_type": "markdown",
   "metadata": {},
   "source": [
    "Question 7"
   ]
  },
  {
   "cell_type": "code",
   "execution_count": 166,
   "metadata": {},
   "outputs": [],
   "source": [
    "#liste=[liste+[]]"
   ]
  },
  {
   "cell_type": "code",
   "execution_count": 189,
   "metadata": {},
   "outputs": [
    {
     "data": {
      "text/plain": [
       "[[[[[[[[0,\n",
       "        0,\n",
       "        0,\n",
       "        1,\n",
       "        1,\n",
       "        1,\n",
       "        1,\n",
       "        2,\n",
       "        2,\n",
       "        2,\n",
       "        2,\n",
       "        3,\n",
       "        3,\n",
       "        3,\n",
       "        5,\n",
       "        7,\n",
       "        7,\n",
       "        8,\n",
       "        8,\n",
       "        8,\n",
       "        9,\n",
       "        12,\n",
       "        17,\n",
       "        19,\n",
       "        20,\n",
       "        20,\n",
       "        21,\n",
       "        23,\n",
       "        65,\n",
       "        76,\n",
       "        50],\n",
       "       36],\n",
       "      'Caleb',\n",
       "      'Diavila'],\n",
       "     'Caleb',\n",
       "     'Diavila']]]],\n",
       " 1,\n",
       " 2,\n",
       " 8,\n",
       " 76,\n",
       " 3,\n",
       " 9,\n",
       " 23,\n",
       " 17]"
      ]
     },
     "execution_count": 189,
     "metadata": {},
     "output_type": "execute_result"
    }
   ],
   "source": [
    "liste"
   ]
  },
  {
   "cell_type": "code",
   "execution_count": 18,
   "metadata": {},
   "outputs": [
    {
     "name": "stdout",
     "output_type": "stream",
     "text": [
      "(1, 2, 20, 3, 1, 8, 2, 0, 0, 7, 3, 1, 0, 5, 8, 21, 65, 20, 12, 2, 7, 19, 1, 2, 8, 76, 3, 9, 23, 17)\n"
     ]
    }
   ],
   "source": [
    "nbr_tuple = tuple(liste)\n",
    "#Afficher le tuple\n",
    "print(nbr_tuple)"
   ]
  },
  {
   "cell_type": "code",
   "execution_count": null,
   "metadata": {},
   "outputs": [],
   "source": []
  },
  {
   "cell_type": "code",
   "execution_count": null,
   "metadata": {},
   "outputs": [],
   "source": []
  }
 ],
 "metadata": {
  "kernelspec": {
   "display_name": "Python 3",
   "language": "python",
   "name": "python3"
  },
  "language_info": {
   "codemirror_mode": {
    "name": "ipython",
    "version": 3
   },
   "file_extension": ".py",
   "mimetype": "text/x-python",
   "name": "python",
   "nbconvert_exporter": "python",
   "pygments_lexer": "ipython3",
   "version": "3.7.6"
  }
 },
 "nbformat": 4,
 "nbformat_minor": 4
}
