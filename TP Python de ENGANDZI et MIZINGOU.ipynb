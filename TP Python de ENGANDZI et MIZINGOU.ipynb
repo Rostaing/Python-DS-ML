{
 "cells": [
  {
   "cell_type": "markdown",
   "metadata": {},
   "source": [
    "# GROUPE: ENGANDZI Diavila Rostaing ET MOUKOUEDI MIZINGOU Caleb "
   ]
  },
  {
   "cell_type": "code",
   "execution_count": 2,
   "metadata": {},
   "outputs": [],
   "source": [
    "import numpy as np\n",
    "import pandas as pd\n",
    "import matplotlib.pyplot as plt"
   ]
  },
  {
   "cell_type": "markdown",
   "metadata": {},
   "source": [
    "# EXO 1"
   ]
  },
  {
   "cell_type": "code",
   "execution_count": 3,
   "metadata": {},
   "outputs": [
    {
     "name": "stdout",
     "output_type": "stream",
     "text": [
      "Entrez la valeur de n : 3\n",
      "Saisir l'élement A[0][0] : 1\n",
      "Saisir l'élement A[0][1] : 0\n",
      "Saisir l'élement A[0][2] : 0\n",
      "Saisir l'élement A[1][0] : 0\n",
      "Saisir l'élement A[1][1] : 1\n",
      "Saisir l'élement A[1][2] : 0\n",
      "Saisir l'élement A[2][0] : 0\n",
      "Saisir l'élement A[2][1] : 0\n",
      "Saisir l'élement A[2][2] : 1\n",
      "la matrice M vaut:\n"
     ]
    },
    {
     "data": {
      "text/plain": [
       "array([[1, 0, 0],\n",
       "       [0, 1, 0],\n",
       "       [0, 0, 1]])"
      ]
     },
     "execution_count": 3,
     "metadata": {},
     "output_type": "execute_result"
    }
   ],
   "source": [
    "# 1. Lecture de la matrice\n",
    "\n",
    "# 1-Lecture de la matrice d'ordre n\n",
    "n= int(input (\"Entrez la valeur de n : \"))\n",
    "k = n\n",
    "N = n\n",
    " \n",
    "# intialisation de la taille de la matrice\n",
    "A = [[0 for i in range(N)] for j in range(k)]\n",
    " \n",
    "# Saisir les éléments de A\n",
    "for i in range(k):\n",
    "    for j in range(N):\n",
    "        A[i][j] = int(input(\"Saisir l'élement A[{0}][{1}] : \".format(i,j)))  \n",
    "        \n",
    "M=np.array(A)\n",
    "        \n",
    "# 2-Affichage de la matrice\n",
    "print(\"la matrice M vaut:\")\n",
    "\n",
    "M\n",
    " \n"
   ]
  },
  {
   "cell_type": "code",
   "execution_count": 4,
   "metadata": {},
   "outputs": [
    {
     "data": {
      "text/plain": [
       "'Elle est symetrique'"
      ]
     },
     "execution_count": 4,
     "metadata": {},
     "output_type": "execute_result"
    }
   ],
   "source": [
    "# 3. Dire si elle est symétrique\n",
    "S=M.transpose()\n",
    "def resultat():\n",
    "    valeur=True\n",
    "    for i in range(0,n):\n",
    "        for j in range(0,n):\n",
    "            if M[i][j]==S[j][i]:\n",
    "                valeur=True\n",
    "            else:\n",
    "                valeur=False  \n",
    "    if valeur==True:\n",
    "        return(\"Elle est symetrique\")\n",
    "    else:\n",
    "        return(\"Elle n'est pas symetrique\")\n",
    "    \n",
    "resultat()\n",
    "        "
   ]
  },
  {
   "cell_type": "code",
   "execution_count": 5,
   "metadata": {},
   "outputs": [
    {
     "name": "stdout",
     "output_type": "stream",
     "text": [
      "elle est diagonale\n"
     ]
    }
   ],
   "source": [
    "# 4. Dire si elle est diagonale\n",
    "\n",
    "diagonal = True\n",
    "\n",
    "for x in range(len(M)):\n",
    "    for y in range(len(M[x])):\n",
    "        if x == y:\n",
    "            if M[x][y] == 0:\n",
    "                diagonal = False\n",
    "                break # inner for\n",
    "        else:\n",
    "            if M[x][y] != 0:\n",
    "                diagonal = False\n",
    "                break # inner for\n",
    "    if not diagonal:\n",
    "        break # outer for\n",
    "if diagonal==True:\n",
    "    print(\"elle est diagonale\")\n",
    "else:\n",
    "    print(\"elle n\\'est pas diagonale\") \n"
   ]
  },
  {
   "cell_type": "code",
   "execution_count": 6,
   "metadata": {},
   "outputs": [
    {
     "name": "stdout",
     "output_type": "stream",
     "text": [
      "Oui, elle est scalaire\n"
     ]
    }
   ],
   "source": [
    "# 5. Dire si elle est scalaire\n",
    "\n",
    "# Programme pour vérifier la matrice\n",
    "# est une matrice scalaire ou non. \n",
    "  \n",
    "  \n",
    "N = n\n",
    "  \n",
    "# Function to check matrix is \n",
    "# scalar matrix or not. \n",
    "def isScalarMatrix(mat) : \n",
    "      \n",
    "    # Check all elements  \n",
    "    # except main diagonal are \n",
    "    # zero or not. \n",
    "    for i in range(0,N) : \n",
    "        for j in range(0,N) : \n",
    "            if ((i != j)  \n",
    "               and (mat[i][j] != 0)) : \n",
    "                return False\n",
    "   \n",
    "    # Check all diagonal \n",
    "    # elements are same or not. \n",
    "    for i in range(0,N-1) : \n",
    "        if (mat[i][i] !=\n",
    "           mat[i + 1][i + 1]) : \n",
    "            return False\n",
    "  \n",
    "    return True\n",
    "  \n",
    "  \n",
    "# Driver function \n",
    "mat = M \n",
    "  \n",
    "# Function call \n",
    "if (isScalarMatrix(mat)): \n",
    "    print(\"Oui, elle est scalaire\") \n",
    "else : \n",
    "    print(\"Non, elle n'est pas scalaire\") "
   ]
  },
  {
   "cell_type": "code",
   "execution_count": 61,
   "metadata": {},
   "outputs": [
    {
     "data": {
      "text/plain": [
       "\"La matrice n'est antisymetrique\""
      ]
     },
     "execution_count": 61,
     "metadata": {},
     "output_type": "execute_result"
    }
   ],
   "source": [
    "# 6. Dire si elle est antisymétrique\n",
    "\n",
    "S=M.transpose()\n",
    "def resultat():\n",
    "    valeur=True\n",
    "    for i in range(0,n):\n",
    "        for j in range(0,n):\n",
    "            if S[j][i]==-M[i][j]:\n",
    "                valeur=True\n",
    "            else:\n",
    "                valeur=False  \n",
    "    if valeur==True:\n",
    "        return(\"La matrice est antisymetrique\")\n",
    "    else:\n",
    "        return(\"La matrice n'est antisymetrique\")\n",
    "    \n",
    "resultat()"
   ]
  },
  {
   "cell_type": "markdown",
   "metadata": {},
   "source": [
    "# EXO 2"
   ]
  },
  {
   "cell_type": "code",
   "execution_count": 8,
   "metadata": {},
   "outputs": [
    {
     "name": "stdout",
     "output_type": "stream",
     "text": [
      "Saisisez (tapez la touche entrer 2 fois pour s'arrêter): 1\n",
      "Saisisez (tapez la touche entrer 2 fois pour s'arrêter): 2\n",
      "Saisisez (tapez la touche entrer 2 fois pour s'arrêter): 3\n",
      "Saisisez (tapez la touche entrer 2 fois pour s'arrêter): 7\n",
      "Saisisez (tapez la touche entrer 2 fois pour s'arrêter): 10\n",
      "Saisisez (tapez la touche entrer 2 fois pour s'arrêter): \n",
      "[1, 2, 3, 7, 10]\n"
     ]
    }
   ],
   "source": [
    "# 1. Affichage de la liste\n",
    " \n",
    "try: \n",
    "    my_list = [] \n",
    "      \n",
    "    while True: \n",
    "        my_list.append(int(input(\"Saisisez (tapez la touche entrer pour s'arrêter): \"))) \n",
    "          \n",
    "# if the input is not-integer, just print the list \n",
    "except: \n",
    "    print(my_list) \n"
   ]
  },
  {
   "cell_type": "code",
   "execution_count": 9,
   "metadata": {},
   "outputs": [
    {
     "name": "stdout",
     "output_type": "stream",
     "text": [
      "0 1\n",
      "1 2\n",
      "2 3\n",
      "3 7\n",
      "4 10\n"
     ]
    }
   ],
   "source": [
    "# 2. Affiche de la liste en colonne de manière à afficher l'index et son contenu\n",
    "\n",
    "for index, value in enumerate(my_list):\n",
    "    print(index, value)"
   ]
  },
  {
   "cell_type": "code",
   "execution_count": 10,
   "metadata": {},
   "outputs": [
    {
     "data": {
      "text/plain": [
       "23"
      ]
     },
     "execution_count": 10,
     "metadata": {},
     "output_type": "execute_result"
    }
   ],
   "source": [
    "# 3. Addition de tous les éléments de la liste\n",
    "somme_liste = np.array(my_list)\n",
    "somme_liste.sum()\n",
    "    "
   ]
  },
  {
   "cell_type": "code",
   "execution_count": 11,
   "metadata": {},
   "outputs": [
    {
     "name": "stdout",
     "output_type": "stream",
     "text": [
      "[3, 6, 9, 21, 30]\n"
     ]
    }
   ],
   "source": [
    "# 4. Création d'une nouvelle liste qui sera le multiple de (3) de tous les éléments de la liste\n",
    "\n",
    "new_liste = [i*3 for i in my_list]\n",
    "print(new_liste)"
   ]
  },
  {
   "cell_type": "code",
   "execution_count": 12,
   "metadata": {},
   "outputs": [
    {
     "data": {
      "text/plain": [
       "30"
      ]
     },
     "execution_count": 12,
     "metadata": {},
     "output_type": "execute_result"
    }
   ],
   "source": [
    "# 5. Obtenir le plus grand nombre de la liste\n",
    "\n",
    "new_liste = np.array(new_liste)\n",
    "new_liste.max()\n"
   ]
  },
  {
   "cell_type": "code",
   "execution_count": 13,
   "metadata": {},
   "outputs": [
    {
     "data": {
      "text/plain": [
       "3"
      ]
     },
     "execution_count": 13,
     "metadata": {},
     "output_type": "execute_result"
    }
   ],
   "source": [
    "# 6. Obtenir le plus petit nombre de la liste\n",
    "\n",
    "new_liste.min()"
   ]
  },
  {
   "cell_type": "code",
   "execution_count": 15,
   "metadata": {},
   "outputs": [
    {
     "name": "stdout",
     "output_type": "stream",
     "text": [
      "Nombres pairs dans la liste:  2\n",
      "Nombres impairs dans la liste:  3\n"
     ]
    }
   ],
   "source": [
    "# 7. Les nombres pairs présents dans la liste\n",
    "\n",
    "even_count, odd_count = 0, 0\n",
    "  \n",
    "# iterating each number in list \n",
    "for num in new_liste: \n",
    "      \n",
    "    # checking condition \n",
    "    if num % 2 == 0: \n",
    "        even_count += 1\n",
    "  \n",
    "    else: \n",
    "        odd_count += 1\n",
    "          \n",
    "print(\"Nombres pairs dans la liste: \", even_count) \n",
    "print(\"Nombres impairs dans la liste: \", odd_count) "
   ]
  },
  {
   "cell_type": "code",
   "execution_count": 16,
   "metadata": {},
   "outputs": [
    {
     "name": "stdout",
     "output_type": "stream",
     "text": [
      "Somme = 33\n"
     ]
    }
   ],
   "source": [
    "# 8. Calcul de la somme de tous les nombres impairs de la liste\n",
    "\n",
    "somme = [i for i in new_liste if i%2!=0]\n",
    "somme = np.array(somme)\n",
    "print(\"Somme =\",somme.sum())"
   ]
  },
  {
   "cell_type": "markdown",
   "metadata": {},
   "source": [
    "# EXO 3"
   ]
  },
  {
   "cell_type": "code",
   "execution_count": 24,
   "metadata": {},
   "outputs": [
    {
     "name": "stdout",
     "output_type": "stream",
     "text": [
      "Liste crée\n",
      " \n",
      "Ma liste =  ['Rostaing', 'Caleb', '45', '55', '10', '20', 'Davila']\n"
     ]
    }
   ],
   "source": [
    "# 1. Créer la liste\n",
    "\n",
    "ma_liste=['Rostaing','Caleb','45','55','10','20','Davila']\n",
    "print(\"Liste crée\")\n",
    "print(\" \")\n",
    "print(\"Ma liste = \",ma_liste)"
   ]
  },
  {
   "cell_type": "code",
   "execution_count": 25,
   "metadata": {},
   "outputs": [
    {
     "name": "stdout",
     "output_type": "stream",
     "text": [
      "Entrez l'élement : 4\n",
      " \n",
      "Elément ajouté avec succes\n",
      " \n",
      "ma liste =  ['Rostaing', 'Caleb', '45', '55', '10', '20', 'Davila', '4']\n"
     ]
    }
   ],
   "source": [
    "# 2. Ajouter un élément\n",
    "\n",
    "ch2b=input(\"Entrez l'élement : \")\n",
    "print(\" \")\n",
    "ma_liste.append(ch2b)\n",
    "\n",
    "print(\"Elément ajouté avec succes\")\n",
    "print(\" \")\n",
    "print(\"ma liste = \",ma_liste)"
   ]
  },
  {
   "cell_type": "code",
   "execution_count": 26,
   "metadata": {},
   "outputs": [
    {
     "name": "stdout",
     "output_type": "stream",
     "text": [
      "Entrez l'élement à rechercher : 4\n",
      " \n",
      "4  existe!!\n"
     ]
    }
   ],
   "source": [
    "# 3. Rechercher un élément\n",
    "\n",
    "element=input(\"Entrez l'élement à rechercher : \")\n",
    "print(\" \")\n",
    "\n",
    "if element in ma_liste:\n",
    "    print(element, \" existe!!\")\n",
    "else:\n",
    "    print(element, \" n'existe pas dans la liste!!\")\n"
   ]
  },
  {
   "cell_type": "code",
   "execution_count": 27,
   "metadata": {},
   "outputs": [
    {
     "name": "stdout",
     "output_type": "stream",
     "text": [
      "Elément supprimé avec succes!!\n",
      " \n",
      "Ma liste =  ['Rostaing', 'Caleb', '45', '55', '10', '20', 'Davila']\n"
     ]
    }
   ],
   "source": [
    "# 4. Supprimer un élément\n",
    "\n",
    "if element1 in ma_liste:\n",
    "    ma_liste.remove(element1)\n",
    "    print(\"Elément supprimé avec succes!!\")\n",
    "    print(\" \")\n",
    "    print(\"Ma liste = \", ma_liste)\n",
    "else:\n",
    "    print(element1, \" n'exite pas dans la liste!!\")"
   ]
  },
  {
   "cell_type": "code",
   "execution_count": 28,
   "metadata": {},
   "outputs": [
    {
     "name": "stdout",
     "output_type": "stream",
     "text": [
      "Entrez l'élement concèrné : Caleb\n",
      " \n",
      "Caleb apparaît :  1  fois\n",
      " \n"
     ]
    }
   ],
   "source": [
    "# 5. Compter le nombre d'occurence d'un élément\n",
    "\n",
    "element2=input(\"Entrez l'élement concèrné : \")\n",
    "print(\" \")\n",
    "\n",
    "if element2 in ma_liste:\n",
    "    nbr=ma_liste.count(element2)\n",
    "    print(element2, \"apparaît : \", nbr, \" fois\")\n",
    "    print(\" \")\n",
    "else:\n",
    "    print(element2, \" n'exite pas dans la liste!!\")"
   ]
  },
  {
   "cell_type": "code",
   "execution_count": 29,
   "metadata": {},
   "outputs": [
    {
     "name": "stdout",
     "output_type": "stream",
     "text": [
      "ma liste =  ['Rostaing', 'Caleb', '45', '55', '10', '20', 'Davila', '10', '20']\n"
     ]
    }
   ],
   "source": [
    "# 6. Ajouter une sous liste à une liste\n",
    "\n",
    "s=['10','20']\n",
    "ma_liste=ma_liste+s\n",
    "print(\"ma liste = \",ma_liste)"
   ]
  },
  {
   "cell_type": "code",
   "execution_count": 30,
   "metadata": {},
   "outputs": [
    {
     "data": {
      "text/plain": [
       "['10', '10', '20', '20', '45', '55', 'Caleb', 'Davila', 'Rostaing']"
      ]
     },
     "execution_count": 30,
     "metadata": {},
     "output_type": "execute_result"
    }
   ],
   "source": [
    "# 7. Trier la liste\n",
    "\n",
    "sorted(ma_liste)"
   ]
  },
  {
   "cell_type": "code",
   "execution_count": 31,
   "metadata": {},
   "outputs": [
    {
     "name": "stdout",
     "output_type": "stream",
     "text": [
      "Entrez le numéro de la position : 4\n",
      "Entrez l'élément : 45\n",
      "ma liste =  ['Rostaing', 'Caleb', '45', '55', '45', '10', '20', 'Davila', '10', '20']\n"
     ]
    }
   ],
   "source": [
    "# 8. Inserer un élément dans la liste\n",
    "\n",
    "ch3a=int(input(\"Entrez le numéro de la position : \"))\n",
    "ch3b=input(\"Entrez l'élément : \")\n",
    "ma_liste.insert(ch3a,ch3b)\n",
    "\n",
    "print(\"ma liste = \",ma_liste)"
   ]
  },
  {
   "cell_type": "code",
   "execution_count": 45,
   "metadata": {},
   "outputs": [
    {
     "ename": "IndentationError",
     "evalue": "unexpected indent (<ipython-input-45-70824aeb1525>, line 4)",
     "output_type": "error",
     "traceback": [
      "\u001b[1;36m  File \u001b[1;32m\"<ipython-input-45-70824aeb1525>\"\u001b[1;36m, line \u001b[1;32m4\u001b[0m\n\u001b[1;33m    return n % 2\u001b[0m\n\u001b[1;37m    ^\u001b[0m\n\u001b[1;31mIndentationError\u001b[0m\u001b[1;31m:\u001b[0m unexpected indent\n"
     ]
    }
   ],
   "source": [
    "# 9. Filtrer les éléments d'une liste qui ont le même type\n",
    "\n",
    "def odd(n):                 1\n",
    "     return n % 2\n",
    "     \n",
    "     li = ma_liste\n",
    "     filter(odd, li)             \n",
    "\n",
    "     [e for e in li if odd(e)]  \n",
    "     filteredList = []\n",
    "     for n in li:                \n",
    "         if odd(n):\n",
    "             filteredList.append(n)\n",
    "     \n",
    "filteredList "
   ]
  },
  {
   "cell_type": "code",
   "execution_count": 32,
   "metadata": {},
   "outputs": [
    {
     "name": "stdout",
     "output_type": "stream",
     "text": [
      "Le Tuplet =  ('Rostaing', 'Caleb', '45', '55', '45', '10', '20', 'Davila', '10', '20')\n"
     ]
    }
   ],
   "source": [
    "# 10. Convertir une liste en tuple\n",
    "\n",
    "NewListe = ma_liste.copy()\n",
    "\n",
    "nTuplet= tuple(NewListe)\n",
    "print(\"Le Tuplet = \", nTuplet)"
   ]
  },
  {
   "cell_type": "code",
   "execution_count": 33,
   "metadata": {},
   "outputs": [
    {
     "name": "stdout",
     "output_type": "stream",
     "text": [
      "L'ensemble =  {'20', '10', '55', 'Rostaing', 'Davila', '45', 'Caleb'}\n"
     ]
    }
   ],
   "source": [
    "# 11. Transformer une liste en un ensemble\n",
    "\n",
    "NewListe1 = ma_liste.copy()\n",
    "\n",
    "nEnsemble= set(NewListe1)\n",
    "print(\"L'ensemble = \", nEnsemble)"
   ]
  },
  {
   "cell_type": "code",
   "execution_count": 36,
   "metadata": {},
   "outputs": [
    {
     "name": "stdout",
     "output_type": "stream",
     "text": [
      "{'Rostaing': 'Caleb', '45': '10', '20': 'Davila', '10': '20'}\n"
     ]
    }
   ],
   "source": [
    "# 12. Transformer une liste en un dictionnaire\n",
    "\n",
    "import itertools\n",
    "\n",
    "# plain list with odd number of elements\n",
    "plain_list = ma_liste\n",
    "\n",
    "# converting it to iterable to avoid repetition\n",
    "plain_list_iter = iter(plain_list)\n",
    "\n",
    "# converting the plain_list to dict\n",
    "plain_list_dict_object = itertools.zip_longest(plain_list_iter, plain_list_iter, fillvalue=None)\n",
    "\n",
    "# convert the zip_longest object to dict using `dict`\n",
    "plain_list_dict = dict(plain_list_dict_object)\n",
    "\n",
    "# print it\n",
    "print(plain_list_dict)"
   ]
  },
  {
   "cell_type": "markdown",
   "metadata": {},
   "source": [
    "# EXO 4\n"
   ]
  },
  {
   "cell_type": "code",
   "execution_count": 46,
   "metadata": {},
   "outputs": [
    {
     "data": {
      "text/html": [
       "<div>\n",
       "<style scoped>\n",
       "    .dataframe tbody tr th:only-of-type {\n",
       "        vertical-align: middle;\n",
       "    }\n",
       "\n",
       "    .dataframe tbody tr th {\n",
       "        vertical-align: top;\n",
       "    }\n",
       "\n",
       "    .dataframe thead th {\n",
       "        text-align: right;\n",
       "    }\n",
       "</style>\n",
       "<table border=\"1\" class=\"dataframe\">\n",
       "  <thead>\n",
       "    <tr style=\"text-align: right;\">\n",
       "      <th></th>\n",
       "      <th>Index</th>\n",
       "      <th>Nom</th>\n",
       "      <th>Score</th>\n",
       "      <th>Tentative</th>\n",
       "      <th>Qualifié</th>\n",
       "    </tr>\n",
       "  </thead>\n",
       "  <tbody>\n",
       "    <tr>\n",
       "      <th>0</th>\n",
       "      <td>a</td>\n",
       "      <td>MATY</td>\n",
       "      <td>12.5</td>\n",
       "      <td>1</td>\n",
       "      <td>oui</td>\n",
       "    </tr>\n",
       "    <tr>\n",
       "      <th>1</th>\n",
       "      <td>b</td>\n",
       "      <td>Ben</td>\n",
       "      <td>9.0</td>\n",
       "      <td>3</td>\n",
       "      <td>non</td>\n",
       "    </tr>\n",
       "    <tr>\n",
       "      <th>2</th>\n",
       "      <td>c</td>\n",
       "      <td>Koussoubé</td>\n",
       "      <td>16.5</td>\n",
       "      <td>2</td>\n",
       "      <td>oui</td>\n",
       "    </tr>\n",
       "    <tr>\n",
       "      <th>3</th>\n",
       "      <td>d</td>\n",
       "      <td>Nabila</td>\n",
       "      <td>15.9</td>\n",
       "      <td>3</td>\n",
       "      <td>non</td>\n",
       "    </tr>\n",
       "    <tr>\n",
       "      <th>4</th>\n",
       "      <td>e</td>\n",
       "      <td>Noussi</td>\n",
       "      <td>9.0</td>\n",
       "      <td>2</td>\n",
       "      <td>non</td>\n",
       "    </tr>\n",
       "    <tr>\n",
       "      <th>5</th>\n",
       "      <td>f</td>\n",
       "      <td>Guifo</td>\n",
       "      <td>20.0</td>\n",
       "      <td>3</td>\n",
       "      <td>oui</td>\n",
       "    </tr>\n",
       "    <tr>\n",
       "      <th>6</th>\n",
       "      <td>g</td>\n",
       "      <td>Tiama</td>\n",
       "      <td>14.5</td>\n",
       "      <td>1</td>\n",
       "      <td>oui</td>\n",
       "    </tr>\n",
       "    <tr>\n",
       "      <th>7</th>\n",
       "      <td>h</td>\n",
       "      <td>Noubissi</td>\n",
       "      <td>10.8</td>\n",
       "      <td>1</td>\n",
       "      <td>non</td>\n",
       "    </tr>\n",
       "    <tr>\n",
       "      <th>8</th>\n",
       "      <td>i</td>\n",
       "      <td>Obiang</td>\n",
       "      <td>8.0</td>\n",
       "      <td>2</td>\n",
       "      <td>non</td>\n",
       "    </tr>\n",
       "    <tr>\n",
       "      <th>9</th>\n",
       "      <td>j</td>\n",
       "      <td>Housta</td>\n",
       "      <td>19.0</td>\n",
       "      <td>1</td>\n",
       "      <td>oui</td>\n",
       "    </tr>\n",
       "  </tbody>\n",
       "</table>\n",
       "</div>"
      ],
      "text/plain": [
       "  Index        Nom  Score  Tentative Qualifié\n",
       "0     a       MATY   12.5          1      oui\n",
       "1     b        Ben    9.0          3      non\n",
       "2     c  Koussoubé   16.5          2      oui\n",
       "3     d     Nabila   15.9          3      non\n",
       "4     e     Noussi    9.0          2      non\n",
       "5     f      Guifo   20.0          3      oui\n",
       "6     g      Tiama   14.5          1      oui\n",
       "7     h   Noubissi   10.8          1      non\n",
       "8     i     Obiang    8.0          2      non\n",
       "9     j     Housta   19.0          1      oui"
      ]
     },
     "execution_count": 46,
     "metadata": {},
     "output_type": "execute_result"
    }
   ],
   "source": [
    "# 1. Création du DataFrame \n",
    "\n",
    "df = pd.DataFrame({'Index':['a','b','c','d','e','f','g','h','i','j'],'Nom':['MATY','Ben','Koussoubé','Nabila','Noussi','Guifo','Tiama','Noubissi','Obiang','Housta'], 'Score':[12.5,9.0,16.5,15.9,9.0,20.0,14.5,10.8,8.0,19.0],'Tentative':[1,3,2,3,2,3,1,1,2,1],'Qualifié':['oui','non','oui','non','non','oui','oui','non','non','oui']})\n",
    "df"
   ]
  },
  {
   "cell_type": "code",
   "execution_count": 47,
   "metadata": {},
   "outputs": [
    {
     "data": {
      "text/html": [
       "<div>\n",
       "<style scoped>\n",
       "    .dataframe tbody tr th:only-of-type {\n",
       "        vertical-align: middle;\n",
       "    }\n",
       "\n",
       "    .dataframe tbody tr th {\n",
       "        vertical-align: top;\n",
       "    }\n",
       "\n",
       "    .dataframe thead th {\n",
       "        text-align: right;\n",
       "    }\n",
       "</style>\n",
       "<table border=\"1\" class=\"dataframe\">\n",
       "  <thead>\n",
       "    <tr style=\"text-align: right;\">\n",
       "      <th></th>\n",
       "      <th>Score</th>\n",
       "      <th>Tentative</th>\n",
       "    </tr>\n",
       "  </thead>\n",
       "  <tbody>\n",
       "    <tr>\n",
       "      <th>count</th>\n",
       "      <td>10.000</td>\n",
       "      <td>10.000</td>\n",
       "    </tr>\n",
       "    <tr>\n",
       "      <th>mean</th>\n",
       "      <td>13.520</td>\n",
       "      <td>1.900</td>\n",
       "    </tr>\n",
       "    <tr>\n",
       "      <th>std</th>\n",
       "      <td>4.311</td>\n",
       "      <td>0.876</td>\n",
       "    </tr>\n",
       "    <tr>\n",
       "      <th>min</th>\n",
       "      <td>8.000</td>\n",
       "      <td>1.000</td>\n",
       "    </tr>\n",
       "    <tr>\n",
       "      <th>25%</th>\n",
       "      <td>9.450</td>\n",
       "      <td>1.000</td>\n",
       "    </tr>\n",
       "    <tr>\n",
       "      <th>50%</th>\n",
       "      <td>13.500</td>\n",
       "      <td>2.000</td>\n",
       "    </tr>\n",
       "    <tr>\n",
       "      <th>75%</th>\n",
       "      <td>16.350</td>\n",
       "      <td>2.750</td>\n",
       "    </tr>\n",
       "    <tr>\n",
       "      <th>max</th>\n",
       "      <td>20.000</td>\n",
       "      <td>3.000</td>\n",
       "    </tr>\n",
       "  </tbody>\n",
       "</table>\n",
       "</div>"
      ],
      "text/plain": [
       "        Score  Tentative\n",
       "count  10.000     10.000\n",
       "mean   13.520      1.900\n",
       "std     4.311      0.876\n",
       "min     8.000      1.000\n",
       "25%     9.450      1.000\n",
       "50%    13.500      2.000\n",
       "75%    16.350      2.750\n",
       "max    20.000      3.000"
      ]
     },
     "execution_count": 47,
     "metadata": {},
     "output_type": "execute_result"
    }
   ],
   "source": [
    "# 2. Affichage de la statistique descriptive de ce DataFrame avec 3 décimales\n",
    "\n",
    "df.describe().round(3)"
   ]
  },
  {
   "cell_type": "code",
   "execution_count": 48,
   "metadata": {},
   "outputs": [
    {
     "data": {
      "text/plain": [
       "0         MATY\n",
       "1          Ben\n",
       "2    Koussoubé\n",
       "3       Nabila\n",
       "4       Noussi\n",
       "5        Guifo\n",
       "6        Tiama\n",
       "7     Noubissi\n",
       "8       Obiang\n",
       "9       Housta\n",
       "Name: Nom, dtype: object"
      ]
     },
     "execution_count": 48,
     "metadata": {},
     "output_type": "execute_result"
    }
   ],
   "source": [
    "# 3. Affichage de la colonne Nom de ce DataFrame\n",
    "\n",
    "df['Nom']"
   ]
  },
  {
   "cell_type": "code",
   "execution_count": 49,
   "metadata": {},
   "outputs": [
    {
     "data": {
      "text/html": [
       "<div>\n",
       "<style scoped>\n",
       "    .dataframe tbody tr th:only-of-type {\n",
       "        vertical-align: middle;\n",
       "    }\n",
       "\n",
       "    .dataframe tbody tr th {\n",
       "        vertical-align: top;\n",
       "    }\n",
       "\n",
       "    .dataframe thead th {\n",
       "        text-align: right;\n",
       "    }\n",
       "</style>\n",
       "<table border=\"1\" class=\"dataframe\">\n",
       "  <thead>\n",
       "    <tr style=\"text-align: right;\">\n",
       "      <th></th>\n",
       "      <th>Nom</th>\n",
       "      <th>Score</th>\n",
       "      <th>Qualifié</th>\n",
       "    </tr>\n",
       "  </thead>\n",
       "  <tbody>\n",
       "    <tr>\n",
       "      <th>0</th>\n",
       "      <td>MATY</td>\n",
       "      <td>12.5</td>\n",
       "      <td>oui</td>\n",
       "    </tr>\n",
       "    <tr>\n",
       "      <th>1</th>\n",
       "      <td>Ben</td>\n",
       "      <td>9.0</td>\n",
       "      <td>non</td>\n",
       "    </tr>\n",
       "    <tr>\n",
       "      <th>2</th>\n",
       "      <td>Koussoubé</td>\n",
       "      <td>16.5</td>\n",
       "      <td>oui</td>\n",
       "    </tr>\n",
       "    <tr>\n",
       "      <th>3</th>\n",
       "      <td>Nabila</td>\n",
       "      <td>15.9</td>\n",
       "      <td>non</td>\n",
       "    </tr>\n",
       "    <tr>\n",
       "      <th>4</th>\n",
       "      <td>Noussi</td>\n",
       "      <td>9.0</td>\n",
       "      <td>non</td>\n",
       "    </tr>\n",
       "    <tr>\n",
       "      <th>5</th>\n",
       "      <td>Guifo</td>\n",
       "      <td>20.0</td>\n",
       "      <td>oui</td>\n",
       "    </tr>\n",
       "    <tr>\n",
       "      <th>6</th>\n",
       "      <td>Tiama</td>\n",
       "      <td>14.5</td>\n",
       "      <td>oui</td>\n",
       "    </tr>\n",
       "    <tr>\n",
       "      <th>7</th>\n",
       "      <td>Noubissi</td>\n",
       "      <td>10.8</td>\n",
       "      <td>non</td>\n",
       "    </tr>\n",
       "    <tr>\n",
       "      <th>8</th>\n",
       "      <td>Obiang</td>\n",
       "      <td>8.0</td>\n",
       "      <td>non</td>\n",
       "    </tr>\n",
       "    <tr>\n",
       "      <th>9</th>\n",
       "      <td>Housta</td>\n",
       "      <td>19.0</td>\n",
       "      <td>oui</td>\n",
       "    </tr>\n",
       "  </tbody>\n",
       "</table>\n",
       "</div>"
      ],
      "text/plain": [
       "         Nom  Score Qualifié\n",
       "0       MATY   12.5      oui\n",
       "1        Ben    9.0      non\n",
       "2  Koussoubé   16.5      oui\n",
       "3     Nabila   15.9      non\n",
       "4     Noussi    9.0      non\n",
       "5      Guifo   20.0      oui\n",
       "6      Tiama   14.5      oui\n",
       "7   Noubissi   10.8      non\n",
       "8     Obiang    8.0      non\n",
       "9     Housta   19.0      oui"
      ]
     },
     "execution_count": 49,
     "metadata": {},
     "output_type": "execute_result"
    }
   ],
   "source": [
    "# 4. Affichage des colonnes Noms, Score et Qualité de ce DataFrame\n",
    "\n",
    "df[['Nom', 'Score', 'Qualifié']]"
   ]
  },
  {
   "cell_type": "code",
   "execution_count": 50,
   "metadata": {},
   "outputs": [
    {
     "data": {
      "text/html": [
       "<div>\n",
       "<style scoped>\n",
       "    .dataframe tbody tr th:only-of-type {\n",
       "        vertical-align: middle;\n",
       "    }\n",
       "\n",
       "    .dataframe tbody tr th {\n",
       "        vertical-align: top;\n",
       "    }\n",
       "\n",
       "    .dataframe thead th {\n",
       "        text-align: right;\n",
       "    }\n",
       "</style>\n",
       "<table border=\"1\" class=\"dataframe\">\n",
       "  <thead>\n",
       "    <tr style=\"text-align: right;\">\n",
       "      <th></th>\n",
       "      <th>Nom</th>\n",
       "    </tr>\n",
       "  </thead>\n",
       "  <tbody>\n",
       "    <tr>\n",
       "      <th>3</th>\n",
       "      <td>Nabila</td>\n",
       "    </tr>\n",
       "    <tr>\n",
       "      <th>4</th>\n",
       "      <td>Noussi</td>\n",
       "    </tr>\n",
       "    <tr>\n",
       "      <th>7</th>\n",
       "      <td>Noubissi</td>\n",
       "    </tr>\n",
       "  </tbody>\n",
       "</table>\n",
       "</div>"
      ],
      "text/plain": [
       "        Nom\n",
       "3    Nabila\n",
       "4    Noussi\n",
       "7  Noubissi"
      ]
     },
     "execution_count": 50,
     "metadata": {},
     "output_type": "execute_result"
    }
   ],
   "source": [
    "# 5. Affichage de tous les enseignants dont le nom commence par 'N'\n",
    "\n",
    "df[['Nom']].loc[[3, 4, 7]]\n",
    " "
   ]
  },
  {
   "cell_type": "code",
   "execution_count": 51,
   "metadata": {},
   "outputs": [
    {
     "data": {
      "text/html": [
       "<div>\n",
       "<style scoped>\n",
       "    .dataframe tbody tr th:only-of-type {\n",
       "        vertical-align: middle;\n",
       "    }\n",
       "\n",
       "    .dataframe tbody tr th {\n",
       "        vertical-align: top;\n",
       "    }\n",
       "\n",
       "    .dataframe thead th {\n",
       "        text-align: right;\n",
       "    }\n",
       "</style>\n",
       "<table border=\"1\" class=\"dataframe\">\n",
       "  <thead>\n",
       "    <tr style=\"text-align: right;\">\n",
       "      <th></th>\n",
       "      <th>Index</th>\n",
       "      <th>Nom</th>\n",
       "      <th>Score</th>\n",
       "      <th>Tentative</th>\n",
       "    </tr>\n",
       "    <tr>\n",
       "      <th>Qualifié</th>\n",
       "      <th></th>\n",
       "      <th></th>\n",
       "      <th></th>\n",
       "      <th></th>\n",
       "    </tr>\n",
       "  </thead>\n",
       "  <tbody>\n",
       "    <tr>\n",
       "      <th>non</th>\n",
       "      <td>5</td>\n",
       "      <td>5</td>\n",
       "      <td>5</td>\n",
       "      <td>5</td>\n",
       "    </tr>\n",
       "    <tr>\n",
       "      <th>oui</th>\n",
       "      <td>5</td>\n",
       "      <td>5</td>\n",
       "      <td>5</td>\n",
       "      <td>5</td>\n",
       "    </tr>\n",
       "  </tbody>\n",
       "</table>\n",
       "</div>"
      ],
      "text/plain": [
       "          Index  Nom  Score  Tentative\n",
       "Qualifié                              \n",
       "non           5    5      5          5\n",
       "oui           5    5      5          5"
      ]
     },
     "execution_count": 51,
     "metadata": {},
     "output_type": "execute_result"
    }
   ],
   "source": [
    "# 6. Regroupement des enseignants par \"Qualifié\"\n",
    "\n",
    "# df.groupby(['Qualifié','Nom']).groups\n",
    "\n",
    "# k = df.groupby(['Qualifié'])\n",
    "\n",
    "# for Nom in k:\n",
    "#     print(Nom)\n",
    "df.groupby(['Qualifié']).count()"
   ]
  },
  {
   "cell_type": "code",
   "execution_count": 52,
   "metadata": {},
   "outputs": [
    {
     "data": {
      "text/html": [
       "<div>\n",
       "<style scoped>\n",
       "    .dataframe tbody tr th:only-of-type {\n",
       "        vertical-align: middle;\n",
       "    }\n",
       "\n",
       "    .dataframe tbody tr th {\n",
       "        vertical-align: top;\n",
       "    }\n",
       "\n",
       "    .dataframe thead th {\n",
       "        text-align: right;\n",
       "    }\n",
       "</style>\n",
       "<table border=\"1\" class=\"dataframe\">\n",
       "  <thead>\n",
       "    <tr style=\"text-align: right;\">\n",
       "      <th></th>\n",
       "      <th>Index</th>\n",
       "      <th>Nom</th>\n",
       "      <th>Score</th>\n",
       "      <th>Tentative</th>\n",
       "      <th>Qualifié</th>\n",
       "    </tr>\n",
       "  </thead>\n",
       "  <tbody>\n",
       "    <tr>\n",
       "      <th>5</th>\n",
       "      <td>f</td>\n",
       "      <td>Guifo</td>\n",
       "      <td>20.0</td>\n",
       "      <td>3</td>\n",
       "      <td>oui</td>\n",
       "    </tr>\n",
       "  </tbody>\n",
       "</table>\n",
       "</div>"
      ],
      "text/plain": [
       "  Index    Nom  Score  Tentative Qualifié\n",
       "5     f  Guifo   20.0          3      oui"
      ]
     },
     "execution_count": 52,
     "metadata": {},
     "output_type": "execute_result"
    }
   ],
   "source": [
    "# 7. Affichage de la ligne \"f\" du tableau\n",
    "\n",
    "df[df['Index']=='f']"
   ]
  },
  {
   "cell_type": "code",
   "execution_count": 53,
   "metadata": {},
   "outputs": [
    {
     "data": {
      "text/html": [
       "<div>\n",
       "<style scoped>\n",
       "    .dataframe tbody tr th:only-of-type {\n",
       "        vertical-align: middle;\n",
       "    }\n",
       "\n",
       "    .dataframe tbody tr th {\n",
       "        vertical-align: top;\n",
       "    }\n",
       "\n",
       "    .dataframe thead th {\n",
       "        text-align: right;\n",
       "    }\n",
       "</style>\n",
       "<table border=\"1\" class=\"dataframe\">\n",
       "  <thead>\n",
       "    <tr style=\"text-align: right;\">\n",
       "      <th></th>\n",
       "      <th>Index</th>\n",
       "      <th>Nom</th>\n",
       "      <th>Score</th>\n",
       "      <th>Tentative</th>\n",
       "      <th>Qualifié</th>\n",
       "    </tr>\n",
       "  </thead>\n",
       "  <tbody>\n",
       "    <tr>\n",
       "      <th>5</th>\n",
       "      <td>f</td>\n",
       "      <td>Guifo</td>\n",
       "      <td>20.0</td>\n",
       "      <td>3</td>\n",
       "      <td>oui</td>\n",
       "    </tr>\n",
       "  </tbody>\n",
       "</table>\n",
       "</div>"
      ],
      "text/plain": [
       "  Index    Nom  Score  Tentative Qualifié\n",
       "5     f  Guifo   20.0          3      oui"
      ]
     },
     "execution_count": 53,
     "metadata": {},
     "output_type": "execute_result"
    }
   ],
   "source": [
    "# 8. Affichage de la ligne correspondate de l'enseignant qui a eu le maximum de score\n",
    "\n",
    "df[df['Score']==df['Score'].max()]\n"
   ]
  },
  {
   "cell_type": "code",
   "execution_count": 54,
   "metadata": {},
   "outputs": [
    {
     "data": {
      "text/html": [
       "<div>\n",
       "<style scoped>\n",
       "    .dataframe tbody tr th:only-of-type {\n",
       "        vertical-align: middle;\n",
       "    }\n",
       "\n",
       "    .dataframe tbody tr th {\n",
       "        vertical-align: top;\n",
       "    }\n",
       "\n",
       "    .dataframe thead th {\n",
       "        text-align: right;\n",
       "    }\n",
       "</style>\n",
       "<table border=\"1\" class=\"dataframe\">\n",
       "  <thead>\n",
       "    <tr style=\"text-align: right;\">\n",
       "      <th></th>\n",
       "      <th>Index</th>\n",
       "      <th>Nom</th>\n",
       "      <th>Score</th>\n",
       "      <th>Tentative</th>\n",
       "      <th>Qualifié</th>\n",
       "    </tr>\n",
       "  </thead>\n",
       "  <tbody>\n",
       "    <tr>\n",
       "      <th>0</th>\n",
       "      <td>a</td>\n",
       "      <td>MATY</td>\n",
       "      <td>12.5</td>\n",
       "      <td>1</td>\n",
       "      <td>oui</td>\n",
       "    </tr>\n",
       "    <tr>\n",
       "      <th>6</th>\n",
       "      <td>g</td>\n",
       "      <td>Tiama</td>\n",
       "      <td>14.5</td>\n",
       "      <td>1</td>\n",
       "      <td>oui</td>\n",
       "    </tr>\n",
       "    <tr>\n",
       "      <th>7</th>\n",
       "      <td>h</td>\n",
       "      <td>Noubissi</td>\n",
       "      <td>10.8</td>\n",
       "      <td>1</td>\n",
       "      <td>non</td>\n",
       "    </tr>\n",
       "    <tr>\n",
       "      <th>9</th>\n",
       "      <td>j</td>\n",
       "      <td>Housta</td>\n",
       "      <td>19.0</td>\n",
       "      <td>1</td>\n",
       "      <td>oui</td>\n",
       "    </tr>\n",
       "  </tbody>\n",
       "</table>\n",
       "</div>"
      ],
      "text/plain": [
       "  Index       Nom  Score  Tentative Qualifié\n",
       "0     a      MATY   12.5          1      oui\n",
       "6     g     Tiama   14.5          1      oui\n",
       "7     h  Noubissi   10.8          1      non\n",
       "9     j    Housta   19.0          1      oui"
      ]
     },
     "execution_count": 54,
     "metadata": {},
     "output_type": "execute_result"
    }
   ],
   "source": [
    "# 9. Affichage des enseignants qui ont effectué une seule tentative\n",
    "\n",
    "df[df['Tentative']==1]"
   ]
  },
  {
   "cell_type": "code",
   "execution_count": 55,
   "metadata": {},
   "outputs": [
    {
     "data": {
      "text/html": [
       "<div>\n",
       "<style scoped>\n",
       "    .dataframe tbody tr th:only-of-type {\n",
       "        vertical-align: middle;\n",
       "    }\n",
       "\n",
       "    .dataframe tbody tr th {\n",
       "        vertical-align: top;\n",
       "    }\n",
       "\n",
       "    .dataframe thead th {\n",
       "        text-align: right;\n",
       "    }\n",
       "</style>\n",
       "<table border=\"1\" class=\"dataframe\">\n",
       "  <thead>\n",
       "    <tr style=\"text-align: right;\">\n",
       "      <th></th>\n",
       "      <th>Nom</th>\n",
       "      <th>Score</th>\n",
       "    </tr>\n",
       "  </thead>\n",
       "  <tbody>\n",
       "    <tr>\n",
       "      <th>2</th>\n",
       "      <td>Koussoubé</td>\n",
       "      <td>16.5</td>\n",
       "    </tr>\n",
       "    <tr>\n",
       "      <th>3</th>\n",
       "      <td>Nabila</td>\n",
       "      <td>15.9</td>\n",
       "    </tr>\n",
       "    <tr>\n",
       "      <th>4</th>\n",
       "      <td>Noussi</td>\n",
       "      <td>9.0</td>\n",
       "    </tr>\n",
       "    <tr>\n",
       "      <th>5</th>\n",
       "      <td>Guifo</td>\n",
       "      <td>20.0</td>\n",
       "    </tr>\n",
       "    <tr>\n",
       "      <th>6</th>\n",
       "      <td>Tiama</td>\n",
       "      <td>14.5</td>\n",
       "    </tr>\n",
       "    <tr>\n",
       "      <th>7</th>\n",
       "      <td>Noubissi</td>\n",
       "      <td>10.8</td>\n",
       "    </tr>\n",
       "  </tbody>\n",
       "</table>\n",
       "</div>"
      ],
      "text/plain": [
       "         Nom  Score\n",
       "2  Koussoubé   16.5\n",
       "3     Nabila   15.9\n",
       "4     Noussi    9.0\n",
       "5      Guifo   20.0\n",
       "6      Tiama   14.5\n",
       "7   Noubissi   10.8"
      ]
     },
     "execution_count": 55,
     "metadata": {},
     "output_type": "execute_result"
    }
   ],
   "source": [
    "# 10. Affichage des lignes de \"c\" à \"h\" avec les colonnes \"Nom\" et \"Score\"\n",
    "\n",
    "df[['Nom', 'Score']].loc[[2, 3, 4, 5, 6, 7]] \n"
   ]
  },
  {
   "cell_type": "code",
   "execution_count": 56,
   "metadata": {},
   "outputs": [
    {
     "data": {
      "text/html": [
       "<div>\n",
       "<style scoped>\n",
       "    .dataframe tbody tr th:only-of-type {\n",
       "        vertical-align: middle;\n",
       "    }\n",
       "\n",
       "    .dataframe tbody tr th {\n",
       "        vertical-align: top;\n",
       "    }\n",
       "\n",
       "    .dataframe thead th {\n",
       "        text-align: right;\n",
       "    }\n",
       "</style>\n",
       "<table border=\"1\" class=\"dataframe\">\n",
       "  <thead>\n",
       "    <tr style=\"text-align: right;\">\n",
       "      <th></th>\n",
       "      <th>Index</th>\n",
       "      <th>Nom</th>\n",
       "      <th>Score</th>\n",
       "      <th>Tentative</th>\n",
       "      <th>Qualifié</th>\n",
       "    </tr>\n",
       "  </thead>\n",
       "  <tbody>\n",
       "    <tr>\n",
       "      <th>0</th>\n",
       "      <td>a</td>\n",
       "      <td>MATY</td>\n",
       "      <td>12.5</td>\n",
       "      <td>1</td>\n",
       "      <td>oui</td>\n",
       "    </tr>\n",
       "    <tr>\n",
       "      <th>2</th>\n",
       "      <td>c</td>\n",
       "      <td>Koussoubé</td>\n",
       "      <td>16.5</td>\n",
       "      <td>2</td>\n",
       "      <td>oui</td>\n",
       "    </tr>\n",
       "    <tr>\n",
       "      <th>5</th>\n",
       "      <td>f</td>\n",
       "      <td>Guifo</td>\n",
       "      <td>20.0</td>\n",
       "      <td>3</td>\n",
       "      <td>oui</td>\n",
       "    </tr>\n",
       "    <tr>\n",
       "      <th>6</th>\n",
       "      <td>g</td>\n",
       "      <td>Tiama</td>\n",
       "      <td>14.5</td>\n",
       "      <td>1</td>\n",
       "      <td>oui</td>\n",
       "    </tr>\n",
       "    <tr>\n",
       "      <th>9</th>\n",
       "      <td>j</td>\n",
       "      <td>Housta</td>\n",
       "      <td>19.0</td>\n",
       "      <td>1</td>\n",
       "      <td>oui</td>\n",
       "    </tr>\n",
       "  </tbody>\n",
       "</table>\n",
       "</div>"
      ],
      "text/plain": [
       "  Index        Nom  Score  Tentative Qualifié\n",
       "0     a       MATY   12.5          1      oui\n",
       "2     c  Koussoubé   16.5          2      oui\n",
       "5     f      Guifo   20.0          3      oui\n",
       "6     g      Tiama   14.5          1      oui\n",
       "9     j     Housta   19.0          1      oui"
      ]
     },
     "execution_count": 56,
     "metadata": {},
     "output_type": "execute_result"
    }
   ],
   "source": [
    "# 11. Affichage des enseignats qualifiés\n",
    "\n",
    "df[df['Qualifié']=='oui']"
   ]
  },
  {
   "cell_type": "code",
   "execution_count": 57,
   "metadata": {},
   "outputs": [
    {
     "data": {
      "text/html": [
       "<div>\n",
       "<style scoped>\n",
       "    .dataframe tbody tr th:only-of-type {\n",
       "        vertical-align: middle;\n",
       "    }\n",
       "\n",
       "    .dataframe tbody tr th {\n",
       "        vertical-align: top;\n",
       "    }\n",
       "\n",
       "    .dataframe thead th {\n",
       "        text-align: right;\n",
       "    }\n",
       "</style>\n",
       "<table border=\"1\" class=\"dataframe\">\n",
       "  <thead>\n",
       "    <tr style=\"text-align: right;\">\n",
       "      <th></th>\n",
       "      <th>Index</th>\n",
       "      <th>Nom</th>\n",
       "      <th>Score</th>\n",
       "      <th>Tentative</th>\n",
       "      <th>Qualifié</th>\n",
       "    </tr>\n",
       "  </thead>\n",
       "  <tbody>\n",
       "    <tr>\n",
       "      <th>0</th>\n",
       "      <td>a</td>\n",
       "      <td>MATY</td>\n",
       "      <td>12.5</td>\n",
       "      <td>1</td>\n",
       "      <td>oui</td>\n",
       "    </tr>\n",
       "    <tr>\n",
       "      <th>1</th>\n",
       "      <td>b</td>\n",
       "      <td>Ben</td>\n",
       "      <td>9.0</td>\n",
       "      <td>3</td>\n",
       "      <td>non</td>\n",
       "    </tr>\n",
       "    <tr>\n",
       "      <th>2</th>\n",
       "      <td>c</td>\n",
       "      <td>Koussoubé</td>\n",
       "      <td>16.5</td>\n",
       "      <td>2</td>\n",
       "      <td>oui</td>\n",
       "    </tr>\n",
       "    <tr>\n",
       "      <th>3</th>\n",
       "      <td>d</td>\n",
       "      <td>Nabila</td>\n",
       "      <td>15.9</td>\n",
       "      <td>3</td>\n",
       "      <td>non</td>\n",
       "    </tr>\n",
       "    <tr>\n",
       "      <th>4</th>\n",
       "      <td>e</td>\n",
       "      <td>Noussi</td>\n",
       "      <td>18.0</td>\n",
       "      <td>2</td>\n",
       "      <td>non</td>\n",
       "    </tr>\n",
       "    <tr>\n",
       "      <th>5</th>\n",
       "      <td>f</td>\n",
       "      <td>Guifo</td>\n",
       "      <td>20.0</td>\n",
       "      <td>3</td>\n",
       "      <td>oui</td>\n",
       "    </tr>\n",
       "    <tr>\n",
       "      <th>6</th>\n",
       "      <td>g</td>\n",
       "      <td>Tiama</td>\n",
       "      <td>14.5</td>\n",
       "      <td>1</td>\n",
       "      <td>oui</td>\n",
       "    </tr>\n",
       "    <tr>\n",
       "      <th>7</th>\n",
       "      <td>h</td>\n",
       "      <td>Noubissi</td>\n",
       "      <td>10.8</td>\n",
       "      <td>1</td>\n",
       "      <td>non</td>\n",
       "    </tr>\n",
       "    <tr>\n",
       "      <th>8</th>\n",
       "      <td>i</td>\n",
       "      <td>Obiang</td>\n",
       "      <td>8.0</td>\n",
       "      <td>2</td>\n",
       "      <td>non</td>\n",
       "    </tr>\n",
       "    <tr>\n",
       "      <th>9</th>\n",
       "      <td>j</td>\n",
       "      <td>Housta</td>\n",
       "      <td>19.0</td>\n",
       "      <td>1</td>\n",
       "      <td>oui</td>\n",
       "    </tr>\n",
       "  </tbody>\n",
       "</table>\n",
       "</div>"
      ],
      "text/plain": [
       "  Index        Nom  Score  Tentative Qualifié\n",
       "0     a       MATY   12.5          1      oui\n",
       "1     b        Ben    9.0          3      non\n",
       "2     c  Koussoubé   16.5          2      oui\n",
       "3     d     Nabila   15.9          3      non\n",
       "4     e     Noussi   18.0          2      non\n",
       "5     f      Guifo   20.0          3      oui\n",
       "6     g      Tiama   14.5          1      oui\n",
       "7     h   Noubissi   10.8          1      non\n",
       "8     i     Obiang    8.0          2      non\n",
       "9     j     Housta   19.0          1      oui"
      ]
     },
     "execution_count": 57,
     "metadata": {},
     "output_type": "execute_result"
    }
   ],
   "source": [
    "# 12. Modification du score de M. Noussi de 9 à 18\n",
    "\n",
    "df.loc[df['Nom']=='Noussi','Score']=18\n",
    "df"
   ]
  },
  {
   "cell_type": "code",
   "execution_count": 58,
   "metadata": {},
   "outputs": [
    {
     "data": {
      "text/html": [
       "<div>\n",
       "<style scoped>\n",
       "    .dataframe tbody tr th:only-of-type {\n",
       "        vertical-align: middle;\n",
       "    }\n",
       "\n",
       "    .dataframe tbody tr th {\n",
       "        vertical-align: top;\n",
       "    }\n",
       "\n",
       "    .dataframe thead th {\n",
       "        text-align: right;\n",
       "    }\n",
       "</style>\n",
       "<table border=\"1\" class=\"dataframe\">\n",
       "  <thead>\n",
       "    <tr style=\"text-align: right;\">\n",
       "      <th></th>\n",
       "      <th>Index</th>\n",
       "      <th>Nom</th>\n",
       "      <th>Score</th>\n",
       "      <th>Tentative</th>\n",
       "      <th>Qualifié</th>\n",
       "    </tr>\n",
       "  </thead>\n",
       "  <tbody>\n",
       "    <tr>\n",
       "      <th>0</th>\n",
       "      <td>a</td>\n",
       "      <td>MATY</td>\n",
       "      <td>12.5</td>\n",
       "      <td>1</td>\n",
       "      <td>oui</td>\n",
       "    </tr>\n",
       "    <tr>\n",
       "      <th>2</th>\n",
       "      <td>c</td>\n",
       "      <td>Koussoubé</td>\n",
       "      <td>16.5</td>\n",
       "      <td>2</td>\n",
       "      <td>oui</td>\n",
       "    </tr>\n",
       "    <tr>\n",
       "      <th>5</th>\n",
       "      <td>f</td>\n",
       "      <td>Guifo</td>\n",
       "      <td>20.0</td>\n",
       "      <td>3</td>\n",
       "      <td>oui</td>\n",
       "    </tr>\n",
       "    <tr>\n",
       "      <th>6</th>\n",
       "      <td>g</td>\n",
       "      <td>Tiama</td>\n",
       "      <td>14.5</td>\n",
       "      <td>1</td>\n",
       "      <td>oui</td>\n",
       "    </tr>\n",
       "    <tr>\n",
       "      <th>9</th>\n",
       "      <td>j</td>\n",
       "      <td>Housta</td>\n",
       "      <td>19.0</td>\n",
       "      <td>1</td>\n",
       "      <td>oui</td>\n",
       "    </tr>\n",
       "  </tbody>\n",
       "</table>\n",
       "</div>"
      ],
      "text/plain": [
       "  Index        Nom  Score  Tentative Qualifié\n",
       "0     a       MATY   12.5          1      oui\n",
       "2     c  Koussoubé   16.5          2      oui\n",
       "5     f      Guifo   20.0          3      oui\n",
       "6     g      Tiama   14.5          1      oui\n",
       "9     j     Housta   19.0          1      oui"
      ]
     },
     "execution_count": 58,
     "metadata": {},
     "output_type": "execute_result"
    }
   ],
   "source": [
    "# 13. Affichage des qualifiés qui ont un score de plus de 15 points \n",
    "#df.loc[df['Score']>15]\n",
    "\n",
    "df.loc[df['Qualifié']=='oui']"
   ]
  },
  {
   "cell_type": "code",
   "execution_count": 59,
   "metadata": {},
   "outputs": [
    {
     "data": {
      "text/plain": [
       "Tentative     1.90\n",
       "Score        14.42\n",
       "dtype: float64"
      ]
     },
     "execution_count": 59,
     "metadata": {},
     "output_type": "execute_result"
    }
   ],
   "source": [
    "# 14. Affichage de la moyenne des Scores par tentative\n",
    "\n",
    "df[['Tentative', 'Score']].mean()\n"
   ]
  },
  {
   "cell_type": "code",
   "execution_count": 60,
   "metadata": {},
   "outputs": [
    {
     "data": {
      "image/png": "[encoded data removed]",
      "text/plain": [
       "<Figure size 432x288 with 1 Axes>"
      ]
     },
     "metadata": {
      "needs_background": "light"
     },
     "output_type": "display_data"
    }
   ],
   "source": [
    "# 15. Représentation graphiquement des colonnes Tentative et Score\n",
    "\n",
    "df[['Tentative', 'Score']].plot()\n",
    "plt.show()"
   ]
  },
  {
   "cell_type": "code",
   "execution_count": null,
   "metadata": {},
   "outputs": [],
   "source": []
  }
 ],
 "metadata": {
  "kernelspec": {
   "display_name": "Python 3",
   "language": "python",
   "name": "python3"
  },
  "language_info": {
   "codemirror_mode": {
    "name": "ipython",
    "version": 3
   },
   "file_extension": ".py",
   "mimetype": "text/x-python",
   "name": "python",
   "nbconvert_exporter": "python",
   "pygments_lexer": "ipython3",
   "version": "3.7.6"
  }
 },
 "nbformat": 4,
 "nbformat_minor": 4
}
