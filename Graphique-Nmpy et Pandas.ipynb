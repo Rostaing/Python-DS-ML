{
 "cells": [
  {
   "cell_type": "code",
   "execution_count": 1,
   "metadata": {},
   "outputs": [
    {
     "name": "stdout",
     "output_type": "stream",
     "text": [
      "2 6 8 "
     ]
    }
   ],
   "source": [
    "def puplet(*args):\n",
    "    for e in args:\n",
    "        print(e, end=\" \")\n",
    "\n",
    "        \n",
    "puplet(2,6,8)     "
   ]
  },
  {
   "cell_type": "code",
   "execution_count": 2,
   "metadata": {},
   "outputs": [
    {
     "name": "stdout",
     "output_type": "stream",
     "text": [
      "[2, 9, 8] "
     ]
    }
   ],
   "source": [
    "puplet([2,9,8])"
   ]
  },
  {
   "cell_type": "code",
   "execution_count": 3,
   "metadata": {},
   "outputs": [
    {
     "name": "stdout",
     "output_type": "stream",
     "text": [
      "2 "
     ]
    }
   ],
   "source": [
    "puplet(2)"
   ]
  },
  {
   "cell_type": "code",
   "execution_count": 4,
   "metadata": {},
   "outputs": [
    {
     "name": "stdout",
     "output_type": "stream",
     "text": [
      "[4, 9, 10] 2 (8, 7, 0) "
     ]
    }
   ],
   "source": [
    "puplet([4,9,10],2,(8,7,0))"
   ]
  },
  {
   "cell_type": "code",
   "execution_count": 5,
   "metadata": {},
   "outputs": [
    {
     "name": "stdout",
     "output_type": "stream",
     "text": [
      "Nom = MATY\n",
      "Premon = Maman\n",
      "Age = 49\n"
     ]
    }
   ],
   "source": [
    "def diko(**kwargs):\n",
    "    for key, value in kwargs.items():\n",
    "        print(\"{0} = {1}\".format(key, value))\n",
    "\n",
    "diko(Nom=\"MATY\",Premon=\"Maman\",Age=49)"
   ]
  },
  {
   "cell_type": "markdown",
   "metadata": {},
   "source": [
    "# opérations sur liste numy et pandas"
   ]
  },
  {
   "cell_type": "code",
   "execution_count": 6,
   "metadata": {},
   "outputs": [],
   "source": [
    "s=[2,3,2,1,4,3,4,5,2,4,3,3,3]"
   ]
  },
  {
   "cell_type": "code",
   "execution_count": 7,
   "metadata": {},
   "outputs": [
    {
     "data": {
      "text/plain": [
       "[2, 3, 2, 1, 4, 3, 4, 5, 2, 4, 3, 3, 3]"
      ]
     },
     "execution_count": 7,
     "metadata": {},
     "output_type": "execute_result"
    }
   ],
   "source": [
    "s"
   ]
  },
  {
   "cell_type": "code",
   "execution_count": 8,
   "metadata": {},
   "outputs": [
    {
     "data": {
      "text/plain": [
       "39"
      ]
     },
     "execution_count": 8,
     "metadata": {},
     "output_type": "execute_result"
    }
   ],
   "source": [
    "sum(s)"
   ]
  },
  {
   "cell_type": "code",
   "execution_count": 9,
   "metadata": {},
   "outputs": [
    {
     "data": {
      "text/plain": [
       "13"
      ]
     },
     "execution_count": 9,
     "metadata": {},
     "output_type": "execute_result"
    }
   ],
   "source": [
    "len(s)"
   ]
  },
  {
   "cell_type": "code",
   "execution_count": 10,
   "metadata": {},
   "outputs": [
    {
     "data": {
      "text/plain": [
       "1"
      ]
     },
     "execution_count": 10,
     "metadata": {},
     "output_type": "execute_result"
    }
   ],
   "source": [
    "min(s)"
   ]
  },
  {
   "cell_type": "code",
   "execution_count": 11,
   "metadata": {},
   "outputs": [
    {
     "data": {
      "text/plain": [
       "5"
      ]
     },
     "execution_count": 11,
     "metadata": {},
     "output_type": "execute_result"
    }
   ],
   "source": [
    "max(s)"
   ]
  },
  {
   "cell_type": "code",
   "execution_count": 12,
   "metadata": {},
   "outputs": [],
   "source": [
    "# import numpy as np\n",
    "# s = np.array(s)\n",
    "# sum(s)/len(s)"
   ]
  },
  {
   "cell_type": "code",
   "execution_count": null,
   "metadata": {},
   "outputs": [],
   "source": []
  },
  {
   "cell_type": "markdown",
   "metadata": {},
   "source": [
    "# Pour calculer la moyenne il faut import numpy"
   ]
  },
  {
   "cell_type": "code",
   "execution_count": null,
   "metadata": {},
   "outputs": [],
   "source": [
    "# np.std(n, ddof=1) => S\n",
    "# np.var(n, ddof=1) => S²"
   ]
  },
  {
   "cell_type": "code",
   "execution_count": 16,
   "metadata": {},
   "outputs": [],
   "source": [
    "import numpy as np"
   ]
  },
  {
   "cell_type": "code",
   "execution_count": 18,
   "metadata": {},
   "outputs": [
    {
     "data": {
      "text/plain": [
       "array([[10, 13, 11],\n",
       "       [15, 16, 17],\n",
       "       [11, 15, 18]])"
      ]
     },
     "execution_count": 18,
     "metadata": {},
     "output_type": "execute_result"
    }
   ],
   "source": [
    "M = np.array([[10, 13, 11], [15, 16, 17], [11, 15, 18]])\n",
    "M"
   ]
  },
  {
   "cell_type": "code",
   "execution_count": 20,
   "metadata": {},
   "outputs": [
    {
     "data": {
      "text/plain": [
       "10"
      ]
     },
     "execution_count": 20,
     "metadata": {},
     "output_type": "execute_result"
    }
   ],
   "source": [
    "M.min()"
   ]
  },
  {
   "cell_type": "code",
   "execution_count": 21,
   "metadata": {},
   "outputs": [
    {
     "data": {
      "text/plain": [
       "array([10, 15, 11])"
      ]
     },
     "execution_count": 21,
     "metadata": {},
     "output_type": "execute_result"
    }
   ],
   "source": [
    "M.min(axis=1)"
   ]
  },
  {
   "cell_type": "code",
   "execution_count": 23,
   "metadata": {},
   "outputs": [
    {
     "data": {
      "text/plain": [
       "array([10, 13, 11])"
      ]
     },
     "execution_count": 23,
     "metadata": {},
     "output_type": "execute_result"
    }
   ],
   "source": [
    "M.min(axis=0)"
   ]
  },
  {
   "cell_type": "code",
   "execution_count": 26,
   "metadata": {},
   "outputs": [
    {
     "data": {
      "text/plain": [
       "array([2, 3, 2, 1, 4, 3, 4, 5, 2, 4, 3, 3, 3])"
      ]
     },
     "execution_count": 26,
     "metadata": {},
     "output_type": "execute_result"
    }
   ],
   "source": [
    "m = M.mean(axis=0)\n",
    "s = M.std(axis=0)\n",
    "N = (M-m)/s\n",
    "n"
   ]
  },
  {
   "cell_type": "code",
   "execution_count": 27,
   "metadata": {},
   "outputs": [
    {
     "data": {
      "text/plain": [
       "array([ 0.00000000e+00,  4.25585493e-16, -1.85037171e-16])"
      ]
     },
     "execution_count": 27,
     "metadata": {},
     "output_type": "execute_result"
    }
   ],
   "source": [
    "N.mean(axis=0)"
   ]
  },
  {
   "cell_type": "code",
   "execution_count": 28,
   "metadata": {},
   "outputs": [
    {
     "data": {
      "text/plain": [
       "array([1., 1., 1.])"
      ]
     },
     "execution_count": 28,
     "metadata": {},
     "output_type": "execute_result"
    }
   ],
   "source": [
    "N.std(axis=0)"
   ]
  },
  {
   "cell_type": "code",
   "execution_count": 29,
   "metadata": {},
   "outputs": [
    {
     "data": {
      "text/plain": [
       "16"
      ]
     },
     "execution_count": 29,
     "metadata": {},
     "output_type": "execute_result"
    }
   ],
   "source": [
    "M[1,1]"
   ]
  },
  {
   "cell_type": "code",
   "execution_count": 30,
   "metadata": {},
   "outputs": [
    {
     "data": {
      "text/plain": [
       "array([15, 16, 17])"
      ]
     },
     "execution_count": 30,
     "metadata": {},
     "output_type": "execute_result"
    }
   ],
   "source": [
    "M[1,:]"
   ]
  },
  {
   "cell_type": "code",
   "execution_count": 31,
   "metadata": {},
   "outputs": [
    {
     "data": {
      "text/plain": [
       "array([11, 17, 18])"
      ]
     },
     "execution_count": 31,
     "metadata": {},
     "output_type": "execute_result"
    }
   ],
   "source": [
    "M[:, 2]"
   ]
  },
  {
   "cell_type": "code",
   "execution_count": 14,
   "metadata": {},
   "outputs": [],
   "source": [
    "n=np.array(s)"
   ]
  },
  {
   "cell_type": "code",
   "execution_count": 15,
   "metadata": {},
   "outputs": [
    {
     "data": {
      "text/plain": [
       "array([2, 3, 2, 1, 4, 3, 4, 5, 2, 4, 3, 3, 3])"
      ]
     },
     "execution_count": 15,
     "metadata": {},
     "output_type": "execute_result"
    }
   ],
   "source": [
    "n"
   ]
  },
  {
   "cell_type": "code",
   "execution_count": 13,
   "metadata": {},
   "outputs": [
    {
     "data": {
      "text/plain": [
       "3.0"
      ]
     },
     "execution_count": 13,
     "metadata": {},
     "output_type": "execute_result"
    }
   ],
   "source": [
    "n.mean()"
   ]
  },
  {
   "cell_type": "code",
   "execution_count": 14,
   "metadata": {},
   "outputs": [
    {
     "data": {
      "text/plain": [
       "5"
      ]
     },
     "execution_count": 14,
     "metadata": {},
     "output_type": "execute_result"
    }
   ],
   "source": [
    "n.max()"
   ]
  },
  {
   "cell_type": "code",
   "execution_count": 15,
   "metadata": {},
   "outputs": [
    {
     "data": {
      "text/plain": [
       "1"
      ]
     },
     "execution_count": 15,
     "metadata": {},
     "output_type": "execute_result"
    }
   ],
   "source": [
    "n.min()"
   ]
  },
  {
   "cell_type": "code",
   "execution_count": 16,
   "metadata": {},
   "outputs": [
    {
     "data": {
      "text/plain": [
       "39"
      ]
     },
     "execution_count": 16,
     "metadata": {},
     "output_type": "execute_result"
    }
   ],
   "source": [
    "n.sum()"
   ]
  },
  {
   "cell_type": "code",
   "execution_count": 17,
   "metadata": {},
   "outputs": [
    {
     "data": {
      "text/plain": [
       "1.0769230769230769"
      ]
     },
     "execution_count": 17,
     "metadata": {},
     "output_type": "execute_result"
    }
   ],
   "source": [
    "n.var()"
   ]
  },
  {
   "cell_type": "code",
   "execution_count": 18,
   "metadata": {},
   "outputs": [
    {
     "data": {
      "text/plain": [
       "1.0377490433255416"
      ]
     },
     "execution_count": 18,
     "metadata": {},
     "output_type": "execute_result"
    }
   ],
   "source": [
    "n.std()"
   ]
  },
  {
   "cell_type": "code",
   "execution_count": 26,
   "metadata": {},
   "outputs": [
    {
     "data": {
      "text/plain": [
       "4.0"
      ]
     },
     "execution_count": 26,
     "metadata": {},
     "output_type": "execute_result"
    }
   ],
   "source": [
    "np.quantile(n,0.75)"
   ]
  },
  {
   "cell_type": "code",
   "execution_count": 27,
   "metadata": {},
   "outputs": [
    {
     "data": {
      "text/plain": [
       "array([2., 3., 4.])"
      ]
     },
     "execution_count": 27,
     "metadata": {},
     "output_type": "execute_result"
    }
   ],
   "source": [
    "np.quantile(n,[0.25,0.5,0.75])"
   ]
  },
  {
   "cell_type": "code",
   "execution_count": 32,
   "metadata": {},
   "outputs": [],
   "source": [
    "import pandas as pd"
   ]
  },
  {
   "cell_type": "code",
   "execution_count": 35,
   "metadata": {},
   "outputs": [
    {
     "data": {
      "text/plain": [
       "0     2\n",
       "1     3\n",
       "2     2\n",
       "3     1\n",
       "4     4\n",
       "5     3\n",
       "6     4\n",
       "7     5\n",
       "8     2\n",
       "9     4\n",
       "10    3\n",
       "11    3\n",
       "12    3\n",
       "dtype: int32"
      ]
     },
     "execution_count": 35,
     "metadata": {},
     "output_type": "execute_result"
    }
   ],
   "source": [
    "d = pd.Series(n)\n",
    "d"
   ]
  },
  {
   "cell_type": "code",
   "execution_count": 39,
   "metadata": {},
   "outputs": [
    {
     "data": {
      "text/plain": [
       "count    13.000000\n",
       "mean      3.000000\n",
       "std       1.080123\n",
       "min       1.000000\n",
       "25%       2.000000\n",
       "50%       3.000000\n",
       "75%       4.000000\n",
       "max       5.000000\n",
       "dtype: float64"
      ]
     },
     "execution_count": 39,
     "metadata": {},
     "output_type": "execute_result"
    }
   ],
   "source": [
    "d.describe() # avec 50% = median"
   ]
  },
  {
   "cell_type": "code",
   "execution_count": 30,
   "metadata": {},
   "outputs": [],
   "source": [
    "d=pd.Series(n)"
   ]
  },
  {
   "cell_type": "code",
   "execution_count": 40,
   "metadata": {},
   "outputs": [
    {
     "data": {
      "text/plain": [
       "0    3\n",
       "dtype: int32"
      ]
     },
     "execution_count": 40,
     "metadata": {},
     "output_type": "execute_result"
    }
   ],
   "source": [
    "d.mode()"
   ]
  },
  {
   "cell_type": "code",
   "execution_count": 41,
   "metadata": {},
   "outputs": [
    {
     "name": "stdout",
     "output_type": "stream",
     "text": [
      "compute.use_bottleneck : bool\n",
      "    Use the bottleneck library to accelerate if it is installed,\n",
      "    the default is True\n",
      "    Valid values: False,True\n",
      "    [default: True] [currently: True]\n",
      "compute.use_numexpr : bool\n",
      "    Use the numexpr library to accelerate computation if it is installed,\n",
      "    the default is True\n",
      "    Valid values: False,True\n",
      "    [default: True] [currently: True]\n",
      "display.chop_threshold : float or None\n",
      "    if set to a float value, all float values smaller then the given threshold\n",
      "    will be displayed as exactly 0 by repr and friends.\n",
      "    [default: None] [currently: None]\n",
      "display.colheader_justify : 'left'/'right'\n",
      "    Controls the justification of column headers. used by DataFrameFormatter.\n",
      "    [default: right] [currently: right]\n",
      "display.column_space No description available.\n",
      "    [default: 12] [currently: 12]\n",
      "display.date_dayfirst : boolean\n",
      "    When True, prints and parses dates with the day first, eg 20/01/2005\n",
      "    [default: False] [currently: False]\n",
      "display.date_yearfirst : boolean\n",
      "    When True, prints and parses dates with the year first, eg 2005/01/20\n",
      "    [default: False] [currently: False]\n",
      "display.encoding : str/unicode\n",
      "    Defaults to the detected encoding of the console.\n",
      "    Specifies the encoding to be used for strings returned by to_string,\n",
      "    these are generally strings meant to be displayed on the console.\n",
      "    [default: UTF-8] [currently: UTF-8]\n",
      "display.expand_frame_repr : boolean\n",
      "    Whether to print out the full DataFrame repr for wide DataFrames across\n",
      "    multiple lines, `max_columns` is still respected, but the output will\n",
      "    wrap-around across multiple \"pages\" if its width exceeds `display.width`.\n",
      "    [default: True] [currently: True]\n",
      "display.float_format : callable\n",
      "    The callable should accept a floating point number and return\n",
      "    a string with the desired format of the number. This is used\n",
      "    in some places like SeriesFormatter.\n",
      "    See formats.format.EngFormatter for an example.\n",
      "    [default: None] [currently: None]\n",
      "display.html.border : int\n",
      "    A ``border=value`` attribute is inserted in the ``<table>`` tag\n",
      "    for the DataFrame HTML repr.\n",
      "    [default: 1] [currently: 1]\n",
      "display.html.table_schema : boolean\n",
      "    Whether to publish a Table Schema representation for frontends\n",
      "    that support it.\n",
      "    (default: False)\n",
      "    [default: False] [currently: False]\n",
      "display.html.use_mathjax : boolean\n",
      "    When True, Jupyter notebook will process table contents using MathJax,\n",
      "    rendering mathematical expressions enclosed by the dollar symbol.\n",
      "    (default: True)\n",
      "    [default: True] [currently: True]\n",
      "display.large_repr : 'truncate'/'info'\n",
      "    For DataFrames exceeding max_rows/max_cols, the repr (and HTML repr) can\n",
      "    show a truncated table (the default from 0.13), or switch to the view from\n",
      "    df.info() (the behaviour in earlier versions of pandas).\n",
      "    [default: truncate] [currently: truncate]\n",
      "display.latex.escape : bool\n",
      "    This specifies if the to_latex method of a Dataframe uses escapes special\n",
      "    characters.\n",
      "    Valid values: False,True\n",
      "    [default: True] [currently: True]\n",
      "display.latex.longtable :bool\n",
      "    This specifies if the to_latex method of a Dataframe uses the longtable\n",
      "    format.\n",
      "    Valid values: False,True\n",
      "    [default: False] [currently: False]\n",
      "display.latex.multicolumn : bool\n",
      "    This specifies if the to_latex method of a Dataframe uses multicolumns\n",
      "    to pretty-print MultiIndex columns.\n",
      "    Valid values: False,True\n",
      "    [default: True] [currently: True]\n",
      "display.latex.multicolumn_format : bool\n",
      "    This specifies if the to_latex method of a Dataframe uses multicolumns\n",
      "    to pretty-print MultiIndex columns.\n",
      "    Valid values: False,True\n",
      "    [default: l] [currently: l]\n",
      "display.latex.multirow : bool\n",
      "    This specifies if the to_latex method of a Dataframe uses multirows\n",
      "    to pretty-print MultiIndex rows.\n",
      "    Valid values: False,True\n",
      "    [default: False] [currently: False]\n",
      "display.latex.repr : boolean\n",
      "    Whether to produce a latex DataFrame representation for jupyter\n",
      "    environments that support it.\n",
      "    (default: False)\n",
      "    [default: False] [currently: False]\n",
      "display.max_categories : int\n",
      "    This sets the maximum number of categories pandas should output when\n",
      "    printing out a `Categorical` or a Series of dtype \"category\".\n",
      "    [default: 8] [currently: 8]\n",
      "display.max_columns : int\n",
      "    If max_cols is exceeded, switch to truncate view. Depending on\n",
      "    `large_repr`, objects are either centrally truncated or printed as\n",
      "    a summary view. 'None' value means unlimited.\n",
      "\n",
      "    In case python/IPython is running in a terminal and `large_repr`\n",
      "    equals 'truncate' this can be set to 0 and pandas will auto-detect\n",
      "    the width of the terminal and print a truncated object which fits\n",
      "    the screen width. The IPython notebook, IPython qtconsole, or IDLE\n",
      "    do not run in a terminal and hence it is not possible to do\n",
      "    correct auto-detection.\n",
      "    [default: 20] [currently: 20]\n",
      "display.max_colwidth : int or None\n",
      "    The maximum width in characters of a column in the repr of\n",
      "    a pandas data structure. When the column overflows, a \"...\"\n",
      "    placeholder is embedded in the output. A 'None' value means unlimited.\n",
      "    [default: 50] [currently: 50]\n",
      "display.max_info_columns : int\n",
      "    max_info_columns is used in DataFrame.info method to decide if\n",
      "    per column information will be printed.\n",
      "    [default: 100] [currently: 100]\n",
      "display.max_info_rows : int or None\n",
      "    df.info() will usually show null-counts for each column.\n",
      "    For large frames this can be quite slow. max_info_rows and max_info_cols\n",
      "    limit this null check only to frames with smaller dimensions than\n",
      "    specified.\n",
      "    [default: 1690785] [currently: 1690785]\n",
      "display.max_rows : int\n",
      "    If max_rows is exceeded, switch to truncate view. Depending on\n",
      "    `large_repr`, objects are either centrally truncated or printed as\n",
      "    a summary view. 'None' value means unlimited.\n",
      "\n",
      "    In case python/IPython is running in a terminal and `large_repr`\n",
      "    equals 'truncate' this can be set to 0 and pandas will auto-detect\n",
      "    the height of the terminal and print a truncated object which fits\n",
      "    the screen height. The IPython notebook, IPython qtconsole, or\n",
      "    IDLE do not run in a terminal and hence it is not possible to do\n",
      "    correct auto-detection.\n",
      "    [default: 60] [currently: 60]\n",
      "display.max_seq_items : int or None\n",
      "    when pretty-printing a long sequence, no more then `max_seq_items`\n",
      "    will be printed. If items are omitted, they will be denoted by the\n",
      "    addition of \"...\" to the resulting string.\n",
      "\n",
      "    If set to None, the number of items to be printed is unlimited.\n",
      "    [default: 100] [currently: 100]\n",
      "display.memory_usage : bool, string or None\n",
      "    This specifies if the memory usage of a DataFrame should be displayed when\n",
      "    df.info() is called. Valid values True,False,'deep'\n",
      "    [default: True] [currently: True]\n",
      "display.min_rows : int\n",
      "    The numbers of rows to show in a truncated view (when `max_rows` is\n",
      "    exceeded). Ignored when `max_rows` is set to None or 0. When set to\n",
      "    None, follows the value of `max_rows`.\n",
      "    [default: 10] [currently: 10]\n",
      "display.multi_sparse : boolean\n",
      "    \"sparsify\" MultiIndex display (don't display repeated\n",
      "    elements in outer levels within groups)\n",
      "    [default: True] [currently: True]\n",
      "display.notebook_repr_html : boolean\n",
      "    When True, IPython notebook will use html representation for\n",
      "    pandas objects (if it is available).\n",
      "    [default: True] [currently: True]\n",
      "display.pprint_nest_depth : int\n",
      "    Controls the number of nested levels to process when pretty-printing\n",
      "    [default: 3] [currently: 3]\n",
      "display.precision : int\n",
      "    Floating point output precision (number of significant digits). This is\n",
      "    only a suggestion\n",
      "    [default: 6] [currently: 6]\n",
      "display.show_dimensions : boolean or 'truncate'\n",
      "    Whether to print out dimensions at the end of DataFrame repr.\n",
      "    If 'truncate' is specified, only print out the dimensions if the\n",
      "    frame is truncated (e.g. not display all rows and/or columns)\n",
      "    [default: truncate] [currently: truncate]\n",
      "display.unicode.ambiguous_as_wide : boolean\n",
      "    Whether to use the Unicode East Asian Width to calculate the display text\n",
      "    width.\n",
      "    Enabling this may affect to the performance (default: False)\n",
      "    [default: False] [currently: False]\n",
      "display.unicode.east_asian_width : boolean\n",
      "    Whether to use the Unicode East Asian Width to calculate the display text\n",
      "    width.\n",
      "    Enabling this may affect to the performance (default: False)\n",
      "    [default: False] [currently: False]\n",
      "display.width : int\n",
      "    Width of the display in characters. In case python/IPython is running in\n",
      "    a terminal this can be set to None and pandas will correctly auto-detect\n",
      "    the width.\n",
      "    Note that the IPython notebook, IPython qtconsole, or IDLE do not run in a\n",
      "    terminal and hence it is not possible to correctly detect the width.\n",
      "    [default: 80] [currently: 80]\n",
      "io.excel.ods.reader : string\n",
      "    The default Excel reader engine for 'ods' files. Available options:\n",
      "    auto, odf.\n",
      "    [default: auto] [currently: auto]\n",
      "io.excel.xls.reader : string\n",
      "    The default Excel reader engine for 'xls' files. Available options:\n",
      "    auto, xlrd.\n",
      "    [default: auto] [currently: auto]\n",
      "io.excel.xls.writer : string\n",
      "    The default Excel writer engine for 'xls' files. Available options:\n",
      "    auto, xlwt.\n",
      "    [default: auto] [currently: auto]\n",
      "io.excel.xlsb.reader : string\n",
      "    The default Excel reader engine for 'xlsb' files. Available options:\n",
      "    auto, pyxlsb.\n",
      "    [default: auto] [currently: auto]\n",
      "io.excel.xlsm.reader : string\n",
      "    The default Excel reader engine for 'xlsm' files. Available options:\n",
      "    auto, xlrd, openpyxl.\n",
      "    [default: auto] [currently: auto]\n",
      "io.excel.xlsm.writer : string\n",
      "    The default Excel writer engine for 'xlsm' files. Available options:\n",
      "    auto, openpyxl.\n",
      "    [default: auto] [currently: auto]\n",
      "io.excel.xlsx.reader : string\n",
      "    The default Excel reader engine for 'xlsx' files. Available options:\n",
      "    auto, xlrd, openpyxl.\n",
      "    [default: auto] [currently: auto]\n",
      "io.excel.xlsx.writer : string\n",
      "    The default Excel writer engine for 'xlsx' files. Available options:\n",
      "    auto, openpyxl, xlsxwriter.\n",
      "    [default: auto] [currently: auto]\n",
      "io.hdf.default_format : format\n",
      "    default format writing format, if None, then\n",
      "    put will default to 'fixed' and append will default to 'table'\n",
      "    [default: None] [currently: None]\n",
      "io.hdf.dropna_table : boolean\n",
      "    drop ALL nan rows when appending to a table\n",
      "    [default: False] [currently: False]\n",
      "io.parquet.engine : string\n",
      "    The default parquet reader/writer engine. Available options:\n",
      "    'auto', 'pyarrow', 'fastparquet', the default is 'auto'\n",
      "    [default: auto] [currently: auto]\n",
      "mode.chained_assignment : string\n",
      "    Raise an exception, warn, or no action if trying to use chained assignment,\n",
      "    The default is warn\n",
      "    [default: warn] [currently: warn]\n",
      "mode.sim_interactive : boolean\n",
      "    Whether to simulate interactive mode for purposes of testing\n",
      "    [default: False] [currently: False]\n",
      "mode.use_inf_as_na : boolean\n",
      "    True means treat None, NaN, INF, -INF as NA (old way),\n",
      "    False means None and NaN are null, but INF, -INF are not NA\n",
      "    (new way).\n",
      "    [default: False] [currently: False]\n",
      "mode.use_inf_as_null : boolean\n",
      "    use_inf_as_null had been deprecated and will be removed in a future\n",
      "    version. Use `use_inf_as_na` instead.\n",
      "    [default: False] [currently: False]\n",
      "    (Deprecated, use `mode.use_inf_as_na` instead.)\n",
      "plotting.backend : str\n",
      "    The plotting backend to use. The default value is \"matplotlib\", the\n",
      "    backend provided with pandas. Other backends can be specified by\n",
      "    prodiving the name of the module that implements the backend.\n",
      "    [default: matplotlib] [currently: matplotlib]\n",
      "plotting.matplotlib.register_converters : bool or 'auto'.\n",
      "    Whether to register converters with matplotlib's units registry for\n",
      "    dates, times, datetimes, and Periods. Toggling to False will remove\n",
      "    the converters, restoring any converters that pandas overwrote.\n",
      "    [default: auto] [currently: auto]\n"
     ]
    }
   ],
   "source": [
    "pd.describe_option()"
   ]
  },
  {
   "cell_type": "code",
   "execution_count": 32,
   "metadata": {},
   "outputs": [
    {
     "data": {
      "text/plain": [
       "count    13.000000\n",
       "mean      3.000000\n",
       "std       1.080123\n",
       "min       1.000000\n",
       "25%       2.000000\n",
       "50%       3.000000\n",
       "75%       4.000000\n",
       "max       5.000000\n",
       "dtype: float64"
      ]
     },
     "execution_count": 32,
     "metadata": {},
     "output_type": "execute_result"
    }
   ],
   "source": [
    "d.describe()"
   ]
  },
  {
   "cell_type": "code",
   "execution_count": 59,
   "metadata": {},
   "outputs": [],
   "source": [
    "import matplotlib.pyplot as plt"
   ]
  },
  {
   "cell_type": "code",
   "execution_count": 60,
   "metadata": {},
   "outputs": [
    {
     "data": {
      "text/html": [
       "<div>\n",
       "<style scoped>\n",
       "    .dataframe tbody tr th:only-of-type {\n",
       "        vertical-align: middle;\n",
       "    }\n",
       "\n",
       "    .dataframe tbody tr th {\n",
       "        vertical-align: top;\n",
       "    }\n",
       "\n",
       "    .dataframe thead th {\n",
       "        text-align: right;\n",
       "    }\n",
       "</style>\n",
       "<table border=\"1\" class=\"dataframe\">\n",
       "  <thead>\n",
       "    <tr style=\"text-align: right;\">\n",
       "      <th></th>\n",
       "      <th>Nom</th>\n",
       "      <th>Cours</th>\n",
       "      <th>Age</th>\n",
       "      <th>Taille</th>\n",
       "    </tr>\n",
       "  </thead>\n",
       "  <tbody>\n",
       "    <tr>\n",
       "      <th>0</th>\n",
       "      <td>Maty</td>\n",
       "      <td>OD</td>\n",
       "      <td>49</td>\n",
       "      <td>1.89</td>\n",
       "    </tr>\n",
       "    <tr>\n",
       "      <th>1</th>\n",
       "      <td>Ben</td>\n",
       "      <td>Réseau</td>\n",
       "      <td>48</td>\n",
       "      <td>1.83</td>\n",
       "    </tr>\n",
       "    <tr>\n",
       "      <th>2</th>\n",
       "      <td>Guifo</td>\n",
       "      <td>ERP</td>\n",
       "      <td>45</td>\n",
       "      <td>1.82</td>\n",
       "    </tr>\n",
       "    <tr>\n",
       "      <th>3</th>\n",
       "      <td>Tiama</td>\n",
       "      <td>Web</td>\n",
       "      <td>31</td>\n",
       "      <td>1.88</td>\n",
       "    </tr>\n",
       "    <tr>\n",
       "      <th>4</th>\n",
       "      <td>Nambila</td>\n",
       "      <td>BDD</td>\n",
       "      <td>60</td>\n",
       "      <td>1.68</td>\n",
       "    </tr>\n",
       "  </tbody>\n",
       "</table>\n",
       "</div>"
      ],
      "text/plain": [
       "       Nom   Cours  Age  Taille\n",
       "0     Maty      OD   49    1.89\n",
       "1      Ben  Réseau   48    1.83\n",
       "2    Guifo     ERP   45    1.82\n",
       "3    Tiama     Web   31    1.88\n",
       "4  Nambila     BDD   60    1.68"
      ]
     },
     "execution_count": 60,
     "metadata": {},
     "output_type": "execute_result"
    }
   ],
   "source": [
    "df = pd.DataFrame({'Nom':['Maty', 'Ben', 'Guifo', 'Tiama', 'Nambila'], 'Cours':['OD', 'Réseau', 'ERP', 'Web', 'BDD'],\n",
    "                  'Age':[49, 48, 45, 31, 60], 'Taille':[1.89, 1.83, 1.82, 1.88, 1.68]})\n",
    "df"
   ]
  },
  {
   "cell_type": "code",
   "execution_count": 61,
   "metadata": {},
   "outputs": [
    {
     "data": {
      "text/html": [
       "<div>\n",
       "<style scoped>\n",
       "    .dataframe tbody tr th:only-of-type {\n",
       "        vertical-align: middle;\n",
       "    }\n",
       "\n",
       "    .dataframe tbody tr th {\n",
       "        vertical-align: top;\n",
       "    }\n",
       "\n",
       "    .dataframe thead th {\n",
       "        text-align: right;\n",
       "    }\n",
       "</style>\n",
       "<table border=\"1\" class=\"dataframe\">\n",
       "  <thead>\n",
       "    <tr style=\"text-align: right;\">\n",
       "      <th></th>\n",
       "      <th>Age</th>\n",
       "      <th>Taille</th>\n",
       "    </tr>\n",
       "  </thead>\n",
       "  <tbody>\n",
       "    <tr>\n",
       "      <th>count</th>\n",
       "      <td>5.000000</td>\n",
       "      <td>5.000000</td>\n",
       "    </tr>\n",
       "    <tr>\n",
       "      <th>mean</th>\n",
       "      <td>46.600000</td>\n",
       "      <td>1.820000</td>\n",
       "    </tr>\n",
       "    <tr>\n",
       "      <th>std</th>\n",
       "      <td>10.406729</td>\n",
       "      <td>0.083964</td>\n",
       "    </tr>\n",
       "    <tr>\n",
       "      <th>min</th>\n",
       "      <td>31.000000</td>\n",
       "      <td>1.680000</td>\n",
       "    </tr>\n",
       "    <tr>\n",
       "      <th>25%</th>\n",
       "      <td>45.000000</td>\n",
       "      <td>1.820000</td>\n",
       "    </tr>\n",
       "    <tr>\n",
       "      <th>50%</th>\n",
       "      <td>48.000000</td>\n",
       "      <td>1.830000</td>\n",
       "    </tr>\n",
       "    <tr>\n",
       "      <th>75%</th>\n",
       "      <td>49.000000</td>\n",
       "      <td>1.880000</td>\n",
       "    </tr>\n",
       "    <tr>\n",
       "      <th>max</th>\n",
       "      <td>60.000000</td>\n",
       "      <td>1.890000</td>\n",
       "    </tr>\n",
       "  </tbody>\n",
       "</table>\n",
       "</div>"
      ],
      "text/plain": [
       "             Age    Taille\n",
       "count   5.000000  5.000000\n",
       "mean   46.600000  1.820000\n",
       "std    10.406729  0.083964\n",
       "min    31.000000  1.680000\n",
       "25%    45.000000  1.820000\n",
       "50%    48.000000  1.830000\n",
       "75%    49.000000  1.880000\n",
       "max    60.000000  1.890000"
      ]
     },
     "execution_count": 61,
     "metadata": {},
     "output_type": "execute_result"
    }
   ],
   "source": [
    "df.describe()"
   ]
  },
  {
   "cell_type": "code",
   "execution_count": 62,
   "metadata": {},
   "outputs": [
    {
     "data": {
      "text/plain": [
       "0    49\n",
       "1    48\n",
       "2    45\n",
       "3    31\n",
       "4    60\n",
       "Name: Age, dtype: int64"
      ]
     },
     "execution_count": 62,
     "metadata": {},
     "output_type": "execute_result"
    }
   ],
   "source": [
    "df['Age']"
   ]
  },
  {
   "cell_type": "code",
   "execution_count": 63,
   "metadata": {},
   "outputs": [
    {
     "data": {
      "text/plain": [
       "0       Maty\n",
       "1        Ben\n",
       "2      Guifo\n",
       "3      Tiama\n",
       "4    Nambila\n",
       "Name: Nom, dtype: object"
      ]
     },
     "execution_count": 63,
     "metadata": {},
     "output_type": "execute_result"
    }
   ],
   "source": [
    "df.Nom"
   ]
  },
  {
   "cell_type": "code",
   "execution_count": 64,
   "metadata": {},
   "outputs": [],
   "source": [
    "#\n",
    "df.to_csv('Enseignant.csv', index=None)"
   ]
  },
  {
   "cell_type": "code",
   "execution_count": 65,
   "metadata": {},
   "outputs": [
    {
     "data": {
      "text/html": [
       "<div>\n",
       "<style scoped>\n",
       "    .dataframe tbody tr th:only-of-type {\n",
       "        vertical-align: middle;\n",
       "    }\n",
       "\n",
       "    .dataframe tbody tr th {\n",
       "        vertical-align: top;\n",
       "    }\n",
       "\n",
       "    .dataframe thead th {\n",
       "        text-align: right;\n",
       "    }\n",
       "</style>\n",
       "<table border=\"1\" class=\"dataframe\">\n",
       "  <thead>\n",
       "    <tr style=\"text-align: right;\">\n",
       "      <th></th>\n",
       "      <th>Nom</th>\n",
       "      <th>Cours</th>\n",
       "      <th>Age</th>\n",
       "      <th>Taille</th>\n",
       "    </tr>\n",
       "  </thead>\n",
       "  <tbody>\n",
       "    <tr>\n",
       "      <th>0</th>\n",
       "      <td>Maty</td>\n",
       "      <td>OD</td>\n",
       "      <td>49</td>\n",
       "      <td>1.89</td>\n",
       "    </tr>\n",
       "    <tr>\n",
       "      <th>1</th>\n",
       "      <td>Ben</td>\n",
       "      <td>Réseau</td>\n",
       "      <td>48</td>\n",
       "      <td>1.83</td>\n",
       "    </tr>\n",
       "    <tr>\n",
       "      <th>2</th>\n",
       "      <td>Guifo</td>\n",
       "      <td>ERP</td>\n",
       "      <td>45</td>\n",
       "      <td>1.82</td>\n",
       "    </tr>\n",
       "    <tr>\n",
       "      <th>3</th>\n",
       "      <td>Tiama</td>\n",
       "      <td>Web</td>\n",
       "      <td>31</td>\n",
       "      <td>1.88</td>\n",
       "    </tr>\n",
       "    <tr>\n",
       "      <th>4</th>\n",
       "      <td>Nambila</td>\n",
       "      <td>BDD</td>\n",
       "      <td>60</td>\n",
       "      <td>1.68</td>\n",
       "    </tr>\n",
       "  </tbody>\n",
       "</table>\n",
       "</div>"
      ],
      "text/plain": [
       "       Nom   Cours  Age  Taille\n",
       "0     Maty      OD   49    1.89\n",
       "1      Ben  Réseau   48    1.83\n",
       "2    Guifo     ERP   45    1.82\n",
       "3    Tiama     Web   31    1.88\n",
       "4  Nambila     BDD   60    1.68"
      ]
     },
     "execution_count": 65,
     "metadata": {},
     "output_type": "execute_result"
    }
   ],
   "source": [
    "# Lire un fichier excel(csv)\n",
    "E = pd.read_csv('Enseignant.csv')\n",
    "E"
   ]
  },
  {
   "cell_type": "code",
   "execution_count": 66,
   "metadata": {},
   "outputs": [],
   "source": [
    "df.to_excel('Enseignant.xlsx', index=None)"
   ]
  },
  {
   "cell_type": "code",
   "execution_count": 67,
   "metadata": {},
   "outputs": [
    {
     "data": {
      "text/html": [
       "<div>\n",
       "<style scoped>\n",
       "    .dataframe tbody tr th:only-of-type {\n",
       "        vertical-align: middle;\n",
       "    }\n",
       "\n",
       "    .dataframe tbody tr th {\n",
       "        vertical-align: top;\n",
       "    }\n",
       "\n",
       "    .dataframe thead th {\n",
       "        text-align: right;\n",
       "    }\n",
       "</style>\n",
       "<table border=\"1\" class=\"dataframe\">\n",
       "  <thead>\n",
       "    <tr style=\"text-align: right;\">\n",
       "      <th></th>\n",
       "      <th>Nom</th>\n",
       "      <th>Cours</th>\n",
       "      <th>Age</th>\n",
       "      <th>Taille</th>\n",
       "    </tr>\n",
       "  </thead>\n",
       "  <tbody>\n",
       "    <tr>\n",
       "      <th>0</th>\n",
       "      <td>Maty</td>\n",
       "      <td>OD</td>\n",
       "      <td>49</td>\n",
       "      <td>1.89</td>\n",
       "    </tr>\n",
       "    <tr>\n",
       "      <th>1</th>\n",
       "      <td>Ben</td>\n",
       "      <td>Réseau</td>\n",
       "      <td>48</td>\n",
       "      <td>1.83</td>\n",
       "    </tr>\n",
       "    <tr>\n",
       "      <th>2</th>\n",
       "      <td>Guifo</td>\n",
       "      <td>ERP</td>\n",
       "      <td>45</td>\n",
       "      <td>1.82</td>\n",
       "    </tr>\n",
       "    <tr>\n",
       "      <th>3</th>\n",
       "      <td>Tiama</td>\n",
       "      <td>Web</td>\n",
       "      <td>31</td>\n",
       "      <td>1.88</td>\n",
       "    </tr>\n",
       "    <tr>\n",
       "      <th>4</th>\n",
       "      <td>Nambila</td>\n",
       "      <td>BDD</td>\n",
       "      <td>60</td>\n",
       "      <td>1.68</td>\n",
       "    </tr>\n",
       "  </tbody>\n",
       "</table>\n",
       "</div>"
      ],
      "text/plain": [
       "       Nom   Cours  Age  Taille\n",
       "0     Maty      OD   49    1.89\n",
       "1      Ben  Réseau   48    1.83\n",
       "2    Guifo     ERP   45    1.82\n",
       "3    Tiama     Web   31    1.88\n",
       "4  Nambila     BDD   60    1.68"
      ]
     },
     "execution_count": 67,
     "metadata": {},
     "output_type": "execute_result"
    }
   ],
   "source": [
    "E = pd.read_excel('Enseignant.xlsx')\n",
    "E"
   ]
  },
  {
   "cell_type": "code",
   "execution_count": 69,
   "metadata": {},
   "outputs": [
    {
     "data": {
      "text/plain": [
       "<matplotlib.collections.PathCollection at 0x1e8fc1a0508>"
      ]
     },
     "execution_count": 69,
     "metadata": {},
     "output_type": "execute_result"
    },
    {
     "data": {
      "image/png": "[encoded data removed]",
      "text/plain": [
       "<Figure size 432x288 with 1 Axes>"
      ]
     },
     "metadata": {
      "needs_background": "light"
     },
     "output_type": "display_data"
    }
   ],
   "source": [
    "import matplotlib.pyplot as plt\n",
    "\n",
    "plt.scatter(df['Age'], df['Taille'])"
   ]
  },
  {
   "cell_type": "code",
   "execution_count": 70,
   "metadata": {},
   "outputs": [
    {
     "data": {
      "text/plain": [
       "<BarContainer object of 5 artists>"
      ]
     },
     "execution_count": 70,
     "metadata": {},
     "output_type": "execute_result"
    },
    {
     "data": {
      "image/png": "[encoded data removed]",
      "text/plain": [
       "<Figure size 432x288 with 1 Axes>"
      ]
     },
     "metadata": {
      "needs_background": "light"
     },
     "output_type": "display_data"
    }
   ],
   "source": [
    "plt.bar(df['Nom'], df['Age'])"
   ]
  },
  {
   "cell_type": "code",
   "execution_count": 52,
   "metadata": {},
   "outputs": [],
   "source": [
    "#d.mode()"
   ]
  },
  {
   "cell_type": "code",
   "execution_count": null,
   "metadata": {},
   "outputs": [],
   "source": [
    "d.median()"
   ]
  },
  {
   "cell_type": "code",
   "execution_count": null,
   "metadata": {},
   "outputs": [],
   "source": [
    "d.var()"
   ]
  },
  {
   "cell_type": "code",
   "execution_count": null,
   "metadata": {},
   "outputs": [],
   "source": [
    "q1 = np.percentile(d,25)\n",
    "\n",
    "print(\"Le premier quartille est :\",q1)"
   ]
  },
  {
   "cell_type": "code",
   "execution_count": null,
   "metadata": {},
   "outputs": [],
   "source": [
    "q3 = np.percentile(d,75)\n",
    "\n",
    "print(\"Le 3eme quartille est :\",q3)"
   ]
  },
  {
   "cell_type": "markdown",
   "metadata": {},
   "source": [
    "# Pour le calcul des moyennes géometrique et Harmonique\n",
    "\n",
    "# Il faut importer le module Scipy"
   ]
  },
  {
   "cell_type": "code",
   "execution_count": 13,
   "metadata": {},
   "outputs": [],
   "source": [
    "from scipy import stats  as stat"
   ]
  },
  {
   "cell_type": "raw",
   "metadata": {},
   "source": [
    "dir(stat)"
   ]
  },
  {
   "cell_type": "code",
   "execution_count": 34,
   "metadata": {},
   "outputs": [
    {
     "name": "stdout",
     "output_type": "stream",
     "text": [
      "Le mode de la série S1 : \n",
      " ModeResult(mode=array([3]), count=array([5]))\n"
     ]
    }
   ],
   "source": [
    "print(\"Le mode de la série S1 : \\n\", stat.mode(d))  "
   ]
  },
  {
   "cell_type": "code",
   "execution_count": 35,
   "metadata": {},
   "outputs": [
    {
     "name": "stdout",
     "output_type": "stream",
     "text": [
      "Le mode de la série S1 : \n",
      " 2.7904900603879823\n"
     ]
    }
   ],
   "source": [
    "#La moyenne géometrique\n",
    "print(\"Le mode de la série S1 : \\n\", stat.gmean(d))  "
   ]
  },
  {
   "cell_type": "code",
   "execution_count": 36,
   "metadata": {},
   "outputs": [
    {
     "name": "stdout",
     "output_type": "stream",
     "text": [
      "La moyenne harmonique de  S1 : 2.54 \n",
      "\n"
     ]
    }
   ],
   "source": [
    "#La moyenne Harmonique\n",
    "\n",
    "print(\"La moyenne harmonique de  S1 :{:5.2f} \\n\".format(stat.hmean(d)) ) \n"
   ]
  },
  {
   "cell_type": "code",
   "execution_count": null,
   "metadata": {},
   "outputs": [],
   "source": []
  },
  {
   "cell_type": "code",
   "execution_count": 12,
   "metadata": {},
   "outputs": [],
   "source": [
    "import numpy as np\n",
    "import matplotlib.pyplot as plt\n",
    "#%matplotlib notebook\n",
    "%matplotlib inline"
   ]
  },
  {
   "cell_type": "markdown",
   "metadata": {},
   "source": [
    "# Les lignes"
   ]
  },
  {
   "cell_type": "code",
   "execution_count": 13,
   "metadata": {},
   "outputs": [
    {
     "data": {
      "image/png": "[encoded data removed]",
      "text/plain": [
       "<Figure size 432x288 with 1 Axes>"
      ]
     },
     "metadata": {
      "needs_background": "light"
     },
     "output_type": "display_data"
    }
   ],
   "source": [
    "s=[2,3,2,1,4,3,4,5,2,4,3,3,3]\n",
    "plt.plot(s, c='red')\n",
    "plt.show()"
   ]
  },
  {
   "cell_type": "code",
   "execution_count": null,
   "metadata": {},
   "outputs": [],
   "source": []
  },
  {
   "cell_type": "code",
   "execution_count": 16,
   "metadata": {},
   "outputs": [
    {
     "data": {
      "image/png": "[encoded data removed]",
      "text/plain": [
       "<Figure size 432x288 with 1 Axes>"
      ]
     },
     "metadata": {
      "needs_background": "light"
     },
     "output_type": "display_data"
    }
   ],
   "source": [
    "plt.hist(s,edgecolor='red',bins=5,color=\"g\", label='Série symétrique')\n",
    "plt.title('Le titre du graphique')\n",
    "plt.xlabel(\"X\")\n",
    "plt.ylabel(\"Y\")\n",
    "plt.legend()\n",
    "plt.show()"
   ]
  },
  {
   "cell_type": "code",
   "execution_count": 33,
   "metadata": {},
   "outputs": [
    {
     "data": {
      "text/plain": [
       "array([-0.93394505,  0.47781375,  1.51979504, ..., -0.36073045,\n",
       "       -0.36175223, -0.69722398])"
      ]
     },
     "execution_count": 33,
     "metadata": {},
     "output_type": "execute_result"
    }
   ],
   "source": [
    "import numpy as np\n",
    "h = np.random.randn(100000)\n",
    "h"
   ]
  },
  {
   "cell_type": "code",
   "execution_count": 34,
   "metadata": {},
   "outputs": [
    {
     "data": {
      "image/png": "[encoded data removed]",
      "text/plain": [
       "<Figure size 432x288 with 1 Axes>"
      ]
     },
     "metadata": {
      "needs_background": "light"
     },
     "output_type": "display_data"
    }
   ],
   "source": [
    "plt.hist(h, bins=60)\n",
    "plt.show()"
   ]
  },
  {
   "cell_type": "code",
   "execution_count": 37,
   "metadata": {},
   "outputs": [
    {
     "data": {
      "text/plain": [
       "-0.0009584967120457932"
      ]
     },
     "execution_count": 37,
     "metadata": {},
     "output_type": "execute_result"
    }
   ],
   "source": [
    "h.mean()"
   ]
  },
  {
   "cell_type": "code",
   "execution_count": 38,
   "metadata": {},
   "outputs": [
    {
     "data": {
      "text/plain": [
       "0.9933137392487562"
      ]
     },
     "execution_count": 38,
     "metadata": {},
     "output_type": "execute_result"
    }
   ],
   "source": [
    "h.std()"
   ]
  },
  {
   "cell_type": "code",
   "execution_count": null,
   "metadata": {},
   "outputs": [],
   "source": []
  },
  {
   "cell_type": "code",
   "execution_count": null,
   "metadata": {},
   "outputs": [],
   "source": []
  },
  {
   "cell_type": "code",
   "execution_count": null,
   "metadata": {},
   "outputs": [],
   "source": []
  },
  {
   "cell_type": "code",
   "execution_count": null,
   "metadata": {},
   "outputs": [],
   "source": []
  },
  {
   "cell_type": "code",
   "execution_count": null,
   "metadata": {},
   "outputs": [],
   "source": []
  },
  {
   "cell_type": "code",
   "execution_count": 59,
   "metadata": {},
   "outputs": [
    {
     "data": {
      "image/png": "[encoded data removed]",
      "text/plain": [
       "<Figure size 432x288 with 1 Axes>"
      ]
     },
     "metadata": {
      "needs_background": "light"
     },
     "output_type": "display_data"
    }
   ],
   "source": [
    "# Barres veticlaes\n",
    "x=[1,2,3,4,5]\n",
    "y=[1,3,5,3,1]\n",
    "plt.bar(x,y)\n",
    "plt.show()"
   ]
  },
  {
   "cell_type": "code",
   "execution_count": 60,
   "metadata": {
    "scrolled": false
   },
   "outputs": [
    {
     "data": {
      "image/png": "[encoded data removed]",
      "text/plain": [
       "<Figure size 432x288 with 1 Axes>"
      ]
     },
     "metadata": {
      "needs_background": "light"
     },
     "output_type": "display_data"
    }
   ],
   "source": [
    "plt.barh(x,y,color='yellow')\n",
    "plt.show()"
   ]
  },
  {
   "cell_type": "code",
   "execution_count": 61,
   "metadata": {},
   "outputs": [
    {
     "data": {
      "image/png": "[encoded data removed]",
      "text/plain": [
       "<Figure size 720x720 with 1 Axes>"
      ]
     },
     "metadata": {
      "needs_background": "light"
     },
     "output_type": "display_data"
    }
   ],
   "source": [
    "plt.figure(figsize=(10,10))\n",
    "plt.title(\"Le titre de graphique\")\n",
    "plt.xlabel(\"l'axe des abscices\")\n",
    "plt.ylabel(\"l'axe des ordonnées\")\n",
    "plt.scatter(x,y, color='r')\n",
    "plt.show()#Nuage de point\n"
   ]
  },
  {
   "cell_type": "code",
   "execution_count": null,
   "metadata": {},
   "outputs": [],
   "source": []
  },
  {
   "cell_type": "code",
   "execution_count": 62,
   "metadata": {},
   "outputs": [
    {
     "data": {
      "image/png": "[encoded data removed]",
      "text/plain": [
       "<Figure size 432x288 with 1 Axes>"
      ]
     },
     "metadata": {
      "needs_background": "light"
     },
     "output_type": "display_data"
    }
   ],
   "source": [
    "# boite a moustache\n",
    "l=pd.Series([1,2,3,4,2,5])\n",
    "\n",
    "plt.boxplot([l,x,y],labels=[\"L\",\"S1\",\"S2\"])\n",
    "\n",
    "plt.grid() \n",
    "plt.show()"
   ]
  },
  {
   "cell_type": "code",
   "execution_count": 63,
   "metadata": {},
   "outputs": [
    {
     "data": {
      "application/javascript": [
       "/* Put everything inside the global mpl namespace */\n",
       "window.mpl = {};\n",
       "\n",
       "\n",
       "mpl.get_websocket_type = function() {\n",
       "    if (typeof(WebSocket) !== 'undefined') {\n",
       "        return WebSocket;\n",
       "    } else if (typeof(MozWebSocket) !== 'undefined') {\n",
       "        return MozWebSocket;\n",
       "    } else {\n",
       "        alert('Your browser does not have WebSocket support. ' +\n",
       "              'Please try Chrome, Safari or Firefox ≥ 6. ' +\n",
       "              'Firefox 4 and 5 are also supported but you ' +\n",
       "              'have to enable WebSockets in about:config.');\n",
       "    };\n",
       "}\n",
       "\n",
       "mpl.figure = function(figure_id, websocket, ondownload, parent_element) {\n",
       "    this.id = figure_id;\n",
       "\n",
       "    this.ws = websocket;\n",
       "\n",
       "    this.supports_binary = (this.ws.binaryType != undefined);\n",
       "\n",
       "    if (!this.supports_binary) {\n",
       "        var warnings = document.getElementById(\"mpl-warnings\");\n",
       "        if (warnings) {\n",
       "            warnings.style.display = 'block';\n",
       "            warnings.textContent = (\n",
       "                \"This browser does not support binary websocket messages. \" +\n",
       "                    \"Performance may be slow.\");\n",
       "        }\n",
       "    }\n",
       "\n",
       "    this.imageObj = new Image();\n",
       "\n",
       "    this.context = undefined;\n",
       "    this.message = undefined;\n",
       "    this.canvas = undefined;\n",
       "    this.rubberband_canvas = undefined;\n",
       "    this.rubberband_context = undefined;\n",
       "    this.format_dropdown = undefined;\n",
       "\n",
       "    this.image_mode = 'full';\n",
       "\n",
       "    this.root = $('<div/>');\n",
       "    this._root_extra_style(this.root)\n",
       "    this.root.attr('style', 'display: inline-block');\n",
       "\n",
       "    $(parent_element).append(this.root);\n",
       "\n",
       "    this._init_header(this);\n",
       "    this._init_canvas(this);\n",
       "    this._init_toolbar(this);\n",
       "\n",
       "    var fig = this;\n",
       "\n",
       "    this.waiting = false;\n",
       "\n",
       "    this.ws.onopen =  function () {\n",
       "            fig.send_message(\"supports_binary\", {value: fig.supports_binary});\n",
       "            fig.send_message(\"send_image_mode\", {});\n",
       "            if (mpl.ratio != 1) {\n",
       "                fig.send_message(\"set_dpi_ratio\", {'dpi_ratio': mpl.ratio});\n",
       "            }\n",
       "            fig.send_message(\"refresh\", {});\n",
       "        }\n",
       "\n",
       "    this.imageObj.onload = function() {\n",
       "            if (fig.image_mode == 'full') {\n",
       "                // Full images could contain transparency (where diff images\n",
       "                // almost always do), so we need to clear the canvas so that\n",
       "                // there is no ghosting.\n",
       "                fig.context.clearRect(0, 0, fig.canvas.width, fig.canvas.height);\n",
       "            }\n",
       "            fig.context.drawImage(fig.imageObj, 0, 0);\n",
       "        };\n",
       "\n",
       "    this.imageObj.onunload = function() {\n",
       "        fig.ws.close();\n",
       "    }\n",
       "\n",
       "    this.ws.onmessage = this._make_on_message_function(this);\n",
       "\n",
       "    this.ondownload = ondownload;\n",
       "}\n",
       "\n",
       "mpl.figure.prototype._init_header = function() {\n",
       "    var titlebar = $(\n",
       "        '<div class=\"ui-dialog-titlebar ui-widget-header ui-corner-all ' +\n",
       "        'ui-helper-clearfix\"/>');\n",
       "    var titletext = $(\n",
       "        '<div class=\"ui-dialog-title\" style=\"width: 100%; ' +\n",
       "        'text-align: center; padding: 3px;\"/>');\n",
       "    titlebar.append(titletext)\n",
       "    this.root.append(titlebar);\n",
       "    this.header = titletext[0];\n",
       "}\n",
       "\n",
       "\n",
       "\n",
       "mpl.figure.prototype._canvas_extra_style = function(canvas_div) {\n",
       "\n",
       "}\n",
       "\n",
       "\n",
       "mpl.figure.prototype._root_extra_style = function(canvas_div) {\n",
       "\n",
       "}\n",
       "\n",
       "mpl.figure.prototype._init_canvas = function() {\n",
       "    var fig = this;\n",
       "\n",
       "    var canvas_div = $('<div/>');\n",
       "\n",
       "    canvas_div.attr('style', 'position: relative; clear: both; outline: 0');\n",
       "\n",
       "    function canvas_keyboard_event(event) {\n",
       "        return fig.key_event(event, event['data']);\n",
       "    }\n",
       "\n",
       "    canvas_div.keydown('key_press', canvas_keyboard_event);\n",
       "    canvas_div.keyup('key_release', canvas_keyboard_event);\n",
       "    this.canvas_div = canvas_div\n",
       "    this._canvas_extra_style(canvas_div)\n",
       "    this.root.append(canvas_div);\n",
       "\n",
       "    var canvas = $('<canvas/>');\n",
       "    canvas.addClass('mpl-canvas');\n",
       "    canvas.attr('style', \"left: 0; top: 0; z-index: 0; outline: 0\")\n",
       "\n",
       "    this.canvas = canvas[0];\n",
       "    this.context = canvas[0].getContext(\"2d\");\n",
       "\n",
       "    var backingStore = this.context.backingStorePixelRatio ||\n",
       "\tthis.context.webkitBackingStorePixelRatio ||\n",
       "\tthis.context.mozBackingStorePixelRatio ||\n",
       "\tthis.context.msBackingStorePixelRatio ||\n",
       "\tthis.context.oBackingStorePixelRatio ||\n",
       "\tthis.context.backingStorePixelRatio || 1;\n",
       "\n",
       "    mpl.ratio = (window.devicePixelRatio || 1) / backingStore;\n",
       "\n",
       "    var rubberband = $('<canvas/>');\n",
       "    rubberband.attr('style', \"position: absolute; left: 0; top: 0; z-index: 1;\")\n",
       "\n",
       "    var pass_mouse_events = true;\n",
       "\n",
       "    canvas_div.resizable({\n",
       "        start: function(event, ui) {\n",
       "            pass_mouse_events = false;\n",
       "        },\n",
       "        resize: function(event, ui) {\n",
       "            fig.request_resize(ui.size.width, ui.size.height);\n",
       "        },\n",
       "        stop: function(event, ui) {\n",
       "            pass_mouse_events = true;\n",
       "            fig.request_resize(ui.size.width, ui.size.height);\n",
       "        },\n",
       "    });\n",
       "\n",
       "    function mouse_event_fn(event) {\n",
       "        if (pass_mouse_events)\n",
       "            return fig.mouse_event(event, event['data']);\n",
       "    }\n",
       "\n",
       "    rubberband.mousedown('button_press', mouse_event_fn);\n",
       "    rubberband.mouseup('button_release', mouse_event_fn);\n",
       "    // Throttle sequential mouse events to 1 every 20ms.\n",
       "    rubberband.mousemove('motion_notify', mouse_event_fn);\n",
       "\n",
       "    rubberband.mouseenter('figure_enter', mouse_event_fn);\n",
       "    rubberband.mouseleave('figure_leave', mouse_event_fn);\n",
       "\n",
       "    canvas_div.on(\"wheel\", function (event) {\n",
       "        event = event.originalEvent;\n",
       "        event['data'] = 'scroll'\n",
       "        if (event.deltaY < 0) {\n",
       "            event.step = 1;\n",
       "        } else {\n",
       "            event.step = -1;\n",
       "        }\n",
       "        mouse_event_fn(event);\n",
       "    });\n",
       "\n",
       "    canvas_div.append(canvas);\n",
       "    canvas_div.append(rubberband);\n",
       "\n",
       "    this.rubberband = rubberband;\n",
       "    this.rubberband_canvas = rubberband[0];\n",
       "    this.rubberband_context = rubberband[0].getContext(\"2d\");\n",
       "    this.rubberband_context.strokeStyle = \"#000000\";\n",
       "\n",
       "    this._resize_canvas = function(width, height) {\n",
       "        // Keep the size of the canvas, canvas container, and rubber band\n",
       "        // canvas in synch.\n",
       "        canvas_div.css('width', width)\n",
       "        canvas_div.css('height', height)\n",
       "\n",
       "        canvas.attr('width', width * mpl.ratio);\n",
       "        canvas.attr('height', height * mpl.ratio);\n",
       "        canvas.attr('style', 'width: ' + width + 'px; height: ' + height + 'px;');\n",
       "\n",
       "        rubberband.attr('width', width);\n",
       "        rubberband.attr('height', height);\n",
       "    }\n",
       "\n",
       "    // Set the figure to an initial 600x600px, this will subsequently be updated\n",
       "    // upon first draw.\n",
       "    this._resize_canvas(600, 600);\n",
       "\n",
       "    // Disable right mouse context menu.\n",
       "    $(this.rubberband_canvas).bind(\"contextmenu\",function(e){\n",
       "        return false;\n",
       "    });\n",
       "\n",
       "    function set_focus () {\n",
       "        canvas.focus();\n",
       "        canvas_div.focus();\n",
       "    }\n",
       "\n",
       "    window.setTimeout(set_focus, 100);\n",
       "}\n",
       "\n",
       "mpl.figure.prototype._init_toolbar = function() {\n",
       "    var fig = this;\n",
       "\n",
       "    var nav_element = $('<div/>');\n",
       "    nav_element.attr('style', 'width: 100%');\n",
       "    this.root.append(nav_element);\n",
       "\n",
       "    // Define a callback function for later on.\n",
       "    function toolbar_event(event) {\n",
       "        return fig.toolbar_button_onclick(event['data']);\n",
       "    }\n",
       "    function toolbar_mouse_event(event) {\n",
       "        return fig.toolbar_button_onmouseover(event['data']);\n",
       "    }\n",
       "\n",
       "    for(var toolbar_ind in mpl.toolbar_items) {\n",
       "        var name = mpl.toolbar_items[toolbar_ind][0];\n",
       "        var tooltip = mpl.toolbar_items[toolbar_ind][1];\n",
       "        var image = mpl.toolbar_items[toolbar_ind][2];\n",
       "        var method_name = mpl.toolbar_items[toolbar_ind][3];\n",
       "\n",
       "        if (!name) {\n",
       "            // put a spacer in here.\n",
       "            continue;\n",
       "        }\n",
       "        var button = $('<button/>');\n",
       "        button.addClass('ui-button ui-widget ui-state-default ui-corner-all ' +\n",
       "                        'ui-button-icon-only');\n",
       "        button.attr('role', 'button');\n",
       "        button.attr('aria-disabled', 'false');\n",
       "        button.click(method_name, toolbar_event);\n",
       "        button.mouseover(tooltip, toolbar_mouse_event);\n",
       "\n",
       "        var icon_img = $('<span/>');\n",
       "        icon_img.addClass('ui-button-icon-primary ui-icon');\n",
       "        icon_img.addClass(image);\n",
       "        icon_img.addClass('ui-corner-all');\n",
       "\n",
       "        var tooltip_span = $('<span/>');\n",
       "        tooltip_span.addClass('ui-button-text');\n",
       "        tooltip_span.html(tooltip);\n",
       "\n",
       "        button.append(icon_img);\n",
       "        button.append(tooltip_span);\n",
       "\n",
       "        nav_element.append(button);\n",
       "    }\n",
       "\n",
       "    var fmt_picker_span = $('<span/>');\n",
       "\n",
       "    var fmt_picker = $('<select/>');\n",
       "    fmt_picker.addClass('mpl-toolbar-option ui-widget ui-widget-content');\n",
       "    fmt_picker_span.append(fmt_picker);\n",
       "    nav_element.append(fmt_picker_span);\n",
       "    this.format_dropdown = fmt_picker[0];\n",
       "\n",
       "    for (var ind in mpl.extensions) {\n",
       "        var fmt = mpl.extensions[ind];\n",
       "        var option = $(\n",
       "            '<option/>', {selected: fmt === mpl.default_extension}).html(fmt);\n",
       "        fmt_picker.append(option);\n",
       "    }\n",
       "\n",
       "    // Add hover states to the ui-buttons\n",
       "    $( \".ui-button\" ).hover(\n",
       "        function() { $(this).addClass(\"ui-state-hover\");},\n",
       "        function() { $(this).removeClass(\"ui-state-hover\");}\n",
       "    );\n",
       "\n",
       "    var status_bar = $('<span class=\"mpl-message\"/>');\n",
       "    nav_element.append(status_bar);\n",
       "    this.message = status_bar[0];\n",
       "}\n",
       "\n",
       "mpl.figure.prototype.request_resize = function(x_pixels, y_pixels) {\n",
       "    // Request matplotlib to resize the figure. Matplotlib will then trigger a resize in the client,\n",
       "    // which will in turn request a refresh of the image.\n",
       "    this.send_message('resize', {'width': x_pixels, 'height': y_pixels});\n",
       "}\n",
       "\n",
       "mpl.figure.prototype.send_message = function(type, properties) {\n",
       "    properties['type'] = type;\n",
       "    properties['figure_id'] = this.id;\n",
       "    this.ws.send(JSON.stringify(properties));\n",
       "}\n",
       "\n",
       "mpl.figure.prototype.send_draw_message = function() {\n",
       "    if (!this.waiting) {\n",
       "        this.waiting = true;\n",
       "        this.ws.send(JSON.stringify({type: \"draw\", figure_id: this.id}));\n",
       "    }\n",
       "}\n",
       "\n",
       "\n",
       "mpl.figure.prototype.handle_save = function(fig, msg) {\n",
       "    var format_dropdown = fig.format_dropdown;\n",
       "    var format = format_dropdown.options[format_dropdown.selectedIndex].value;\n",
       "    fig.ondownload(fig, format);\n",
       "}\n",
       "\n",
       "\n",
       "mpl.figure.prototype.handle_resize = function(fig, msg) {\n",
       "    var size = msg['size'];\n",
       "    if (size[0] != fig.canvas.width || size[1] != fig.canvas.height) {\n",
       "        fig._resize_canvas(size[0], size[1]);\n",
       "        fig.send_message(\"refresh\", {});\n",
       "    };\n",
       "}\n",
       "\n",
       "mpl.figure.prototype.handle_rubberband = function(fig, msg) {\n",
       "    var x0 = msg['x0'] / mpl.ratio;\n",
       "    var y0 = (fig.canvas.height - msg['y0']) / mpl.ratio;\n",
       "    var x1 = msg['x1'] / mpl.ratio;\n",
       "    var y1 = (fig.canvas.height - msg['y1']) / mpl.ratio;\n",
       "    x0 = Math.floor(x0) + 0.5;\n",
       "    y0 = Math.floor(y0) + 0.5;\n",
       "    x1 = Math.floor(x1) + 0.5;\n",
       "    y1 = Math.floor(y1) + 0.5;\n",
       "    var min_x = Math.min(x0, x1);\n",
       "    var min_y = Math.min(y0, y1);\n",
       "    var width = Math.abs(x1 - x0);\n",
       "    var height = Math.abs(y1 - y0);\n",
       "\n",
       "    fig.rubberband_context.clearRect(\n",
       "        0, 0, fig.canvas.width / mpl.ratio, fig.canvas.height / mpl.ratio);\n",
       "\n",
       "    fig.rubberband_context.strokeRect(min_x, min_y, width, height);\n",
       "}\n",
       "\n",
       "mpl.figure.prototype.handle_figure_label = function(fig, msg) {\n",
       "    // Updates the figure title.\n",
       "    fig.header.textContent = msg['label'];\n",
       "}\n",
       "\n",
       "mpl.figure.prototype.handle_cursor = function(fig, msg) {\n",
       "    var cursor = msg['cursor'];\n",
       "    switch(cursor)\n",
       "    {\n",
       "    case 0:\n",
       "        cursor = 'pointer';\n",
       "        break;\n",
       "    case 1:\n",
       "        cursor = 'default';\n",
       "        break;\n",
       "    case 2:\n",
       "        cursor = 'crosshair';\n",
       "        break;\n",
       "    case 3:\n",
       "        cursor = 'move';\n",
       "        break;\n",
       "    }\n",
       "    fig.rubberband_canvas.style.cursor = cursor;\n",
       "}\n",
       "\n",
       "mpl.figure.prototype.handle_message = function(fig, msg) {\n",
       "    fig.message.textContent = msg['message'];\n",
       "}\n",
       "\n",
       "mpl.figure.prototype.handle_draw = function(fig, msg) {\n",
       "    // Request the server to send over a new figure.\n",
       "    fig.send_draw_message();\n",
       "}\n",
       "\n",
       "mpl.figure.prototype.handle_image_mode = function(fig, msg) {\n",
       "    fig.image_mode = msg['mode'];\n",
       "}\n",
       "\n",
       "mpl.figure.prototype.updated_canvas_event = function() {\n",
       "    // Called whenever the canvas gets updated.\n",
       "    this.send_message(\"ack\", {});\n",
       "}\n",
       "\n",
       "// A function to construct a web socket function for onmessage handling.\n",
       "// Called in the figure constructor.\n",
       "mpl.figure.prototype._make_on_message_function = function(fig) {\n",
       "    return function socket_on_message(evt) {\n",
       "        if (evt.data instanceof Blob) {\n",
       "            /* FIXME: We get \"Resource interpreted as Image but\n",
       "             * transferred with MIME type text/plain:\" errors on\n",
       "             * Chrome.  But how to set the MIME type?  It doesn't seem\n",
       "             * to be part of the websocket stream */\n",
       "            evt.data.type = \"image/png\";\n",
       "\n",
       "            /* Free the memory for the previous frames */\n",
       "            if (fig.imageObj.src) {\n",
       "                (window.URL || window.webkitURL).revokeObjectURL(\n",
       "                    fig.imageObj.src);\n",
       "            }\n",
       "\n",
       "            fig.imageObj.src = (window.URL || window.webkitURL).createObjectURL(\n",
       "                evt.data);\n",
       "            fig.updated_canvas_event();\n",
       "            fig.waiting = false;\n",
       "            return;\n",
       "        }\n",
       "        else if (typeof evt.data === 'string' && evt.data.slice(0, 21) == \"data:image/png;base64\") {\n",
       "            fig.imageObj.src = evt.data;\n",
       "            fig.updated_canvas_event();\n",
       "            fig.waiting = false;\n",
       "            return;\n",
       "        }\n",
       "\n",
       "        var msg = JSON.parse(evt.data);\n",
       "        var msg_type = msg['type'];\n",
       "\n",
       "        // Call the  \"handle_{type}\" callback, which takes\n",
       "        // the figure and JSON message as its only arguments.\n",
       "        try {\n",
       "            var callback = fig[\"handle_\" + msg_type];\n",
       "        } catch (e) {\n",
       "            console.log(\"No handler for the '\" + msg_type + \"' message type: \", msg);\n",
       "            return;\n",
       "        }\n",
       "\n",
       "        if (callback) {\n",
       "            try {\n",
       "                // console.log(\"Handling '\" + msg_type + \"' message: \", msg);\n",
       "                callback(fig, msg);\n",
       "            } catch (e) {\n",
       "                console.log(\"Exception inside the 'handler_\" + msg_type + \"' callback:\", e, e.stack, msg);\n",
       "            }\n",
       "        }\n",
       "    };\n",
       "}\n",
       "\n",
       "// from http://stackoverflow.com/questions/1114465/getting-mouse-location-in-canvas\n",
       "mpl.findpos = function(e) {\n",
       "    //this section is from http://www.quirksmode.org/js/events_properties.html\n",
       "    var targ;\n",
       "    if (!e)\n",
       "        e = window.event;\n",
       "    if (e.target)\n",
       "        targ = e.target;\n",
       "    else if (e.srcElement)\n",
       "        targ = e.srcElement;\n",
       "    if (targ.nodeType == 3) // defeat Safari bug\n",
       "        targ = targ.parentNode;\n",
       "\n",
       "    // jQuery normalizes the pageX and pageY\n",
       "    // pageX,Y are the mouse positions relative to the document\n",
       "    // offset() returns the position of the element relative to the document\n",
       "    var x = e.pageX - $(targ).offset().left;\n",
       "    var y = e.pageY - $(targ).offset().top;\n",
       "\n",
       "    return {\"x\": x, \"y\": y};\n",
       "};\n",
       "\n",
       "/*\n",
       " * return a copy of an object with only non-object keys\n",
       " * we need this to avoid circular references\n",
       " * http://stackoverflow.com/a/24161582/3208463\n",
       " */\n",
       "function simpleKeys (original) {\n",
       "  return Object.keys(original).reduce(function (obj, key) {\n",
       "    if (typeof original[key] !== 'object')\n",
       "        obj[key] = original[key]\n",
       "    return obj;\n",
       "  }, {});\n",
       "}\n",
       "\n",
       "mpl.figure.prototype.mouse_event = function(event, name) {\n",
       "    var canvas_pos = mpl.findpos(event)\n",
       "\n",
       "    if (name === 'button_press')\n",
       "    {\n",
       "        this.canvas.focus();\n",
       "        this.canvas_div.focus();\n",
       "    }\n",
       "\n",
       "    var x = canvas_pos.x * mpl.ratio;\n",
       "    var y = canvas_pos.y * mpl.ratio;\n",
       "\n",
       "    this.send_message(name, {x: x, y: y, button: event.button,\n",
       "                             step: event.step,\n",
       "                             guiEvent: simpleKeys(event)});\n",
       "\n",
       "    /* This prevents the web browser from automatically changing to\n",
       "     * the text insertion cursor when the button is pressed.  We want\n",
       "     * to control all of the cursor setting manually through the\n",
       "     * 'cursor' event from matplotlib */\n",
       "    event.preventDefault();\n",
       "    return false;\n",
       "}\n",
       "\n",
       "mpl.figure.prototype._key_event_extra = function(event, name) {\n",
       "    // Handle any extra behaviour associated with a key event\n",
       "}\n",
       "\n",
       "mpl.figure.prototype.key_event = function(event, name) {\n",
       "\n",
       "    // Prevent repeat events\n",
       "    if (name == 'key_press')\n",
       "    {\n",
       "        if (event.which === this._key)\n",
       "            return;\n",
       "        else\n",
       "            this._key = event.which;\n",
       "    }\n",
       "    if (name == 'key_release')\n",
       "        this._key = null;\n",
       "\n",
       "    var value = '';\n",
       "    if (event.ctrlKey && event.which != 17)\n",
       "        value += \"ctrl+\";\n",
       "    if (event.altKey && event.which != 18)\n",
       "        value += \"alt+\";\n",
       "    if (event.shiftKey && event.which != 16)\n",
       "        value += \"shift+\";\n",
       "\n",
       "    value += 'k';\n",
       "    value += event.which.toString();\n",
       "\n",
       "    this._key_event_extra(event, name);\n",
       "\n",
       "    this.send_message(name, {key: value,\n",
       "                             guiEvent: simpleKeys(event)});\n",
       "    return false;\n",
       "}\n",
       "\n",
       "mpl.figure.prototype.toolbar_button_onclick = function(name) {\n",
       "    if (name == 'download') {\n",
       "        this.handle_save(this, null);\n",
       "    } else {\n",
       "        this.send_message(\"toolbar_button\", {name: name});\n",
       "    }\n",
       "};\n",
       "\n",
       "mpl.figure.prototype.toolbar_button_onmouseover = function(tooltip) {\n",
       "    this.message.textContent = tooltip;\n",
       "};\n",
       "mpl.toolbar_items = [[\"Home\", \"Reset original view\", \"fa fa-home icon-home\", \"home\"], [\"Back\", \"Back to previous view\", \"fa fa-arrow-left icon-arrow-left\", \"back\"], [\"Forward\", \"Forward to next view\", \"fa fa-arrow-right icon-arrow-right\", \"forward\"], [\"\", \"\", \"\", \"\"], [\"Pan\", \"Pan axes with left mouse, zoom with right\", \"fa fa-arrows icon-move\", \"pan\"], [\"Zoom\", \"Zoom to rectangle\", \"fa fa-square-o icon-check-empty\", \"zoom\"], [\"\", \"\", \"\", \"\"], [\"Download\", \"Download plot\", \"fa fa-floppy-o icon-save\", \"download\"]];\n",
       "\n",
       "mpl.extensions = [\"eps\", \"jpeg\", \"pdf\", \"png\", \"ps\", \"raw\", \"svg\", \"tif\"];\n",
       "\n",
       "mpl.default_extension = \"png\";var comm_websocket_adapter = function(comm) {\n",
       "    // Create a \"websocket\"-like object which calls the given IPython comm\n",
       "    // object with the appropriate methods. Currently this is a non binary\n",
       "    // socket, so there is still some room for performance tuning.\n",
       "    var ws = {};\n",
       "\n",
       "    ws.close = function() {\n",
       "        comm.close()\n",
       "    };\n",
       "    ws.send = function(m) {\n",
       "        //console.log('sending', m);\n",
       "        comm.send(m);\n",
       "    };\n",
       "    // Register the callback with on_msg.\n",
       "    comm.on_msg(function(msg) {\n",
       "        //console.log('receiving', msg['content']['data'], msg);\n",
       "        // Pass the mpl event to the overridden (by mpl) onmessage function.\n",
       "        ws.onmessage(msg['content']['data'])\n",
       "    });\n",
       "    return ws;\n",
       "}\n",
       "\n",
       "mpl.mpl_figure_comm = function(comm, msg) {\n",
       "    // This is the function which gets called when the mpl process\n",
       "    // starts-up an IPython Comm through the \"matplotlib\" channel.\n",
       "\n",
       "    var id = msg.content.data.id;\n",
       "    // Get hold of the div created by the display call when the Comm\n",
       "    // socket was opened in Python.\n",
       "    var element = $(\"#\" + id);\n",
       "    var ws_proxy = comm_websocket_adapter(comm)\n",
       "\n",
       "    function ondownload(figure, format) {\n",
       "        window.open(figure.imageObj.src);\n",
       "    }\n",
       "\n",
       "    var fig = new mpl.figure(id, ws_proxy,\n",
       "                           ondownload,\n",
       "                           element.get(0));\n",
       "\n",
       "    // Call onopen now - mpl needs it, as it is assuming we've passed it a real\n",
       "    // web socket which is closed, not our websocket->open comm proxy.\n",
       "    ws_proxy.onopen();\n",
       "\n",
       "    fig.parent_element = element.get(0);\n",
       "    fig.cell_info = mpl.find_output_cell(\"<div id='\" + id + \"'></div>\");\n",
       "    if (!fig.cell_info) {\n",
       "        console.error(\"Failed to find cell for figure\", id, fig);\n",
       "        return;\n",
       "    }\n",
       "\n",
       "    var output_index = fig.cell_info[2]\n",
       "    var cell = fig.cell_info[0];\n",
       "\n",
       "};\n",
       "\n",
       "mpl.figure.prototype.handle_close = function(fig, msg) {\n",
       "    var width = fig.canvas.width/mpl.ratio\n",
       "    fig.root.unbind('remove')\n",
       "\n",
       "    // Update the output cell to use the data from the current canvas.\n",
       "    fig.push_to_output();\n",
       "    var dataURL = fig.canvas.toDataURL();\n",
       "    // Re-enable the keyboard manager in IPython - without this line, in FF,\n",
       "    // the notebook keyboard shortcuts fail.\n",
       "    IPython.keyboard_manager.enable()\n",
       "    $(fig.parent_element).html('<img src=\"' + dataURL + '\" width=\"' + width + '\">');\n",
       "    fig.close_ws(fig, msg);\n",
       "}\n",
       "\n",
       "mpl.figure.prototype.close_ws = function(fig, msg){\n",
       "    fig.send_message('closing', msg);\n",
       "    // fig.ws.close()\n",
       "}\n",
       "\n",
       "mpl.figure.prototype.push_to_output = function(remove_interactive) {\n",
       "    // Turn the data on the canvas into data in the output cell.\n",
       "    var width = this.canvas.width/mpl.ratio\n",
       "    var dataURL = this.canvas.toDataURL();\n",
       "    this.cell_info[1]['text/html'] = '<img src=\"' + dataURL + '\" width=\"' + width + '\">';\n",
       "}\n",
       "\n",
       "mpl.figure.prototype.updated_canvas_event = function() {\n",
       "    // Tell IPython that the notebook contents must change.\n",
       "    IPython.notebook.set_dirty(true);\n",
       "    this.send_message(\"ack\", {});\n",
       "    var fig = this;\n",
       "    // Wait a second, then push the new image to the DOM so\n",
       "    // that it is saved nicely (might be nice to debounce this).\n",
       "    setTimeout(function () { fig.push_to_output() }, 1000);\n",
       "}\n",
       "\n",
       "mpl.figure.prototype._init_toolbar = function() {\n",
       "    var fig = this;\n",
       "\n",
       "    var nav_element = $('<div/>');\n",
       "    nav_element.attr('style', 'width: 100%');\n",
       "    this.root.append(nav_element);\n",
       "\n",
       "    // Define a callback function for later on.\n",
       "    function toolbar_event(event) {\n",
       "        return fig.toolbar_button_onclick(event['data']);\n",
       "    }\n",
       "    function toolbar_mouse_event(event) {\n",
       "        return fig.toolbar_button_onmouseover(event['data']);\n",
       "    }\n",
       "\n",
       "    for(var toolbar_ind in mpl.toolbar_items){\n",
       "        var name = mpl.toolbar_items[toolbar_ind][0];\n",
       "        var tooltip = mpl.toolbar_items[toolbar_ind][1];\n",
       "        var image = mpl.toolbar_items[toolbar_ind][2];\n",
       "        var method_name = mpl.toolbar_items[toolbar_ind][3];\n",
       "\n",
       "        if (!name) { continue; };\n",
       "\n",
       "        var button = $('<button class=\"btn btn-default\" href=\"#\" title=\"' + name + '\"><i class=\"fa ' + image + ' fa-lg\"></i></button>');\n",
       "        button.click(method_name, toolbar_event);\n",
       "        button.mouseover(tooltip, toolbar_mouse_event);\n",
       "        nav_element.append(button);\n",
       "    }\n",
       "\n",
       "    // Add the status bar.\n",
       "    var status_bar = $('<span class=\"mpl-message\" style=\"text-align:right; float: right;\"/>');\n",
       "    nav_element.append(status_bar);\n",
       "    this.message = status_bar[0];\n",
       "\n",
       "    // Add the close button to the window.\n",
       "    var buttongrp = $('<div class=\"btn-group inline pull-right\"></div>');\n",
       "    var button = $('<button class=\"btn btn-mini btn-primary\" href=\"#\" title=\"Stop Interaction\"><i class=\"fa fa-power-off icon-remove icon-large\"></i></button>');\n",
       "    button.click(function (evt) { fig.handle_close(fig, {}); } );\n",
       "    button.mouseover('Stop Interaction', toolbar_mouse_event);\n",
       "    buttongrp.append(button);\n",
       "    var titlebar = this.root.find($('.ui-dialog-titlebar'));\n",
       "    titlebar.prepend(buttongrp);\n",
       "}\n",
       "\n",
       "mpl.figure.prototype._root_extra_style = function(el){\n",
       "    var fig = this\n",
       "    el.on(\"remove\", function(){\n",
       "\tfig.close_ws(fig, {});\n",
       "    });\n",
       "}\n",
       "\n",
       "mpl.figure.prototype._canvas_extra_style = function(el){\n",
       "    // this is important to make the div 'focusable\n",
       "    el.attr('tabindex', 0)\n",
       "    // reach out to IPython and tell the keyboard manager to turn it's self\n",
       "    // off when our div gets focus\n",
       "\n",
       "    // location in version 3\n",
       "    if (IPython.notebook.keyboard_manager) {\n",
       "        IPython.notebook.keyboard_manager.register_events(el);\n",
       "    }\n",
       "    else {\n",
       "        // location in version 2\n",
       "        IPython.keyboard_manager.register_events(el);\n",
       "    }\n",
       "\n",
       "}\n",
       "\n",
       "mpl.figure.prototype._key_event_extra = function(event, name) {\n",
       "    var manager = IPython.notebook.keyboard_manager;\n",
       "    if (!manager)\n",
       "        manager = IPython.keyboard_manager;\n",
       "\n",
       "    // Check for shift+enter\n",
       "    if (event.shiftKey && event.which == 13) {\n",
       "        this.canvas_div.blur();\n",
       "        // select the cell after this one\n",
       "        var index = IPython.notebook.find_cell_index(this.cell_info[0]);\n",
       "        IPython.notebook.select(index + 1);\n",
       "    }\n",
       "}\n",
       "\n",
       "mpl.figure.prototype.handle_save = function(fig, msg) {\n",
       "    fig.ondownload(fig, null);\n",
       "}\n",
       "\n",
       "\n",
       "mpl.find_output_cell = function(html_output) {\n",
       "    // Return the cell and output element which can be found *uniquely* in the notebook.\n",
       "    // Note - this is a bit hacky, but it is done because the \"notebook_saving.Notebook\"\n",
       "    // IPython event is triggered only after the cells have been serialised, which for\n",
       "    // our purposes (turning an active figure into a static one), is too late.\n",
       "    var cells = IPython.notebook.get_cells();\n",
       "    var ncells = cells.length;\n",
       "    for (var i=0; i<ncells; i++) {\n",
       "        var cell = cells[i];\n",
       "        if (cell.cell_type === 'code'){\n",
       "            for (var j=0; j<cell.output_area.outputs.length; j++) {\n",
       "                var data = cell.output_area.outputs[j];\n",
       "                if (data.data) {\n",
       "                    // IPython >= 3 moved mimebundle to data attribute of output\n",
       "                    data = data.data;\n",
       "                }\n",
       "                if (data['text/html'] == html_output) {\n",
       "                    return [cell, data, j];\n",
       "                }\n",
       "            }\n",
       "        }\n",
       "    }\n",
       "}\n",
       "\n",
       "// Register the function which deals with the matplotlib target/channel.\n",
       "// The kernel may be null if the page has been refreshed.\n",
       "if (IPython.notebook.kernel != null) {\n",
       "    IPython.notebook.kernel.comm_manager.register_target('matplotlib', mpl.mpl_figure_comm);\n",
       "}\n"
      ],
      "text/plain": [
       "<IPython.core.display.Javascript object>"
      ]
     },
     "metadata": {},
     "output_type": "display_data"
    },
    {
     "data": {
      "text/html": [
       "<img src=\"data:image/png;base64,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\" width=\"640\">"
      ],
      "text/plain": [
       "<IPython.core.display.HTML object>"
      ]
     },
     "metadata": {},
     "output_type": "display_data"
    }
   ],
   "source": [
    "%matplotlib notebook\n",
    "plt.pie([8,2,9,5],labels = ['A', 'B', 'C', 'D'],colors = ['red', 'green', 'yellow','blue'],  explode = [0, 0.2, 0, 0],  \n",
    "           autopct = lambda x: str(round(x, 2)) + '%', pctdistance = 0.7,labeldistance = 1.3, shadow = True)\n",
    "\n",
    "plt.legend()\n",
    "plt.show()"
   ]
  },
  {
   "cell_type": "code",
   "execution_count": 2,
   "metadata": {},
   "outputs": [
    {
     "data": {
      "text/html": [
       "<div>\n",
       "<style scoped>\n",
       "    .dataframe tbody tr th:only-of-type {\n",
       "        vertical-align: middle;\n",
       "    }\n",
       "\n",
       "    .dataframe tbody tr th {\n",
       "        vertical-align: top;\n",
       "    }\n",
       "\n",
       "    .dataframe thead th {\n",
       "        text-align: right;\n",
       "    }\n",
       "</style>\n",
       "<table border=\"1\" class=\"dataframe\">\n",
       "  <thead>\n",
       "    <tr style=\"text-align: right;\">\n",
       "      <th></th>\n",
       "      <th>x</th>\n",
       "      <th>y</th>\n",
       "    </tr>\n",
       "  </thead>\n",
       "  <tbody>\n",
       "    <tr>\n",
       "      <th>0</th>\n",
       "      <td>19</td>\n",
       "      <td>22.5</td>\n",
       "    </tr>\n",
       "    <tr>\n",
       "      <th>1</th>\n",
       "      <td>60</td>\n",
       "      <td>40.0</td>\n",
       "    </tr>\n",
       "    <tr>\n",
       "      <th>2</th>\n",
       "      <td>30</td>\n",
       "      <td>55.0</td>\n",
       "    </tr>\n",
       "    <tr>\n",
       "      <th>3</th>\n",
       "      <td>76</td>\n",
       "      <td>60.0</td>\n",
       "    </tr>\n",
       "    <tr>\n",
       "      <th>4</th>\n",
       "      <td>48</td>\n",
       "      <td>40.0</td>\n",
       "    </tr>\n",
       "  </tbody>\n",
       "</table>\n",
       "</div>"
      ],
      "text/plain": [
       "    x     y\n",
       "0  19  22.5\n",
       "1  60  40.0\n",
       "2  30  55.0\n",
       "3  76  60.0\n",
       "4  48  40.0"
      ]
     },
     "execution_count": 2,
     "metadata": {},
     "output_type": "execute_result"
    }
   ],
   "source": [
    "import pandas as pd\n",
    "import matplotlib.pyplot as plt\n",
    "données={   'x':[19,60,30,76,48],\n",
    "            'y':[22.5,40,55,60,40]\n",
    "        }\n",
    "\n",
    "#df=pd.read_csv(\"C:/MATY/Analyse de données/add/données.csv\", sep=\";\")\n",
    "df = pd.DataFrame(données,columns=['x','y'])\n",
    "df"
   ]
  },
  {
   "cell_type": "code",
   "execution_count": 3,
   "metadata": {},
   "outputs": [
    {
     "data": {
      "text/plain": [
       "0    19\n",
       "1    60\n",
       "2    30\n",
       "3    76\n",
       "4    48\n",
       "Name: x, dtype: int64"
      ]
     },
     "execution_count": 3,
     "metadata": {},
     "output_type": "execute_result"
    }
   ],
   "source": [
    "df.x"
   ]
  },
  {
   "cell_type": "code",
   "execution_count": 6,
   "metadata": {},
   "outputs": [
    {
     "data": {
      "text/plain": [
       "x    30.0\n",
       "y    55.0\n",
       "Name: 2, dtype: float64"
      ]
     },
     "execution_count": 6,
     "metadata": {},
     "output_type": "execute_result"
    }
   ],
   "source": [
    "df.loc[2]"
   ]
  },
  {
   "cell_type": "code",
   "execution_count": 8,
   "metadata": {},
   "outputs": [
    {
     "data": {
      "text/html": [
       "<div>\n",
       "<style scoped>\n",
       "    .dataframe tbody tr th:only-of-type {\n",
       "        vertical-align: middle;\n",
       "    }\n",
       "\n",
       "    .dataframe tbody tr th {\n",
       "        vertical-align: top;\n",
       "    }\n",
       "\n",
       "    .dataframe thead th {\n",
       "        text-align: right;\n",
       "    }\n",
       "</style>\n",
       "<table border=\"1\" class=\"dataframe\">\n",
       "  <thead>\n",
       "    <tr style=\"text-align: right;\">\n",
       "      <th></th>\n",
       "      <th>x</th>\n",
       "      <th>y</th>\n",
       "    </tr>\n",
       "  </thead>\n",
       "  <tbody>\n",
       "    <tr>\n",
       "      <th>2</th>\n",
       "      <td>30</td>\n",
       "      <td>55.0</td>\n",
       "    </tr>\n",
       "    <tr>\n",
       "      <th>4</th>\n",
       "      <td>48</td>\n",
       "      <td>40.0</td>\n",
       "    </tr>\n",
       "  </tbody>\n",
       "</table>\n",
       "</div>"
      ],
      "text/plain": [
       "    x     y\n",
       "2  30  55.0\n",
       "4  48  40.0"
      ]
     },
     "execution_count": 8,
     "metadata": {},
     "output_type": "execute_result"
    }
   ],
   "source": [
    "df.loc[[2, 4]]"
   ]
  },
  {
   "cell_type": "code",
   "execution_count": 10,
   "metadata": {},
   "outputs": [
    {
     "data": {
      "text/html": [
       "<div>\n",
       "<style scoped>\n",
       "    .dataframe tbody tr th:only-of-type {\n",
       "        vertical-align: middle;\n",
       "    }\n",
       "\n",
       "    .dataframe tbody tr th {\n",
       "        vertical-align: top;\n",
       "    }\n",
       "\n",
       "    .dataframe thead th {\n",
       "        text-align: right;\n",
       "    }\n",
       "</style>\n",
       "<table border=\"1\" class=\"dataframe\">\n",
       "  <thead>\n",
       "    <tr style=\"text-align: right;\">\n",
       "      <th></th>\n",
       "      <th>x</th>\n",
       "      <th>y</th>\n",
       "    </tr>\n",
       "  </thead>\n",
       "  <tbody>\n",
       "    <tr>\n",
       "      <th>0</th>\n",
       "      <td>19</td>\n",
       "      <td>22.5</td>\n",
       "    </tr>\n",
       "    <tr>\n",
       "      <th>1</th>\n",
       "      <td>60</td>\n",
       "      <td>40.0</td>\n",
       "    </tr>\n",
       "    <tr>\n",
       "      <th>2</th>\n",
       "      <td>30</td>\n",
       "      <td>55.0</td>\n",
       "    </tr>\n",
       "    <tr>\n",
       "      <th>3</th>\n",
       "      <td>76</td>\n",
       "      <td>60.0</td>\n",
       "    </tr>\n",
       "    <tr>\n",
       "      <th>4</th>\n",
       "      <td>48</td>\n",
       "      <td>40.0</td>\n",
       "    </tr>\n",
       "  </tbody>\n",
       "</table>\n",
       "</div>"
      ],
      "text/plain": [
       "    x     y\n",
       "0  19  22.5\n",
       "1  60  40.0\n",
       "2  30  55.0\n",
       "3  76  60.0\n",
       "4  48  40.0"
      ]
     },
     "execution_count": 10,
     "metadata": {},
     "output_type": "execute_result"
    }
   ],
   "source": [
    "df[['x', 'y']]"
   ]
  },
  {
   "cell_type": "code",
   "execution_count": 11,
   "metadata": {},
   "outputs": [
    {
     "data": {
      "text/plain": [
       "0    22.5\n",
       "1    40.0\n",
       "2    55.0\n",
       "3    60.0\n",
       "4    40.0\n",
       "Name: y, dtype: float64"
      ]
     },
     "execution_count": 11,
     "metadata": {},
     "output_type": "execute_result"
    }
   ],
   "source": [
    "df.iloc[:, 1]"
   ]
  },
  {
   "cell_type": "code",
   "execution_count": 8,
   "metadata": {},
   "outputs": [
    {
     "data": {
      "application/javascript": [
       "/* Put everything inside the global mpl namespace */\n",
       "window.mpl = {};\n",
       "\n",
       "\n",
       "mpl.get_websocket_type = function() {\n",
       "    if (typeof(WebSocket) !== 'undefined') {\n",
       "        return WebSocket;\n",
       "    } else if (typeof(MozWebSocket) !== 'undefined') {\n",
       "        return MozWebSocket;\n",
       "    } else {\n",
       "        alert('Your browser does not have WebSocket support. ' +\n",
       "              'Please try Chrome, Safari or Firefox ≥ 6. ' +\n",
       "              'Firefox 4 and 5 are also supported but you ' +\n",
       "              'have to enable WebSockets in about:config.');\n",
       "    };\n",
       "}\n",
       "\n",
       "mpl.figure = function(figure_id, websocket, ondownload, parent_element) {\n",
       "    this.id = figure_id;\n",
       "\n",
       "    this.ws = websocket;\n",
       "\n",
       "    this.supports_binary = (this.ws.binaryType != undefined);\n",
       "\n",
       "    if (!this.supports_binary) {\n",
       "        var warnings = document.getElementById(\"mpl-warnings\");\n",
       "        if (warnings) {\n",
       "            warnings.style.display = 'block';\n",
       "            warnings.textContent = (\n",
       "                \"This browser does not support binary websocket messages. \" +\n",
       "                    \"Performance may be slow.\");\n",
       "        }\n",
       "    }\n",
       "\n",
       "    this.imageObj = new Image();\n",
       "\n",
       "    this.context = undefined;\n",
       "    this.message = undefined;\n",
       "    this.canvas = undefined;\n",
       "    this.rubberband_canvas = undefined;\n",
       "    this.rubberband_context = undefined;\n",
       "    this.format_dropdown = undefined;\n",
       "\n",
       "    this.image_mode = 'full';\n",
       "\n",
       "    this.root = $('<div/>');\n",
       "    this._root_extra_style(this.root)\n",
       "    this.root.attr('style', 'display: inline-block');\n",
       "\n",
       "    $(parent_element).append(this.root);\n",
       "\n",
       "    this._init_header(this);\n",
       "    this._init_canvas(this);\n",
       "    this._init_toolbar(this);\n",
       "\n",
       "    var fig = this;\n",
       "\n",
       "    this.waiting = false;\n",
       "\n",
       "    this.ws.onopen =  function () {\n",
       "            fig.send_message(\"supports_binary\", {value: fig.supports_binary});\n",
       "            fig.send_message(\"send_image_mode\", {});\n",
       "            if (mpl.ratio != 1) {\n",
       "                fig.send_message(\"set_dpi_ratio\", {'dpi_ratio': mpl.ratio});\n",
       "            }\n",
       "            fig.send_message(\"refresh\", {});\n",
       "        }\n",
       "\n",
       "    this.imageObj.onload = function() {\n",
       "            if (fig.image_mode == 'full') {\n",
       "                // Full images could contain transparency (where diff images\n",
       "                // almost always do), so we need to clear the canvas so that\n",
       "                // there is no ghosting.\n",
       "                fig.context.clearRect(0, 0, fig.canvas.width, fig.canvas.height);\n",
       "            }\n",
       "            fig.context.drawImage(fig.imageObj, 0, 0);\n",
       "        };\n",
       "\n",
       "    this.imageObj.onunload = function() {\n",
       "        fig.ws.close();\n",
       "    }\n",
       "\n",
       "    this.ws.onmessage = this._make_on_message_function(this);\n",
       "\n",
       "    this.ondownload = ondownload;\n",
       "}\n",
       "\n",
       "mpl.figure.prototype._init_header = function() {\n",
       "    var titlebar = $(\n",
       "        '<div class=\"ui-dialog-titlebar ui-widget-header ui-corner-all ' +\n",
       "        'ui-helper-clearfix\"/>');\n",
       "    var titletext = $(\n",
       "        '<div class=\"ui-dialog-title\" style=\"width: 100%; ' +\n",
       "        'text-align: center; padding: 3px;\"/>');\n",
       "    titlebar.append(titletext)\n",
       "    this.root.append(titlebar);\n",
       "    this.header = titletext[0];\n",
       "}\n",
       "\n",
       "\n",
       "\n",
       "mpl.figure.prototype._canvas_extra_style = function(canvas_div) {\n",
       "\n",
       "}\n",
       "\n",
       "\n",
       "mpl.figure.prototype._root_extra_style = function(canvas_div) {\n",
       "\n",
       "}\n",
       "\n",
       "mpl.figure.prototype._init_canvas = function() {\n",
       "    var fig = this;\n",
       "\n",
       "    var canvas_div = $('<div/>');\n",
       "\n",
       "    canvas_div.attr('style', 'position: relative; clear: both; outline: 0');\n",
       "\n",
       "    function canvas_keyboard_event(event) {\n",
       "        return fig.key_event(event, event['data']);\n",
       "    }\n",
       "\n",
       "    canvas_div.keydown('key_press', canvas_keyboard_event);\n",
       "    canvas_div.keyup('key_release', canvas_keyboard_event);\n",
       "    this.canvas_div = canvas_div\n",
       "    this._canvas_extra_style(canvas_div)\n",
       "    this.root.append(canvas_div);\n",
       "\n",
       "    var canvas = $('<canvas/>');\n",
       "    canvas.addClass('mpl-canvas');\n",
       "    canvas.attr('style', \"left: 0; top: 0; z-index: 0; outline: 0\")\n",
       "\n",
       "    this.canvas = canvas[0];\n",
       "    this.context = canvas[0].getContext(\"2d\");\n",
       "\n",
       "    var backingStore = this.context.backingStorePixelRatio ||\n",
       "\tthis.context.webkitBackingStorePixelRatio ||\n",
       "\tthis.context.mozBackingStorePixelRatio ||\n",
       "\tthis.context.msBackingStorePixelRatio ||\n",
       "\tthis.context.oBackingStorePixelRatio ||\n",
       "\tthis.context.backingStorePixelRatio || 1;\n",
       "\n",
       "    mpl.ratio = (window.devicePixelRatio || 1) / backingStore;\n",
       "\n",
       "    var rubberband = $('<canvas/>');\n",
       "    rubberband.attr('style', \"position: absolute; left: 0; top: 0; z-index: 1;\")\n",
       "\n",
       "    var pass_mouse_events = true;\n",
       "\n",
       "    canvas_div.resizable({\n",
       "        start: function(event, ui) {\n",
       "            pass_mouse_events = false;\n",
       "        },\n",
       "        resize: function(event, ui) {\n",
       "            fig.request_resize(ui.size.width, ui.size.height);\n",
       "        },\n",
       "        stop: function(event, ui) {\n",
       "            pass_mouse_events = true;\n",
       "            fig.request_resize(ui.size.width, ui.size.height);\n",
       "        },\n",
       "    });\n",
       "\n",
       "    function mouse_event_fn(event) {\n",
       "        if (pass_mouse_events)\n",
       "            return fig.mouse_event(event, event['data']);\n",
       "    }\n",
       "\n",
       "    rubberband.mousedown('button_press', mouse_event_fn);\n",
       "    rubberband.mouseup('button_release', mouse_event_fn);\n",
       "    // Throttle sequential mouse events to 1 every 20ms.\n",
       "    rubberband.mousemove('motion_notify', mouse_event_fn);\n",
       "\n",
       "    rubberband.mouseenter('figure_enter', mouse_event_fn);\n",
       "    rubberband.mouseleave('figure_leave', mouse_event_fn);\n",
       "\n",
       "    canvas_div.on(\"wheel\", function (event) {\n",
       "        event = event.originalEvent;\n",
       "        event['data'] = 'scroll'\n",
       "        if (event.deltaY < 0) {\n",
       "            event.step = 1;\n",
       "        } else {\n",
       "            event.step = -1;\n",
       "        }\n",
       "        mouse_event_fn(event);\n",
       "    });\n",
       "\n",
       "    canvas_div.append(canvas);\n",
       "    canvas_div.append(rubberband);\n",
       "\n",
       "    this.rubberband = rubberband;\n",
       "    this.rubberband_canvas = rubberband[0];\n",
       "    this.rubberband_context = rubberband[0].getContext(\"2d\");\n",
       "    this.rubberband_context.strokeStyle = \"#000000\";\n",
       "\n",
       "    this._resize_canvas = function(width, height) {\n",
       "        // Keep the size of the canvas, canvas container, and rubber band\n",
       "        // canvas in synch.\n",
       "        canvas_div.css('width', width)\n",
       "        canvas_div.css('height', height)\n",
       "\n",
       "        canvas.attr('width', width * mpl.ratio);\n",
       "        canvas.attr('height', height * mpl.ratio);\n",
       "        canvas.attr('style', 'width: ' + width + 'px; height: ' + height + 'px;');\n",
       "\n",
       "        rubberband.attr('width', width);\n",
       "        rubberband.attr('height', height);\n",
       "    }\n",
       "\n",
       "    // Set the figure to an initial 600x600px, this will subsequently be updated\n",
       "    // upon first draw.\n",
       "    this._resize_canvas(600, 600);\n",
       "\n",
       "    // Disable right mouse context menu.\n",
       "    $(this.rubberband_canvas).bind(\"contextmenu\",function(e){\n",
       "        return false;\n",
       "    });\n",
       "\n",
       "    function set_focus () {\n",
       "        canvas.focus();\n",
       "        canvas_div.focus();\n",
       "    }\n",
       "\n",
       "    window.setTimeout(set_focus, 100);\n",
       "}\n",
       "\n",
       "mpl.figure.prototype._init_toolbar = function() {\n",
       "    var fig = this;\n",
       "\n",
       "    var nav_element = $('<div/>');\n",
       "    nav_element.attr('style', 'width: 100%');\n",
       "    this.root.append(nav_element);\n",
       "\n",
       "    // Define a callback function for later on.\n",
       "    function toolbar_event(event) {\n",
       "        return fig.toolbar_button_onclick(event['data']);\n",
       "    }\n",
       "    function toolbar_mouse_event(event) {\n",
       "        return fig.toolbar_button_onmouseover(event['data']);\n",
       "    }\n",
       "\n",
       "    for(var toolbar_ind in mpl.toolbar_items) {\n",
       "        var name = mpl.toolbar_items[toolbar_ind][0];\n",
       "        var tooltip = mpl.toolbar_items[toolbar_ind][1];\n",
       "        var image = mpl.toolbar_items[toolbar_ind][2];\n",
       "        var method_name = mpl.toolbar_items[toolbar_ind][3];\n",
       "\n",
       "        if (!name) {\n",
       "            // put a spacer in here.\n",
       "            continue;\n",
       "        }\n",
       "        var button = $('<button/>');\n",
       "        button.addClass('ui-button ui-widget ui-state-default ui-corner-all ' +\n",
       "                        'ui-button-icon-only');\n",
       "        button.attr('role', 'button');\n",
       "        button.attr('aria-disabled', 'false');\n",
       "        button.click(method_name, toolbar_event);\n",
       "        button.mouseover(tooltip, toolbar_mouse_event);\n",
       "\n",
       "        var icon_img = $('<span/>');\n",
       "        icon_img.addClass('ui-button-icon-primary ui-icon');\n",
       "        icon_img.addClass(image);\n",
       "        icon_img.addClass('ui-corner-all');\n",
       "\n",
       "        var tooltip_span = $('<span/>');\n",
       "        tooltip_span.addClass('ui-button-text');\n",
       "        tooltip_span.html(tooltip);\n",
       "\n",
       "        button.append(icon_img);\n",
       "        button.append(tooltip_span);\n",
       "\n",
       "        nav_element.append(button);\n",
       "    }\n",
       "\n",
       "    var fmt_picker_span = $('<span/>');\n",
       "\n",
       "    var fmt_picker = $('<select/>');\n",
       "    fmt_picker.addClass('mpl-toolbar-option ui-widget ui-widget-content');\n",
       "    fmt_picker_span.append(fmt_picker);\n",
       "    nav_element.append(fmt_picker_span);\n",
       "    this.format_dropdown = fmt_picker[0];\n",
       "\n",
       "    for (var ind in mpl.extensions) {\n",
       "        var fmt = mpl.extensions[ind];\n",
       "        var option = $(\n",
       "            '<option/>', {selected: fmt === mpl.default_extension}).html(fmt);\n",
       "        fmt_picker.append(option);\n",
       "    }\n",
       "\n",
       "    // Add hover states to the ui-buttons\n",
       "    $( \".ui-button\" ).hover(\n",
       "        function() { $(this).addClass(\"ui-state-hover\");},\n",
       "        function() { $(this).removeClass(\"ui-state-hover\");}\n",
       "    );\n",
       "\n",
       "    var status_bar = $('<span class=\"mpl-message\"/>');\n",
       "    nav_element.append(status_bar);\n",
       "    this.message = status_bar[0];\n",
       "}\n",
       "\n",
       "mpl.figure.prototype.request_resize = function(x_pixels, y_pixels) {\n",
       "    // Request matplotlib to resize the figure. Matplotlib will then trigger a resize in the client,\n",
       "    // which will in turn request a refresh of the image.\n",
       "    this.send_message('resize', {'width': x_pixels, 'height': y_pixels});\n",
       "}\n",
       "\n",
       "mpl.figure.prototype.send_message = function(type, properties) {\n",
       "    properties['type'] = type;\n",
       "    properties['figure_id'] = this.id;\n",
       "    this.ws.send(JSON.stringify(properties));\n",
       "}\n",
       "\n",
       "mpl.figure.prototype.send_draw_message = function() {\n",
       "    if (!this.waiting) {\n",
       "        this.waiting = true;\n",
       "        this.ws.send(JSON.stringify({type: \"draw\", figure_id: this.id}));\n",
       "    }\n",
       "}\n",
       "\n",
       "\n",
       "mpl.figure.prototype.handle_save = function(fig, msg) {\n",
       "    var format_dropdown = fig.format_dropdown;\n",
       "    var format = format_dropdown.options[format_dropdown.selectedIndex].value;\n",
       "    fig.ondownload(fig, format);\n",
       "}\n",
       "\n",
       "\n",
       "mpl.figure.prototype.handle_resize = function(fig, msg) {\n",
       "    var size = msg['size'];\n",
       "    if (size[0] != fig.canvas.width || size[1] != fig.canvas.height) {\n",
       "        fig._resize_canvas(size[0], size[1]);\n",
       "        fig.send_message(\"refresh\", {});\n",
       "    };\n",
       "}\n",
       "\n",
       "mpl.figure.prototype.handle_rubberband = function(fig, msg) {\n",
       "    var x0 = msg['x0'] / mpl.ratio;\n",
       "    var y0 = (fig.canvas.height - msg['y0']) / mpl.ratio;\n",
       "    var x1 = msg['x1'] / mpl.ratio;\n",
       "    var y1 = (fig.canvas.height - msg['y1']) / mpl.ratio;\n",
       "    x0 = Math.floor(x0) + 0.5;\n",
       "    y0 = Math.floor(y0) + 0.5;\n",
       "    x1 = Math.floor(x1) + 0.5;\n",
       "    y1 = Math.floor(y1) + 0.5;\n",
       "    var min_x = Math.min(x0, x1);\n",
       "    var min_y = Math.min(y0, y1);\n",
       "    var width = Math.abs(x1 - x0);\n",
       "    var height = Math.abs(y1 - y0);\n",
       "\n",
       "    fig.rubberband_context.clearRect(\n",
       "        0, 0, fig.canvas.width / mpl.ratio, fig.canvas.height / mpl.ratio);\n",
       "\n",
       "    fig.rubberband_context.strokeRect(min_x, min_y, width, height);\n",
       "}\n",
       "\n",
       "mpl.figure.prototype.handle_figure_label = function(fig, msg) {\n",
       "    // Updates the figure title.\n",
       "    fig.header.textContent = msg['label'];\n",
       "}\n",
       "\n",
       "mpl.figure.prototype.handle_cursor = function(fig, msg) {\n",
       "    var cursor = msg['cursor'];\n",
       "    switch(cursor)\n",
       "    {\n",
       "    case 0:\n",
       "        cursor = 'pointer';\n",
       "        break;\n",
       "    case 1:\n",
       "        cursor = 'default';\n",
       "        break;\n",
       "    case 2:\n",
       "        cursor = 'crosshair';\n",
       "        break;\n",
       "    case 3:\n",
       "        cursor = 'move';\n",
       "        break;\n",
       "    }\n",
       "    fig.rubberband_canvas.style.cursor = cursor;\n",
       "}\n",
       "\n",
       "mpl.figure.prototype.handle_message = function(fig, msg) {\n",
       "    fig.message.textContent = msg['message'];\n",
       "}\n",
       "\n",
       "mpl.figure.prototype.handle_draw = function(fig, msg) {\n",
       "    // Request the server to send over a new figure.\n",
       "    fig.send_draw_message();\n",
       "}\n",
       "\n",
       "mpl.figure.prototype.handle_image_mode = function(fig, msg) {\n",
       "    fig.image_mode = msg['mode'];\n",
       "}\n",
       "\n",
       "mpl.figure.prototype.updated_canvas_event = function() {\n",
       "    // Called whenever the canvas gets updated.\n",
       "    this.send_message(\"ack\", {});\n",
       "}\n",
       "\n",
       "// A function to construct a web socket function for onmessage handling.\n",
       "// Called in the figure constructor.\n",
       "mpl.figure.prototype._make_on_message_function = function(fig) {\n",
       "    return function socket_on_message(evt) {\n",
       "        if (evt.data instanceof Blob) {\n",
       "            /* FIXME: We get \"Resource interpreted as Image but\n",
       "             * transferred with MIME type text/plain:\" errors on\n",
       "             * Chrome.  But how to set the MIME type?  It doesn't seem\n",
       "             * to be part of the websocket stream */\n",
       "            evt.data.type = \"image/png\";\n",
       "\n",
       "            /* Free the memory for the previous frames */\n",
       "            if (fig.imageObj.src) {\n",
       "                (window.URL || window.webkitURL).revokeObjectURL(\n",
       "                    fig.imageObj.src);\n",
       "            }\n",
       "\n",
       "            fig.imageObj.src = (window.URL || window.webkitURL).createObjectURL(\n",
       "                evt.data);\n",
       "            fig.updated_canvas_event();\n",
       "            fig.waiting = false;\n",
       "            return;\n",
       "        }\n",
       "        else if (typeof evt.data === 'string' && evt.data.slice(0, 21) == \"data:image/png;base64\") {\n",
       "            fig.imageObj.src = evt.data;\n",
       "            fig.updated_canvas_event();\n",
       "            fig.waiting = false;\n",
       "            return;\n",
       "        }\n",
       "\n",
       "        var msg = JSON.parse(evt.data);\n",
       "        var msg_type = msg['type'];\n",
       "\n",
       "        // Call the  \"handle_{type}\" callback, which takes\n",
       "        // the figure and JSON message as its only arguments.\n",
       "        try {\n",
       "            var callback = fig[\"handle_\" + msg_type];\n",
       "        } catch (e) {\n",
       "            console.log(\"No handler for the '\" + msg_type + \"' message type: \", msg);\n",
       "            return;\n",
       "        }\n",
       "\n",
       "        if (callback) {\n",
       "            try {\n",
       "                // console.log(\"Handling '\" + msg_type + \"' message: \", msg);\n",
       "                callback(fig, msg);\n",
       "            } catch (e) {\n",
       "                console.log(\"Exception inside the 'handler_\" + msg_type + \"' callback:\", e, e.stack, msg);\n",
       "            }\n",
       "        }\n",
       "    };\n",
       "}\n",
       "\n",
       "// from http://stackoverflow.com/questions/1114465/getting-mouse-location-in-canvas\n",
       "mpl.findpos = function(e) {\n",
       "    //this section is from http://www.quirksmode.org/js/events_properties.html\n",
       "    var targ;\n",
       "    if (!e)\n",
       "        e = window.event;\n",
       "    if (e.target)\n",
       "        targ = e.target;\n",
       "    else if (e.srcElement)\n",
       "        targ = e.srcElement;\n",
       "    if (targ.nodeType == 3) // defeat Safari bug\n",
       "        targ = targ.parentNode;\n",
       "\n",
       "    // jQuery normalizes the pageX and pageY\n",
       "    // pageX,Y are the mouse positions relative to the document\n",
       "    // offset() returns the position of the element relative to the document\n",
       "    var x = e.pageX - $(targ).offset().left;\n",
       "    var y = e.pageY - $(targ).offset().top;\n",
       "\n",
       "    return {\"x\": x, \"y\": y};\n",
       "};\n",
       "\n",
       "/*\n",
       " * return a copy of an object with only non-object keys\n",
       " * we need this to avoid circular references\n",
       " * http://stackoverflow.com/a/24161582/3208463\n",
       " */\n",
       "function simpleKeys (original) {\n",
       "  return Object.keys(original).reduce(function (obj, key) {\n",
       "    if (typeof original[key] !== 'object')\n",
       "        obj[key] = original[key]\n",
       "    return obj;\n",
       "  }, {});\n",
       "}\n",
       "\n",
       "mpl.figure.prototype.mouse_event = function(event, name) {\n",
       "    var canvas_pos = mpl.findpos(event)\n",
       "\n",
       "    if (name === 'button_press')\n",
       "    {\n",
       "        this.canvas.focus();\n",
       "        this.canvas_div.focus();\n",
       "    }\n",
       "\n",
       "    var x = canvas_pos.x * mpl.ratio;\n",
       "    var y = canvas_pos.y * mpl.ratio;\n",
       "\n",
       "    this.send_message(name, {x: x, y: y, button: event.button,\n",
       "                             step: event.step,\n",
       "                             guiEvent: simpleKeys(event)});\n",
       "\n",
       "    /* This prevents the web browser from automatically changing to\n",
       "     * the text insertion cursor when the button is pressed.  We want\n",
       "     * to control all of the cursor setting manually through the\n",
       "     * 'cursor' event from matplotlib */\n",
       "    event.preventDefault();\n",
       "    return false;\n",
       "}\n",
       "\n",
       "mpl.figure.prototype._key_event_extra = function(event, name) {\n",
       "    // Handle any extra behaviour associated with a key event\n",
       "}\n",
       "\n",
       "mpl.figure.prototype.key_event = function(event, name) {\n",
       "\n",
       "    // Prevent repeat events\n",
       "    if (name == 'key_press')\n",
       "    {\n",
       "        if (event.which === this._key)\n",
       "            return;\n",
       "        else\n",
       "            this._key = event.which;\n",
       "    }\n",
       "    if (name == 'key_release')\n",
       "        this._key = null;\n",
       "\n",
       "    var value = '';\n",
       "    if (event.ctrlKey && event.which != 17)\n",
       "        value += \"ctrl+\";\n",
       "    if (event.altKey && event.which != 18)\n",
       "        value += \"alt+\";\n",
       "    if (event.shiftKey && event.which != 16)\n",
       "        value += \"shift+\";\n",
       "\n",
       "    value += 'k';\n",
       "    value += event.which.toString();\n",
       "\n",
       "    this._key_event_extra(event, name);\n",
       "\n",
       "    this.send_message(name, {key: value,\n",
       "                             guiEvent: simpleKeys(event)});\n",
       "    return false;\n",
       "}\n",
       "\n",
       "mpl.figure.prototype.toolbar_button_onclick = function(name) {\n",
       "    if (name == 'download') {\n",
       "        this.handle_save(this, null);\n",
       "    } else {\n",
       "        this.send_message(\"toolbar_button\", {name: name});\n",
       "    }\n",
       "};\n",
       "\n",
       "mpl.figure.prototype.toolbar_button_onmouseover = function(tooltip) {\n",
       "    this.message.textContent = tooltip;\n",
       "};\n",
       "mpl.toolbar_items = [[\"Home\", \"Reset original view\", \"fa fa-home icon-home\", \"home\"], [\"Back\", \"Back to previous view\", \"fa fa-arrow-left icon-arrow-left\", \"back\"], [\"Forward\", \"Forward to next view\", \"fa fa-arrow-right icon-arrow-right\", \"forward\"], [\"\", \"\", \"\", \"\"], [\"Pan\", \"Pan axes with left mouse, zoom with right\", \"fa fa-arrows icon-move\", \"pan\"], [\"Zoom\", \"Zoom to rectangle\", \"fa fa-square-o icon-check-empty\", \"zoom\"], [\"\", \"\", \"\", \"\"], [\"Download\", \"Download plot\", \"fa fa-floppy-o icon-save\", \"download\"]];\n",
       "\n",
       "mpl.extensions = [\"eps\", \"jpeg\", \"pdf\", \"png\", \"ps\", \"raw\", \"svg\", \"tif\"];\n",
       "\n",
       "mpl.default_extension = \"png\";var comm_websocket_adapter = function(comm) {\n",
       "    // Create a \"websocket\"-like object which calls the given IPython comm\n",
       "    // object with the appropriate methods. Currently this is a non binary\n",
       "    // socket, so there is still some room for performance tuning.\n",
       "    var ws = {};\n",
       "\n",
       "    ws.close = function() {\n",
       "        comm.close()\n",
       "    };\n",
       "    ws.send = function(m) {\n",
       "        //console.log('sending', m);\n",
       "        comm.send(m);\n",
       "    };\n",
       "    // Register the callback with on_msg.\n",
       "    comm.on_msg(function(msg) {\n",
       "        //console.log('receiving', msg['content']['data'], msg);\n",
       "        // Pass the mpl event to the overridden (by mpl) onmessage function.\n",
       "        ws.onmessage(msg['content']['data'])\n",
       "    });\n",
       "    return ws;\n",
       "}\n",
       "\n",
       "mpl.mpl_figure_comm = function(comm, msg) {\n",
       "    // This is the function which gets called when the mpl process\n",
       "    // starts-up an IPython Comm through the \"matplotlib\" channel.\n",
       "\n",
       "    var id = msg.content.data.id;\n",
       "    // Get hold of the div created by the display call when the Comm\n",
       "    // socket was opened in Python.\n",
       "    var element = $(\"#\" + id);\n",
       "    var ws_proxy = comm_websocket_adapter(comm)\n",
       "\n",
       "    function ondownload(figure, format) {\n",
       "        window.open(figure.imageObj.src);\n",
       "    }\n",
       "\n",
       "    var fig = new mpl.figure(id, ws_proxy,\n",
       "                           ondownload,\n",
       "                           element.get(0));\n",
       "\n",
       "    // Call onopen now - mpl needs it, as it is assuming we've passed it a real\n",
       "    // web socket which is closed, not our websocket->open comm proxy.\n",
       "    ws_proxy.onopen();\n",
       "\n",
       "    fig.parent_element = element.get(0);\n",
       "    fig.cell_info = mpl.find_output_cell(\"<div id='\" + id + \"'></div>\");\n",
       "    if (!fig.cell_info) {\n",
       "        console.error(\"Failed to find cell for figure\", id, fig);\n",
       "        return;\n",
       "    }\n",
       "\n",
       "    var output_index = fig.cell_info[2]\n",
       "    var cell = fig.cell_info[0];\n",
       "\n",
       "};\n",
       "\n",
       "mpl.figure.prototype.handle_close = function(fig, msg) {\n",
       "    var width = fig.canvas.width/mpl.ratio\n",
       "    fig.root.unbind('remove')\n",
       "\n",
       "    // Update the output cell to use the data from the current canvas.\n",
       "    fig.push_to_output();\n",
       "    var dataURL = fig.canvas.toDataURL();\n",
       "    // Re-enable the keyboard manager in IPython - without this line, in FF,\n",
       "    // the notebook keyboard shortcuts fail.\n",
       "    IPython.keyboard_manager.enable()\n",
       "    $(fig.parent_element).html('<img src=\"' + dataURL + '\" width=\"' + width + '\">');\n",
       "    fig.close_ws(fig, msg);\n",
       "}\n",
       "\n",
       "mpl.figure.prototype.close_ws = function(fig, msg){\n",
       "    fig.send_message('closing', msg);\n",
       "    // fig.ws.close()\n",
       "}\n",
       "\n",
       "mpl.figure.prototype.push_to_output = function(remove_interactive) {\n",
       "    // Turn the data on the canvas into data in the output cell.\n",
       "    var width = this.canvas.width/mpl.ratio\n",
       "    var dataURL = this.canvas.toDataURL();\n",
       "    this.cell_info[1]['text/html'] = '<img src=\"' + dataURL + '\" width=\"' + width + '\">';\n",
       "}\n",
       "\n",
       "mpl.figure.prototype.updated_canvas_event = function() {\n",
       "    // Tell IPython that the notebook contents must change.\n",
       "    IPython.notebook.set_dirty(true);\n",
       "    this.send_message(\"ack\", {});\n",
       "    var fig = this;\n",
       "    // Wait a second, then push the new image to the DOM so\n",
       "    // that it is saved nicely (might be nice to debounce this).\n",
       "    setTimeout(function () { fig.push_to_output() }, 1000);\n",
       "}\n",
       "\n",
       "mpl.figure.prototype._init_toolbar = function() {\n",
       "    var fig = this;\n",
       "\n",
       "    var nav_element = $('<div/>');\n",
       "    nav_element.attr('style', 'width: 100%');\n",
       "    this.root.append(nav_element);\n",
       "\n",
       "    // Define a callback function for later on.\n",
       "    function toolbar_event(event) {\n",
       "        return fig.toolbar_button_onclick(event['data']);\n",
       "    }\n",
       "    function toolbar_mouse_event(event) {\n",
       "        return fig.toolbar_button_onmouseover(event['data']);\n",
       "    }\n",
       "\n",
       "    for(var toolbar_ind in mpl.toolbar_items){\n",
       "        var name = mpl.toolbar_items[toolbar_ind][0];\n",
       "        var tooltip = mpl.toolbar_items[toolbar_ind][1];\n",
       "        var image = mpl.toolbar_items[toolbar_ind][2];\n",
       "        var method_name = mpl.toolbar_items[toolbar_ind][3];\n",
       "\n",
       "        if (!name) { continue; };\n",
       "\n",
       "        var button = $('<button class=\"btn btn-default\" href=\"#\" title=\"' + name + '\"><i class=\"fa ' + image + ' fa-lg\"></i></button>');\n",
       "        button.click(method_name, toolbar_event);\n",
       "        button.mouseover(tooltip, toolbar_mouse_event);\n",
       "        nav_element.append(button);\n",
       "    }\n",
       "\n",
       "    // Add the status bar.\n",
       "    var status_bar = $('<span class=\"mpl-message\" style=\"text-align:right; float: right;\"/>');\n",
       "    nav_element.append(status_bar);\n",
       "    this.message = status_bar[0];\n",
       "\n",
       "    // Add the close button to the window.\n",
       "    var buttongrp = $('<div class=\"btn-group inline pull-right\"></div>');\n",
       "    var button = $('<button class=\"btn btn-mini btn-primary\" href=\"#\" title=\"Stop Interaction\"><i class=\"fa fa-power-off icon-remove icon-large\"></i></button>');\n",
       "    button.click(function (evt) { fig.handle_close(fig, {}); } );\n",
       "    button.mouseover('Stop Interaction', toolbar_mouse_event);\n",
       "    buttongrp.append(button);\n",
       "    var titlebar = this.root.find($('.ui-dialog-titlebar'));\n",
       "    titlebar.prepend(buttongrp);\n",
       "}\n",
       "\n",
       "mpl.figure.prototype._root_extra_style = function(el){\n",
       "    var fig = this\n",
       "    el.on(\"remove\", function(){\n",
       "\tfig.close_ws(fig, {});\n",
       "    });\n",
       "}\n",
       "\n",
       "mpl.figure.prototype._canvas_extra_style = function(el){\n",
       "    // this is important to make the div 'focusable\n",
       "    el.attr('tabindex', 0)\n",
       "    // reach out to IPython and tell the keyboard manager to turn it's self\n",
       "    // off when our div gets focus\n",
       "\n",
       "    // location in version 3\n",
       "    if (IPython.notebook.keyboard_manager) {\n",
       "        IPython.notebook.keyboard_manager.register_events(el);\n",
       "    }\n",
       "    else {\n",
       "        // location in version 2\n",
       "        IPython.keyboard_manager.register_events(el);\n",
       "    }\n",
       "\n",
       "}\n",
       "\n",
       "mpl.figure.prototype._key_event_extra = function(event, name) {\n",
       "    var manager = IPython.notebook.keyboard_manager;\n",
       "    if (!manager)\n",
       "        manager = IPython.keyboard_manager;\n",
       "\n",
       "    // Check for shift+enter\n",
       "    if (event.shiftKey && event.which == 13) {\n",
       "        this.canvas_div.blur();\n",
       "        // select the cell after this one\n",
       "        var index = IPython.notebook.find_cell_index(this.cell_info[0]);\n",
       "        IPython.notebook.select(index + 1);\n",
       "    }\n",
       "}\n",
       "\n",
       "mpl.figure.prototype.handle_save = function(fig, msg) {\n",
       "    fig.ondownload(fig, null);\n",
       "}\n",
       "\n",
       "\n",
       "mpl.find_output_cell = function(html_output) {\n",
       "    // Return the cell and output element which can be found *uniquely* in the notebook.\n",
       "    // Note - this is a bit hacky, but it is done because the \"notebook_saving.Notebook\"\n",
       "    // IPython event is triggered only after the cells have been serialised, which for\n",
       "    // our purposes (turning an active figure into a static one), is too late.\n",
       "    var cells = IPython.notebook.get_cells();\n",
       "    var ncells = cells.length;\n",
       "    for (var i=0; i<ncells; i++) {\n",
       "        var cell = cells[i];\n",
       "        if (cell.cell_type === 'code'){\n",
       "            for (var j=0; j<cell.output_area.outputs.length; j++) {\n",
       "                var data = cell.output_area.outputs[j];\n",
       "                if (data.data) {\n",
       "                    // IPython >= 3 moved mimebundle to data attribute of output\n",
       "                    data = data.data;\n",
       "                }\n",
       "                if (data['text/html'] == html_output) {\n",
       "                    return [cell, data, j];\n",
       "                }\n",
       "            }\n",
       "        }\n",
       "    }\n",
       "}\n",
       "\n",
       "// Register the function which deals with the matplotlib target/channel.\n",
       "// The kernel may be null if the page has been refreshed.\n",
       "if (IPython.notebook.kernel != null) {\n",
       "    IPython.notebook.kernel.comm_manager.register_target('matplotlib', mpl.mpl_figure_comm);\n",
       "}\n"
      ],
      "text/plain": [
       "<IPython.core.display.Javascript object>"
      ]
     },
     "metadata": {},
     "output_type": "display_data"
    },
    {
     "data": {
      "text/html": [
       "<img src=\"data:image/png;base64,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\" width=\"640\">"
      ],
      "text/plain": [
       "<IPython.core.display.HTML object>"
      ]
     },
     "metadata": {},
     "output_type": "display_data"
    }
   ],
   "source": [
    "%matplotlib notebook\n",
    "plt.scatter(df.y,df.x)\n",
    "plt.xlabel(\"X\")\n",
    "plt.ylabel(\"Y\")\n",
    "plt.title(\"Regression linéaire simple\")\n",
    "plt.show()"
   ]
  },
  {
   "cell_type": "code",
   "execution_count": 9,
   "metadata": {},
   "outputs": [
    {
     "name": "stdout",
     "output_type": "stream",
     "text": [
      "a= 0.9448275862068966 \n",
      "b= 5.5 \n",
      "R= 0.610585810984728 \n",
      "P value= 0.27402836112315543\n"
     ]
    }
   ],
   "source": [
    "from scipy import stats as stat\n",
    "\n",
    "a, b, r,p,_= stat.linregress(df.y, df.x)\n",
    "print(\"a=\",a,\"\\nb=\",b,\"\\nR=\",r,\"\\nP value=\",p)"
   ]
  },
  {
   "cell_type": "code",
   "execution_count": 10,
   "metadata": {},
   "outputs": [],
   "source": [
    "def prevision(x):\n",
    "   return a * x + b"
   ]
  },
  {
   "cell_type": "code",
   "execution_count": 11,
   "metadata": {},
   "outputs": [
    {
     "data": {
      "text/plain": [
       "[<matplotlib.lines.Line2D at 0x2815bd1d948>]"
      ]
     },
     "execution_count": 11,
     "metadata": {},
     "output_type": "execute_result"
    }
   ],
   "source": [
    "P = prevision(df.y)\n",
    "plt.plot(df.y, P, c='r')"
   ]
  },
  {
   "cell_type": "code",
   "execution_count": null,
   "metadata": {},
   "outputs": [],
   "source": []
  }
 ],
 "metadata": {
  "kernelspec": {
   "display_name": "Python 3",
   "language": "python",
   "name": "python3"
  },
  "language_info": {
   "codemirror_mode": {
    "name": "ipython",
    "version": 3
   },
   "file_extension": ".py",
   "mimetype": "text/x-python",
   "name": "python",
   "nbconvert_exporter": "python",
   "pygments_lexer": "ipython3",
   "version": "3.7.6"
  }
 },
 "nbformat": 4,
 "nbformat_minor": 4
}
