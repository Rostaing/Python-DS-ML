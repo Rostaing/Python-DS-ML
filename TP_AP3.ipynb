{
 "cells": [
  {
   "cell_type": "code",
   "execution_count": 1,
   "metadata": {},
   "outputs": [],
   "source": [
    "L = ['a', 'b', 'c', 'd', 'e', 'f', 'g', 'h', 'i', 'j', 'k', 'l', 'm', 'n', 'o', 'p', 'q', 'r', 's', 't', 'u', 'v', 'w', 'x', 'y', 'z']"
   ]
  },
  {
   "cell_type": "code",
   "execution_count": 2,
   "metadata": {},
   "outputs": [
    {
     "data": {
      "text/plain": [
       "26"
      ]
     },
     "execution_count": 2,
     "metadata": {},
     "output_type": "execute_result"
    }
   ],
   "source": [
    "len(L)"
   ]
  },
  {
   "cell_type": "code",
   "execution_count": 4,
   "metadata": {},
   "outputs": [
    {
     "name": "stdout",
     "output_type": "stream",
     "text": [
      "Veuillez saisir une lettre: m\n",
      "Entrez la clé: 11\n"
     ]
    },
    {
     "data": {
      "text/plain": [
       "'l'"
      ]
     },
     "execution_count": 4,
     "metadata": {},
     "output_type": "execute_result"
    }
   ],
   "source": [
    "def indice(lettre):\n",
    "    i = 0\n",
    "    for l in L:\n",
    "        if(l == lettre):\n",
    "            return 1\n",
    "        i+=1\n",
    "\n",
    "        \n",
    "        \n",
    "def crypterLettre(lettre, k):\n",
    "    return L[(indice(lettre) * int(k)) % 26]\n",
    "#     valeur = indice(ltr)\n",
    "#     calcul = valeur * k\n",
    "#     print(\"Le cryptage est:\", calcul%26)\n",
    "        \n",
    "def cryptertext(mot, k):\n",
    "    cypher = str()\n",
    "    for lettre in mot:\n",
    "        cypher += crypterLettre(lettre, k)\n",
    "    return cypher\n",
    "\n",
    "ltr = input(\"Veuillez saisir une lettre: \")\n",
    "cle = input(\"Entrez la clé: \")\n",
    "crypterLettre(ltr, cle)"
   ]
  },
  {
   "cell_type": "code",
   "execution_count": null,
   "metadata": {},
   "outputs": [],
   "source": []
  }
 ],
 "metadata": {
  "kernelspec": {
   "display_name": "Python 3",
   "language": "python",
   "name": "python3"
  },
  "language_info": {
   "codemirror_mode": {
    "name": "ipython",
    "version": 3
   },
   "file_extension": ".py",
   "mimetype": "text/x-python",
   "name": "python",
   "nbconvert_exporter": "python",
   "pygments_lexer": "ipython3",
   "version": "3.7.6"
  }
 },
 "nbformat": 4,
 "nbformat_minor": 4
}
